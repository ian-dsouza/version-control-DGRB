{
 "cells": [
  {
   "cell_type": "code",
   "execution_count": 1,
   "id": "e92cd374",
   "metadata": {},
   "outputs": [],
   "source": [
    "%reset"
   ]
  },
  {
   "cell_type": "code",
   "execution_count": 2,
   "id": "33681fef",
   "metadata": {},
   "outputs": [],
   "source": [
    "import sys\n",
    "\n",
    "sys.path.insert(0, '/home/users/ids29/DGRB')"
   ]
  },
  {
   "cell_type": "code",
   "execution_count": 3,
   "id": "d8accada",
   "metadata": {},
   "outputs": [],
   "source": [
    "import aegis\n",
    "import numpy as np\n",
    "import torch\n",
    "import healpy as hp\n",
    "import pickle as pk\n",
    "from astropy import units\n",
    "from astropy import constants as c\n",
    "import matplotlib.pyplot as plt\n",
    "from os import listdir\n",
    "import os\n",
    "from sbi.inference import SNLE, SNPE#, prepare_for_sbi, simulate_for_sbi\n",
    "from sbi import utils as utils\n",
    "from sbi import analysis as analysis\n",
    "# from sbi.inference.base import infer\n",
    "from getdist import plots, MCSamples\n",
    "from joblib import Parallel, delayed, parallel_backend\n",
    "from scipy.integrate import quad, simpson\n",
    "import pickle\n",
    "from scipy.stats import norm\n",
    "\n",
    "%matplotlib inline"
   ]
  },
  {
   "cell_type": "code",
   "execution_count": 4,
   "id": "f04ab14f",
   "metadata": {},
   "outputs": [],
   "source": [
    "grains=1000\n",
    "num_simulations = 480\n",
    "num_workers = 48"
   ]
  },
  {
   "cell_type": "code",
   "execution_count": 5,
   "id": "1534fabb",
   "metadata": {},
   "outputs": [],
   "source": [
    "parameter_range_aegis = [[], []]\n",
    "abundance_luminosity_and_spectrum_list = []\n",
    "source_class_list = []\n",
    "parameter_names = []\n",
    "energy_range = [1000, 100000] #MeV \n",
    "energy_range_gen = [energy_range[0]*0.5, energy_range[1]*18]\n",
    "max_radius = 8.5 + 20*2 #kpc\n",
    "exposure = 2000*10*0.2 #cm^2 yr\n",
    "flux_cut = 1e-9 #photons/cm^2/s\n",
    "angular_cut = np.pi #10*u.deg.to('rad') #degrees\n",
    "angular_cut_gen = np.pi #angular_cut*1.5\n",
    "lat_cut = 0 #2*u.deg.to('rad') #degrees\n",
    "lat_cut_gen = lat_cut*0.5"
   ]
  },
  {
   "cell_type": "code",
   "execution_count": 6,
   "id": "3d4064bb",
   "metadata": {},
   "outputs": [],
   "source": [
    "my_cosmology = 'Planck18'\n",
    "z_range = [0, 14]\n",
    "luminosity_range = 10.0**np.array([37, 50]) # Minimum value set by considering Andromeda distance using Fermi as benchmark and receiving 0.1 photon at detector side\n",
    "my_AEGIS = aegis.aegis(abundance_luminosity_and_spectrum_list, source_class_list, parameter_range_aegis, energy_range, luminosity_range, max_radius, exposure, angular_cut, lat_cut, flux_cut, energy_range_gen=energy_range_gen, cosmology = my_cosmology, z_range = z_range, verbose = False)\n",
    "my_AEGIS.angular_cut_gen, my_AEGIS.lat_cut_gen = angular_cut_gen, lat_cut_gen"
   ]
  },
  {
   "cell_type": "code",
   "execution_count": 7,
   "id": "1d2cb393",
   "metadata": {},
   "outputs": [],
   "source": [
    "def spec_poisson(energy, params):\n",
    "\n",
    "    Phi_Poisson =  params[0] \n",
    "    \n",
    "    Gamma = 2.2\n",
    "    Emin, Emax = energy_range[0], energy_range[1]\n",
    "    exposure_det = exposure*units.yr.to('s') # cm^2 s\n",
    "    expected_photons = 772_340 # Value such that it produces the twice number of photons (after mock_observe is applied) as detected by Fermi-LAT, under the condition that Phi_Poisson = 2\n",
    "    num_photons_exposure_solidAngle = expected_photons / exposure_det / (4*np.pi) # photons/cm^2/sec/sr\n",
    "    normalization =  (Emax**(1-Gamma) - Emin**(1-Gamma)) / (1-Gamma) \n",
    "    prop_const = num_photons_exposure_solidAngle / normalization\n",
    "    return Phi_Poisson * prop_const * energy**(-Gamma)"
   ]
  },
  {
   "cell_type": "code",
   "execution_count": 8,
   "id": "28f2cc1a",
   "metadata": {},
   "outputs": [],
   "source": [
    "Gamma_SFG = 2.2\n",
    "gamma_energy_bounds = energy_range_gen  # in MeV\n",
    "E_photon_GeV_SFG = ((-Gamma_SFG + 1) / (-Gamma_SFG + 2) *\n",
    "                (gamma_energy_bounds[1]**(-Gamma_SFG + 2) - gamma_energy_bounds[0]**(-Gamma_SFG + 2)) /\n",
    "                (gamma_energy_bounds[1]**(-Gamma_SFG + 1) - gamma_energy_bounds[0]**(-Gamma_SFG + 1))) # in MeV\n",
    "E_photon_SFG = E_photon_GeV_SFG * 1.60218e-6  # erg\n",
    "\n",
    "res = int(1e4)\n",
    "log_LIRs = np.linspace(-5, 25, res)"
   ]
  },
  {
   "cell_type": "code",
   "execution_count": 9,
   "id": "b2dc38e3",
   "metadata": {},
   "outputs": [],
   "source": [
    "def ZL_SFG1(z, l, params):\n",
    "\n",
    "\n",
    "    Phi_star = params[1]\n",
    "\n",
    "    l_erg = l * E_photon_SFG # erg/s\n",
    "    LFs = np.zeros_like(l)\n",
    "\n",
    "    def Phi_IR(log_LIR): #log_LIR = log_10(L_IR / solar_luminosity) # unitless\n",
    "\n",
    "        # from Table 8 in Gruppioni et al.\n",
    "        # Phi_star = 10**(-2.08) # Mpc^{-3} dex^{-1}\n",
    "        Lstar = 10**(9.46) # Solar luminosity\n",
    "        alpha = 1.00\n",
    "        sigma = 0.50\n",
    "\n",
    "        LIR = 10**log_LIR # solar luminosity\n",
    "\n",
    "        Phi_IR = Phi_star * (LIR / Lstar)**(1 - alpha) * np.exp(-1 / (2 * sigma**2) * (np.log10(1 + LIR / Lstar))**2) # from Gruppioni paper eqn (3)  \t\n",
    "\n",
    "        return Phi_IR\n",
    "\n",
    "    def PDF_log_Lgamma_given_log_LIR(log_LIR, log_Lgamma): #log_LIR = log_10(L_IR / solar_luminosity) # unitless\n",
    "        LIR_solar_luminosity = 10**log_LIR # Solar luminosity\n",
    "        L_IR_erg_second = LIR_solar_luminosity * 3.826e33 # erg/s\n",
    "\n",
    "        a = 1.09\n",
    "        g = 40.8\n",
    "        sigma_SF = 0.202 \n",
    "\n",
    "        mean = g + a * np.log10(L_IR_erg_second / 1e45)\n",
    "        std = sigma_SF\n",
    "\n",
    "        return norm.pdf(log_Lgamma, loc=mean, scale=std)\n",
    "\n",
    "    def integrand(PhiIR_of_logLIRs, log_LIRs, log_Lgamma):\n",
    "        return PhiIR_of_logLIRs * PDF_log_Lgamma_given_log_LIR(log_LIRs, log_Lgamma)\n",
    "\n",
    "    PhiIR_of_logLIRs = Phi_IR(log_LIRs)\n",
    "\n",
    "    for i in range(LFs.shape[0]):\n",
    "        for j in range(LFs.shape[1]):\n",
    "            LFs[i,j] = simpson(integrand(PhiIR_of_logLIRs, log_LIRs, np.log10(l_erg[i,j])), x=log_LIRs)\n",
    "    return 1e-9 / np.log(10) / l * LFs # LF has spatial units of Mpc^{-3}. We need to convert this to kpc^{-3}. Hence the factor of 1e-9\n",
    "\n",
    "\n",
    "def spec_SFG1(energy, params):\n",
    "    Gamma = 2.2\n",
    "    return energy**(-Gamma)"
   ]
  },
  {
   "cell_type": "code",
   "execution_count": 10,
   "id": "c7a7790a",
   "metadata": {},
   "outputs": [],
   "source": [
    "als_Poisson = [spec_poisson]\n",
    "als_SFG1 = [ZL_SFG1, spec_SFG1]\n",
    "my_AEGIS.abun_lum_spec = [als_Poisson, als_SFG1]\n",
    "my_AEGIS.source_class_list = ['isotropic_diffuse', 'extragalactic_isotropic_faint_single_spectrum']"
   ]
  },
  {
   "cell_type": "code",
   "execution_count": 11,
   "id": "5eefb8ec",
   "metadata": {},
   "outputs": [],
   "source": [
    "# a simple simulator with the total number of photons as the summary statistic\n",
    "def simulator(params):\n",
    "\n",
    "    input_params = params.numpy()\n",
    "\n",
    "    source_info = my_AEGIS.create_sources(input_params, grains=grains, epsilon=1e-2)\n",
    "    photon_info = my_AEGIS.generate_photons_from_sources(input_params, source_info, grains=grains) \n",
    "    obs_info = {'psf_fits_path': '/home/users/ids29/DGRB/FERMI_files/psf_P8R3_ULTRACLEANVETO_V2_PSF.fits', 'edisp_fits_path': '/home/users/ids29/DGRB/FERMI_files/edisp_P8R3_ULTRACLEANVETO_V2_PSF.fits', 'event_type': 'PSF3', 'exposure_map': None}\n",
    "    obs_photon_info = my_AEGIS.mock_observe(photon_info, obs_info)\n",
    "    \n",
    "    return obs_photon_info"
   ]
  },
  {
   "cell_type": "code",
   "execution_count": 12,
   "id": "7cb2ba9d",
   "metadata": {},
   "outputs": [],
   "source": [
    "def manual_simulate_for_sbi(proposal, num_simulations=1000, num_workers=32):\n",
    "    \"\"\"\n",
    "    Simulates the model in parallel using joblib.\n",
    "    Each simulation call samples a parameter from the proposal and passes the index to the simulator.\n",
    "    \"\"\"\n",
    "    def run_simulation(i):\n",
    "        if i % 10 == 0:\n",
    "            print(f\"i= {i}\")\n",
    "        # Sample a parameter from the proposal (sbi.utils.BoxUniform has a .sample() method)\n",
    "        theta_i = proposal.sample()\n",
    "        photon_info = simulator(theta_i)\n",
    "\n",
    "        with open(f'train_data_kerr_{i}.pkl', 'wb') as f:\n",
    "            pickle.dump(photon_info, f)\n",
    "\n",
    "        torch.save(theta_i, f'train_thetas_kerr_{i}.pt')\n",
    "\n",
    "\n",
    "        # return theta_i , photon_info\n",
    "\n",
    "    # Run simulations in parallel using joblib.\n",
    "    # Switch to the threading backend\n",
    "    with parallel_backend('threading', n_jobs=num_workers):\n",
    "        Parallel(verbose=5, timeout=None)(delayed(run_simulation)(i) for i in range(num_simulations))\n",
    "\n",
    "    # theta_list = zip(*results)\n",
    "\n",
    "    # theta_tensor = torch.stack(theta_list, dim=0).to(torch.float32)\n",
    "    \n",
    "    \n",
    "    # return theta_tensor #, photon_info_list"
   ]
  },
  {
   "cell_type": "code",
   "execution_count": 13,
   "id": "508cf1db",
   "metadata": {},
   "outputs": [],
   "source": [
    "# # Define the prior using sbi.utils.BoxUniform\n",
    "Phi_Poisson_training_range = [0, 1.0944]\n",
    "Phi_SFG_training_range = [0, 0.1]\n",
    "\n",
    "# prior_range = torch.tensor([[Phi_Poisson_training_range[0], Phi_SFG_training_range[0]],\n",
    "#                             [Phi_Poisson_training_range[1], Phi_SFG_training_range[1]]])\n",
    "\n",
    "# prior = utils.BoxUniform(low=prior_range[0], high=prior_range[1])\n",
    "\n",
    "# manual_simulate_for_sbi(prior, num_simulations=num_simulations, num_workers=num_workers)"
   ]
  },
  {
   "cell_type": "code",
   "execution_count": 14,
   "id": "6a11414b",
   "metadata": {},
   "outputs": [],
   "source": [
    "# # 'photon_info_list' is a list of dictionaries\n",
    "\n",
    "# # Save to file\n",
    "# with open('train_data_Poisson_SFG_kerr_336.pkl', 'wb') as f:\n",
    "#     pickle.dump(train_photon_info, f)\n",
    "\n",
    "# # Save to file\n",
    "# torch.save(train_thetas, 'train_thetas_Poisson_SFG_kerr_336.pt')\n",
    "# torch.save(prior_range, 'prior_range_Poisson_SFG_kerr_336.pt')"
   ]
  },
  {
   "cell_type": "markdown",
   "id": "29101efa",
   "metadata": {},
   "source": [
    "All three Test Cases"
   ]
  },
  {
   "cell_type": "code",
   "execution_count": 15,
   "id": "13524a2a",
   "metadata": {},
   "outputs": [],
   "source": [
    "# test_Phis_Poisson_only = [1,0] \n",
    "# test_Phis_SFG_only = [0, ]\n",
    "# test_Phis = np.array([[],\n",
    "#                       [],\n",
    "#                       []])"
   ]
  },
  {
   "cell_type": "markdown",
   "id": "adba6065",
   "metadata": {},
   "source": [
    "Test case 1: only Poisson contirbution"
   ]
  },
  {
   "cell_type": "code",
   "execution_count": 16,
   "id": "7fa771c8",
   "metadata": {},
   "outputs": [],
   "source": [
    "# test_Phis_1 = [0.9969, 0] # [Phi_Poisson, Phi_SFG]\n",
    "# test_theta_1 = torch.tensor([test_Phis_1[0], test_Phis_1[1]]) # A_Poisson = 1\n",
    "# test_photon_info_1 = simulator(test_theta_1)\n",
    "# print(f\"Poisson-only case: Number of photons after mock_observe: {test_photon_info_1['energies'].size}\")\n",
    "# # Poisson-only case: Number of photons after mock_observe: 352298"
   ]
  },
  {
   "cell_type": "code",
   "execution_count": 17,
   "id": "2d5ce95f",
   "metadata": {},
   "outputs": [],
   "source": [
    "# torch.save(test_theta_1, r'test_theta_Poisson_only.pt')\n",
    "\n",
    "# with open(r'test_data_Poisson_only.pkl', 'wb') as f:\n",
    "#     pickle.dump(test_photon_info_1, f)"
   ]
  },
  {
   "cell_type": "markdown",
   "id": "8a8780d9",
   "metadata": {},
   "source": [
    "Test case 2: only SFG contribution"
   ]
  },
  {
   "cell_type": "code",
   "execution_count": 18,
   "id": "fedc658c",
   "metadata": {},
   "outputs": [],
   "source": [
    "# test_Phis_2 = [0, 0.09127] # [Phi_Poisson, Phi_SFG]\n",
    "# test_theta_2 = torch.tensor([test_Phis_2[0], test_Phis_2[1]]) # A_Poisson = 1\n",
    "# test_photon_info_2 = simulator(test_theta_2)\n",
    "# print(f\"SFG only case: Number of photons after mock_observe: {test_photon_info_2['energies'].size}\")\n",
    "# # SFG only case: Number of photons after mock_observe: 352042"
   ]
  },
  {
   "cell_type": "code",
   "execution_count": 19,
   "id": "a655ca2a",
   "metadata": {},
   "outputs": [],
   "source": [
    "# torch.save(test_theta_2, r'test_theta_SFG_only.pt')\n",
    "\n",
    "# with open(r'test_data_SFG_only.pkl', 'wb') as f:\n",
    "#     pickle.dump(test_photon_info_2, f)"
   ]
  },
  {
   "cell_type": "markdown",
   "id": "c835db25",
   "metadata": {},
   "source": [
    "Test case 3: SFG + Poisson - 50% + 50%"
   ]
  },
  {
   "cell_type": "code",
   "execution_count": 20,
   "id": "d06c8554",
   "metadata": {},
   "outputs": [],
   "source": [
    "# test_Phis_3 = [0.9969/2, 0.09127/2] # [Phi_Poisson, Phi_SFG]\n",
    "# test_theta_3 = torch.tensor([test_Phis_3[0], test_Phis_3[1]]) # A_Poisson = 1\n",
    "# test_photon_info_3 = simulator(test_theta_3)\n",
    "# print(f\"Poisson + SFG case: Number of photons after mock_observe: {test_photon_info_3['energies'].size}\")\n",
    "# # Poisson + SFG case: Number of photons after mock_observe: 352209"
   ]
  },
  {
   "cell_type": "code",
   "execution_count": 21,
   "id": "d054ee91",
   "metadata": {},
   "outputs": [],
   "source": [
    "# torch.save(test_theta_3, r'test_theta_Poisson_SFG.pt')\n",
    "\n",
    "# with open(r'test_data_Poisson_SFG.pkl', 'wb') as f:\n",
    "#     pickle.dump(test_photon_info_3, f)"
   ]
  },
  {
   "cell_type": "markdown",
   "id": "d1f17e38",
   "metadata": {},
   "source": [
    "Generate a test case withthe max theta values to decide the value of N_side for the counts-only histogram"
   ]
  },
  {
   "cell_type": "code",
   "execution_count": null,
   "id": "49faae80",
   "metadata": {},
   "outputs": [
    {
     "name": "stdout",
     "output_type": "stream",
     "text": [
      "Poisson + SFG case: Number of photons after mock_observe: 772110\n"
     ]
    }
   ],
   "source": [
    "# test_theta = torch.tensor([Phi_Poisson_training_range[1], Phi_SFG_training_range[1]]) # [Phi_Poisson, Phi_SFG]\n",
    "# test_photon_info = simulator(test_theta)\n",
    "# print(f\"Poisson + SFG case: Number of photons after mock_observe: {test_photon_info['energies'].size}\")\n",
    "# # Poisson + SFG case: Number of photons after mock_observe: 772110"
   ]
  },
  {
   "cell_type": "code",
   "execution_count": null,
   "id": "2896109d",
   "metadata": {},
   "outputs": [],
   "source": [
    "# torch.save(test_theta, r'test_theta_max.pt')\n",
    "\n",
    "# with open(r'test_data_max_thetas.pkl', 'wb') as f:\n",
    "#     pickle.dump(test_photon_info, f)"
   ]
  },
  {
   "cell_type": "markdown",
   "id": "a183e0fb",
   "metadata": {},
   "source": [
    "Decide upper bound on Phi_SFG range"
   ]
  },
  {
   "cell_type": "code",
   "execution_count": 27,
   "id": "1cbb0c9a",
   "metadata": {},
   "outputs": [],
   "source": [
    "# test_Phis = [0, 0.1] # [Phi_Poisson, Phi_SFG]\n",
    "# test_theta = torch.tensor([test_Phis[0], test_Phis[1]]) # A_Poisson = 1\n",
    "# test_photon_info = simulator(test_theta)\n",
    "# print(f\"SFG only case: Number of photons after mock_observe: {test_photon_info['energies'].size}\")\n",
    "# # SFG only case: Number of photons after mock_observe: 386097"
   ]
  },
  {
   "cell_type": "markdown",
   "id": "977e9e3a",
   "metadata": {},
   "source": [
    "Decide upper bound on Phi_Poisson range"
   ]
  },
  {
   "cell_type": "code",
   "execution_count": 28,
   "id": "4b7dcec1",
   "metadata": {},
   "outputs": [],
   "source": [
    "# test_Phis = [1.0944, 0] # [Phi_Poisson, Phi_SFG]\n",
    "# test_theta = torch.tensor([test_Phis[0], test_Phis[1]]) # A_Poisson = 1\n",
    "# test_photon_info = simulator(test_theta)\n",
    "# print(f\"SFG only case: Number of photons after mock_observe: {test_photon_info['energies'].size}\")\n",
    "# # SFG only case: Number of photons after mock_observe: 386842"
   ]
  }
 ],
 "metadata": {
  "kernelspec": {
   "display_name": "sbi_env",
   "language": "python",
   "name": "python3"
  },
  "language_info": {
   "codemirror_mode": {
    "name": "ipython",
    "version": 3
   },
   "file_extension": ".py",
   "mimetype": "text/x-python",
   "name": "python",
   "nbconvert_exporter": "python",
   "pygments_lexer": "ipython3",
   "version": "3.13.2"
  }
 },
 "nbformat": 4,
 "nbformat_minor": 5
}
