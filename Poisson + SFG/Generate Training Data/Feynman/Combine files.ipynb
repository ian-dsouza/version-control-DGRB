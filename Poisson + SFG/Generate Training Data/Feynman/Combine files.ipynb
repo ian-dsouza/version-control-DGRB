{
 "cells": [
  {
   "cell_type": "code",
   "execution_count": 1,
   "id": "25726408",
   "metadata": {},
   "outputs": [],
   "source": [
    "%reset"
   ]
  },
  {
   "cell_type": "code",
   "execution_count": 2,
   "id": "6a95dcf9",
   "metadata": {},
   "outputs": [],
   "source": [
    "import pickle\n",
    "import os\n",
    "import torch\n",
    "import warnings"
   ]
  },
  {
   "cell_type": "code",
   "execution_count": 3,
   "id": "7138f3a3",
   "metadata": {},
   "outputs": [],
   "source": [
    "# Number of files\n",
    "num_files = 272\n",
    "# Base filename components\n",
    "base_name_data = \"train_data_kerr\"\n",
    "ext_data = \".pkl\"\n",
    "\n",
    "base_name_thetas = \"train_thetas_kerr\"\n",
    "ext_thetas = \".pt\""
   ]
  },
  {
   "cell_type": "code",
   "execution_count": 4,
   "id": "2e34ae56",
   "metadata": {},
   "outputs": [],
   "source": [
    "warnings.filterwarnings(\"ignore\", category=FutureWarning)\n",
    "\n",
    "# Prepare list to hold all dictionaries\n",
    "data_list = []\n",
    "thetas_list = []\n",
    "\n",
    "for i in range(num_files):\n",
    "    # Data files\n",
    "    filename_data = f\"{base_name_data}_{i}{ext_data}\"\n",
    "    if not os.path.exists(filename_data):\n",
    "        raise FileNotFoundError(f\"Expected file not found: {filename_data}\")\n",
    "    with open(filename_data, \"rb\") as f:\n",
    "        data = pickle.load(f)  # Unpickle the dictionary :contentReference[oaicite:0]{index=0}\n",
    "    data_list.append(data)    \n",
    "\n",
    "    # Theta files\n",
    "    filename_thetas = f\"{base_name_thetas}_{i}{ext_thetas}\"\n",
    "    if not os.path.exists(filename_thetas):\n",
    "        raise FileNotFoundError(f\"Missing file: {filename_thetas}\")\n",
    "    # Load the tensor\n",
    "    theta = torch.load(filename_thetas) \n",
    "    # Ensure it’s the expected shape\n",
    "    if theta.ndim != 1 or theta.numel() != 2:\n",
    "        raise ValueError(f\"Unexpected shape in {filename_thetas}: {theta.shape}\")\n",
    "    thetas_list.append(theta)\n",
    "\n",
    "# Stack into a single (260, 2) tensor\n",
    "thetas_tensor = torch.stack(thetas_list, dim=0)"
   ]
  },
  {
   "cell_type": "code",
   "execution_count": 5,
   "id": "77531d74",
   "metadata": {},
   "outputs": [
    {
     "name": "stdout",
     "output_type": "stream",
     "text": [
      "Loaded 272 files and saved combined data to 'combined_train_data_feynman.pkl'.\n",
      "Saved combined thetas tensor of shape torch.Size([272, 2]) to 'combined_train_thetas_feynman.pt'.\n"
     ]
    }
   ],
   "source": [
    "# Save data\n",
    "output_file_data = \"combined_train_data_feynman.pkl\"\n",
    "with open(output_file_data, \"wb\") as f:\n",
    "    pickle.dump(data_list, f)  # Serialize the list of dicts \n",
    "\n",
    "print(f\"Loaded {len(data_list)} files and saved combined data to '{output_file_data}'.\")\n",
    "\n",
    "# Save thetas\n",
    "output_file_thetas = \"combined_train_thetas_feynman.pt\"\n",
    "torch.save(thetas_tensor, output_file_thetas)\n",
    "\n",
    "print(f\"Saved combined thetas tensor of shape {thetas_tensor.shape} to '{output_file_thetas}'.\")"
   ]
  }
 ],
 "metadata": {
  "kernelspec": {
   "display_name": "sbi_env",
   "language": "python",
   "name": "python3"
  },
  "language_info": {
   "codemirror_mode": {
    "name": "ipython",
    "version": 3
   },
   "file_extension": ".py",
   "mimetype": "text/x-python",
   "name": "python",
   "nbconvert_exporter": "python",
   "pygments_lexer": "ipython3",
   "version": "3.13.2"
  }
 },
 "nbformat": 4,
 "nbformat_minor": 5
}
