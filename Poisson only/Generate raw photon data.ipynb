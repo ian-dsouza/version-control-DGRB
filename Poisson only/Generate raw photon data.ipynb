{
 "cells": [
  {
   "cell_type": "code",
   "execution_count": 1,
   "id": "e92cd374",
   "metadata": {},
   "outputs": [],
   "source": [
    "%reset"
   ]
  },
  {
   "cell_type": "code",
   "execution_count": 2,
   "id": "33681fef",
   "metadata": {},
   "outputs": [],
   "source": [
    "import sys\n",
    "\n",
    "sys.path.insert(0, '/home/users/ids29/DGRB')"
   ]
  },
  {
   "cell_type": "code",
   "execution_count": 3,
   "id": "d8accada",
   "metadata": {},
   "outputs": [],
   "source": [
    "import aegis\n",
    "import numpy as np\n",
    "import torch\n",
    "import healpy as hp\n",
    "import pickle as pk\n",
    "from astropy import units\n",
    "from astropy import constants as c\n",
    "import matplotlib.pyplot as plt\n",
    "from os import listdir\n",
    "import os\n",
    "from sbi.inference import SNLE, SNPE#, prepare_for_sbi, simulate_for_sbi\n",
    "from sbi import utils as utils\n",
    "from sbi import analysis as analysis\n",
    "# from sbi.inference.base import infer\n",
    "from getdist import plots, MCSamples\n",
    "from joblib import Parallel, delayed\n",
    "from scipy.integrate import quad, simpson\n",
    "import pickle\n",
    "from scipy.stats import norm\n",
    "\n",
    "%matplotlib inline"
   ]
  },
  {
   "cell_type": "code",
   "execution_count": null,
   "id": "f04ab14f",
   "metadata": {},
   "outputs": [],
   "source": [
    "grains=1000\n",
    "num_simulations = 1000\n",
    "num_workers = 48\n",
    "delta = 1e-8"
   ]
  },
  {
   "cell_type": "code",
   "execution_count": 5,
   "id": "1534fabb",
   "metadata": {},
   "outputs": [],
   "source": [
    "parameter_range_aegis = [[], []]\n",
    "abundance_luminosity_and_spectrum_list = []\n",
    "source_class_list = []\n",
    "parameter_names = []\n",
    "energy_range = [1000, 100000] #MeV \n",
    "energy_range_gen = [energy_range[0]*0.5, energy_range[1]*18]\n",
    "max_radius = 8.5 + 20*2 #kpc\n",
    "exposure = 2000*10*0.2 #cm^2 yr\n",
    "flux_cut = 1e-9 #photons/cm^2/s\n",
    "angular_cut = np.pi #10*u.deg.to('rad') #degrees\n",
    "angular_cut_gen = np.pi #angular_cut*1.5\n",
    "lat_cut = 0 #2*u.deg.to('rad') #degrees\n",
    "lat_cut_gen = lat_cut*0.5"
   ]
  },
  {
   "cell_type": "code",
   "execution_count": 6,
   "id": "3d4064bb",
   "metadata": {},
   "outputs": [],
   "source": [
    "my_cosmology = 'Planck18'\n",
    "z_range = [0, 14]\n",
    "luminosity_range = 10.0**np.array([37, 50]) # Minimum value set by considering Andromeda distance using Fermi as benchmark and receiving 0.1 photon at detector side\n",
    "my_AEGIS = aegis.aegis(abundance_luminosity_and_spectrum_list, source_class_list, parameter_range_aegis, energy_range, luminosity_range, max_radius, exposure, angular_cut, lat_cut, flux_cut, energy_range_gen=energy_range_gen, cosmology = my_cosmology, z_range = z_range, verbose = False)\n",
    "my_AEGIS.angular_cut_gen, my_AEGIS.lat_cut_gen = angular_cut_gen, lat_cut_gen"
   ]
  },
  {
   "cell_type": "code",
   "execution_count": 7,
   "id": "1d2cb393",
   "metadata": {},
   "outputs": [],
   "source": [
    "def spec_poisson(energy, params):\n",
    "    log_scaling_factor = params[0]\n",
    "    scaling_factor = 10**log_scaling_factor\n",
    "    Gamma = 2.2\n",
    "    Emin, Emax = energy_range[0], energy_range[1]\n",
    "    exposure_det = exposure*units.yr.to('s') # cm^2 s\n",
    "    expected_photons = 70_000 # Value such that it produces the same number of photons (after mock_observe is applied) as the SFG#1 class at its Blanco & Linden's nominal value.\n",
    "    num_photons_exposure_solidAngle = expected_photons / exposure_det / (4*np.pi) # photons/cm^2/sec/sr\n",
    "    normalization =  (Emax**(1-Gamma) - Emin**(1-Gamma)) / (1-Gamma) \n",
    "    prop_const = num_photons_exposure_solidAngle / normalization\n",
    "    return scaling_factor * prop_const * energy**(-Gamma)"
   ]
  },
  {
   "cell_type": "code",
   "execution_count": 8,
   "id": "c7a7790a",
   "metadata": {},
   "outputs": [],
   "source": [
    "als_Poisson = [spec_poisson]\n",
    "my_AEGIS.abun_lum_spec = [als_Poisson]\n",
    "my_AEGIS.source_class_list = ['isotropic_diffuse']"
   ]
  },
  {
   "cell_type": "code",
   "execution_count": 9,
   "id": "5eefb8ec",
   "metadata": {},
   "outputs": [],
   "source": [
    "# a simple simulator with the total number of photons as the summary statistic\n",
    "def simulator(params):\n",
    "\n",
    "    input_params = params.numpy()\n",
    "\n",
    "    source_info = my_AEGIS.create_sources(input_params, grains=grains, epsilon=1e-3)\n",
    "    photon_info = my_AEGIS.generate_photons_from_sources(input_params, source_info, grains=grains) \n",
    "    obs_info = {'psf_fits_path': '/home/users/ids29/DGRB/FERMI_files/psf_P8R3_ULTRACLEANVETO_V2_PSF.fits', 'edisp_fits_path': '/home/users/ids29/DGRB/FERMI_files/edisp_P8R3_ULTRACLEANVETO_V2_PSF.fits', 'event_type': 'PSF3', 'exposure_map': None}\n",
    "    obs_photon_info = my_AEGIS.mock_observe(photon_info, obs_info)\n",
    "    \n",
    "    return obs_photon_info"
   ]
  },
  {
   "cell_type": "code",
   "execution_count": 10,
   "id": "7cb2ba9d",
   "metadata": {},
   "outputs": [],
   "source": [
    "def manual_simulate_for_sbi(proposal, num_simulations=1000, num_workers=32):\n",
    "    \"\"\"\n",
    "    Simulates the model in parallel using joblib.\n",
    "    Each simulation call samples a parameter from the proposal and passes the index to the simulator.\n",
    "    \"\"\"\n",
    "    def run_simulation(i):\n",
    "        if i % 10 == 0:\n",
    "            print(f\"i= {i}\")\n",
    "        # Sample a parameter from the proposal (sbi.utils.BoxUniform has a .sample() method)\n",
    "        theta_i = proposal.sample()\n",
    "        photon_info = simulator(theta_i)\n",
    "        return theta_i, photon_info\n",
    "\n",
    "    # Run simulations in parallel using joblib.\n",
    "    results = Parallel(n_jobs=num_workers, timeout=None)(delayed(run_simulation)(i) for i in range(num_simulations))\n",
    "    theta_list, photon_info_list = zip(*results)\n",
    "\n",
    "    theta_tensor = torch.stack(theta_list, dim=0).to(torch.float32)\n",
    "    \n",
    "    \n",
    "    return theta_tensor, photon_info_list"
   ]
  },
  {
   "cell_type": "code",
   "execution_count": 11,
   "id": "508cf1db",
   "metadata": {},
   "outputs": [
    {
     "name": "stdout",
     "output_type": "stream",
     "text": [
      "i= 30\n",
      "i= 50\n",
      "i= 40\n",
      "i= 0\n",
      "i= 10\n",
      "i= 60\n",
      "i= 70\n",
      "i= 80\n",
      "i= 20\n",
      "i= 90\n",
      "i= 100\n",
      "i= 110\n",
      "i= 120\n",
      "i= 130\n",
      "i= 140\n",
      "i= 150\n",
      "i= 160\n",
      "i= 170\n",
      "i= 180\n",
      "i= 190\n",
      "i= 200\n",
      "i= 210\n",
      "i= 220\n",
      "i= 230\n",
      "i= 240\n",
      "i= 250\n",
      "i= 260\n",
      "i= 270\n",
      "i= 280\n",
      "i= 290\n",
      "i= 300\n",
      "i= 310\n",
      "i= 320\n",
      "i= 330\n",
      "i= 340\n",
      "i= 350\n",
      "i= 360\n",
      "i= 370\n",
      "i= 380\n",
      "i= 390\n",
      "i= 400\n",
      "i= 410\n",
      "i= 420\n",
      "i= 430\n",
      "i= 440\n",
      "i= 450\n",
      "i= 460\n",
      "i= 470\n",
      "i= 480\n",
      "i= 490\n",
      "i= 500\n",
      "i= 510\n",
      "i= 520\n",
      "i= 530\n",
      "i= 540\n",
      "i= 550\n",
      "i= 560\n",
      "i= 570\n",
      "i= 580\n",
      "i= 590\n",
      "i= 600\n",
      "i= 610\n",
      "i= 620\n",
      "i= 630\n",
      "i= 640\n",
      "i= 650\n",
      "i= 660\n",
      "i= 670\n",
      "i= 680\n",
      "i= 690\n",
      "i= 700\n",
      "i= 710\n",
      "i= 720\n",
      "i= 730\n",
      "i= 740\n",
      "i= 750\n",
      "i= 760\n",
      "i= 770\n",
      "i= 780\n",
      "i= 790\n",
      "i= 800\n",
      "i= 810\n",
      "i= 820\n",
      "i= 830\n",
      "i= 840\n",
      "i= 850\n",
      "i= 860\n",
      "i= 870\n",
      "i= 880\n",
      "i= 890\n",
      "i= 900\n",
      "i= 910\n",
      "i= 920\n",
      "i= 930\n",
      "i= 940\n",
      "i= 950\n",
      "i= 960\n",
      "i= 970\n",
      "i= 980\n",
      "i= 990\n"
     ]
    }
   ],
   "source": [
    "# Define the prior using sbi.utils.BoxUniform\n",
    "prior_range = torch.tensor([[-2],\n",
    "                            [1]])\n",
    "\n",
    "prior = utils.BoxUniform(low=prior_range[0], high=prior_range[1])\n",
    "\n",
    "train_thetas, train_photon_info = manual_simulate_for_sbi(prior,\n",
    "                                   num_simulations=num_simulations,\n",
    "                                   num_workers=num_workers)"
   ]
  },
  {
   "cell_type": "code",
   "execution_count": 12,
   "id": "6a11414b",
   "metadata": {},
   "outputs": [],
   "source": [
    "# 'photon_info_list' is a list of dictionaries\n",
    "\n",
    "# Save to file\n",
    "with open('train_data_Poisson.pkl', 'wb') as f:\n",
    "    pickle.dump(train_photon_info, f)\n",
    "\n",
    "# Save to file\n",
    "torch.save(train_thetas, 'train_thetas_Poisson.pt')\n",
    "torch.save(prior_range, 'prior_range_Poisson.pt')"
   ]
  },
  {
   "cell_type": "code",
   "execution_count": 16,
   "id": "7fa771c8",
   "metadata": {},
   "outputs": [
    {
     "name": "stdout",
     "output_type": "stream",
     "text": [
      "Number of photons after mock_observe: 32235\n"
     ]
    }
   ],
   "source": [
    "test_theta = torch.tensor([np.log10(1)]) # A_Poisson = 1\n",
    "test_photon_info = simulator(test_theta)\n",
    "print(f\"Number of photons after mock_observe: {test_photon_info['energies'].size}\")"
   ]
  },
  {
   "cell_type": "code",
   "execution_count": 14,
   "id": "2d5ce95f",
   "metadata": {},
   "outputs": [],
   "source": [
    "torch.save(test_theta, r'test_theta_Poisson.pt')\n",
    "\n",
    "with open(r'test_data_Poisson.pkl', 'wb') as f:\n",
    "    pickle.dump(test_photon_info, f)"
   ]
  },
  {
   "cell_type": "markdown",
   "id": "178c9e01",
   "metadata": {},
   "source": [
    "Use the following value for the SFG + Poisson case"
   ]
  },
  {
   "cell_type": "code",
   "execution_count": 17,
   "id": "7828422c",
   "metadata": {},
   "outputs": [
    {
     "name": "stdout",
     "output_type": "stream",
     "text": [
      "Number of photons after mock_observe: 15890\n"
     ]
    }
   ],
   "source": [
    "test_theta = torch.tensor([np.log10(0.5)]) # A_Poisson = 0.5\n",
    "test_photon_info = simulator(test_theta)\n",
    "print(f\"Number of photons after mock_observe: {test_photon_info['energies'].size}\")"
   ]
  }
 ],
 "metadata": {
  "kernelspec": {
   "display_name": "sbi_env",
   "language": "python",
   "name": "python3"
  },
  "language_info": {
   "codemirror_mode": {
    "name": "ipython",
    "version": 3
   },
   "file_extension": ".py",
   "mimetype": "text/x-python",
   "name": "python",
   "nbconvert_exporter": "python",
   "pygments_lexer": "ipython3",
   "version": "3.13.2"
  }
 },
 "nbformat": 4,
 "nbformat_minor": 5
}
