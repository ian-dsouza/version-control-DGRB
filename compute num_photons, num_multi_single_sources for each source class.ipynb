{
 "cells": [
  {
   "cell_type": "code",
   "execution_count": 20,
   "metadata": {},
   "outputs": [],
   "source": [
    "%reset"
   ]
  },
  {
   "cell_type": "code",
   "execution_count": 27,
   "metadata": {},
   "outputs": [],
   "source": [
    "import sys\n",
    "from pathlib import Path\n",
    "\n",
    "# Path to the folder that contains aegis.py,\n",
    "# assuming your notebook lives in <parent>/notebooks/\n",
    "# and aegis.py lives in  <parent>/aegis_folder/\n",
    "package_path = Path.cwd().parent / \"DGRB\"\n",
    "\n",
    "# Prepend it so it wins over any other packages named 'aegis'\n",
    "sys.path.insert(0, str(package_path))"
   ]
  },
  {
   "cell_type": "code",
   "execution_count": 28,
   "metadata": {},
   "outputs": [],
   "source": [
    "import aegis\n",
    "import numpy as np\n",
    "import healpy as hp\n",
    "import torch\n",
    "import pickle as pk\n",
    "from astropy import units as u\n",
    "from astropy import constants as c\n",
    "import matplotlib.pyplot as plt\n",
    "from os import listdir\n",
    "import os\n",
    "\n",
    "from sbi.inference import SNLE, SNPE#, prepare_for_sbi, simulate_for_sbi\n",
    "from sbi import utils as utils\n",
    "from sbi import analysis as analysis\n",
    "# from sbi.inference.base import infer\n",
    "from getdist import plots, MCSamples\n",
    "import pickle\n",
    "from scipy.stats import norm\n",
    "from scipy.integrate import quad, simpson\n",
    "from joblib import Parallel, delayed\n",
    "\n",
    "%matplotlib inline"
   ]
  },
  {
   "cell_type": "code",
   "execution_count": 29,
   "metadata": {},
   "outputs": [],
   "source": [
    "grains=1000\n",
    "num_simulations = 1000\n",
    "num_workers = -1"
   ]
  },
  {
   "cell_type": "code",
   "execution_count": 30,
   "metadata": {},
   "outputs": [],
   "source": [
    "parameter_range = [[], []]\n",
    "abundance_luminosity_and_spectrum_list = []\n",
    "source_class_list = []\n",
    "parameter_names = []\n",
    "energy_range = [1000, 100000] #MeV\n",
    "energy_range_gen = [energy_range[0]*0.5, energy_range[1]*18]\n",
    "max_radius = 8.5 + 20*2 #kpc\n",
    "exposure = 2000*10*0.2 #cm^2 yr\n",
    "flux_cut = 1e-9 #photons/cm^2/s\n",
    "angular_cut = np.pi #10*u.deg.to('rad') #degrees\n",
    "angular_cut_gen = np.pi #angular_cut*1.5\n",
    "lat_cut = 0 #2*u.deg.to('rad') #degrees\n",
    "lat_cut_gen = lat_cut*0.5"
   ]
  },
  {
   "cell_type": "code",
   "execution_count": 31,
   "metadata": {},
   "outputs": [],
   "source": [
    "my_cosmology = 'Planck18'\n",
    "z_range = [0, 14]\n",
    "luminosity_range = 10.0**np.array([37, 50]) # Minimum value set by considering Andromeda distance using Fermi as benchmark and receiving 0.1 photon at detector side\n",
    "my_AEGIS = aegis.aegis(abundance_luminosity_and_spectrum_list, source_class_list, parameter_range, energy_range, luminosity_range, max_radius, exposure, angular_cut, lat_cut, flux_cut, energy_range_gen=energy_range_gen, cosmology = my_cosmology, z_range = z_range, verbose = False)\n",
    "my_AEGIS.angular_cut_gen, my_AEGIS.lat_cut_gen = angular_cut_gen, lat_cut_gen"
   ]
  },
  {
   "cell_type": "code",
   "execution_count": 32,
   "metadata": {},
   "outputs": [],
   "source": [
    "Gamma_SFG = 2.2\n",
    "gamma_energy_bounds = energy_range_gen  # in MeV\n",
    "E_photon_GeV_SFG = ((-Gamma_SFG + 1) / (-Gamma_SFG + 2) *\n",
    "                (gamma_energy_bounds[1]**(-Gamma_SFG + 2) - gamma_energy_bounds[0]**(-Gamma_SFG + 2)) /\n",
    "                (gamma_energy_bounds[1]**(-Gamma_SFG + 1) - gamma_energy_bounds[0]**(-Gamma_SFG + 1))) # in MeV\n",
    "E_photon_SFG = E_photon_GeV_SFG * 1.60218e-6  # erg\n",
    "\n",
    "Gamma_mAGN = 2.25\n",
    "gamma_energy_bounds = energy_range_gen  # in MeV\n",
    "E_photon_GeV_mAGN = ((-Gamma_mAGN + 1) / (-Gamma_mAGN + 2) *\n",
    "                (gamma_energy_bounds[1]**(-Gamma_mAGN + 2) - gamma_energy_bounds[0]**(-Gamma_mAGN + 2)) /\n",
    "                (gamma_energy_bounds[1]**(-Gamma_mAGN + 1) - gamma_energy_bounds[0]**(-Gamma_mAGN + 1))) # MeV\n",
    "E_photon_mAGN = E_photon_GeV_mAGN * 1.60218e-6  # erg\n",
    "\n",
    "res = int(1e4)\n",
    "log_LIRs = np.linspace(-5, 25, res)\n",
    "log_L5Gs = np.linspace(20, 55, res)"
   ]
  },
  {
   "cell_type": "code",
   "execution_count": 33,
   "metadata": {},
   "outputs": [],
   "source": [
    "def ZL_SFG1(z, l, params):\n",
    "\n",
    "\n",
    "    log_PhiStar = params[0]\n",
    "    Phi_star = 10**log_PhiStar\n",
    "\n",
    "    l_erg = l * E_photon_SFG # erg/s\n",
    "    LFs = np.zeros_like(l)\n",
    "\n",
    "    def Phi_IR(log_LIR): #log_LIR = log_10(L_IR / solar_luminosity) # unitless\n",
    "\n",
    "        # from Table 8 in Gruppioni et al.\n",
    "        # Phi_star = 10**(-2.08) # Mpc^{-3} dex^{-1}\n",
    "        Lstar = 10**(9.46) # Solar luminosity\n",
    "        alpha = 1.00\n",
    "        sigma = 0.50\n",
    "\n",
    "        LIR = 10**log_LIR # solar luminosity\n",
    "\n",
    "        Phi_IR = Phi_star * (LIR / Lstar)**(1 - alpha) * np.exp(-1 / (2 * sigma**2) * (np.log10(1 + LIR / Lstar))**2) # from Gruppioni paper eqn (3)  \t\n",
    "\n",
    "        return Phi_IR\n",
    "\n",
    "    def PDF_log_Lgamma_given_log_LIR(log_LIR, log_Lgamma): #log_LIR = log_10(L_IR / solar_luminosity) # unitless\n",
    "        LIR_solar_luminosity = 10**log_LIR # Solar luminosity\n",
    "        L_IR_erg_second = LIR_solar_luminosity * 3.826e33 # erg/s\n",
    "\n",
    "        a = 1.09\n",
    "        g = 40.8\n",
    "        sigma_SF = 0.202 \n",
    "\n",
    "        mean = g + a * np.log10(L_IR_erg_second / 1e45)\n",
    "        std = sigma_SF\n",
    "\n",
    "        return norm.pdf(log_Lgamma, loc=mean, scale=std)\n",
    "\n",
    "    def integrand(PhiIR_of_logLIRs, log_LIRs, log_Lgamma):\n",
    "        return PhiIR_of_logLIRs * PDF_log_Lgamma_given_log_LIR(log_LIRs, log_Lgamma)\n",
    "\n",
    "    PhiIR_of_logLIRs = Phi_IR(log_LIRs)\n",
    "\n",
    "    for i in range(LFs.shape[0]):\n",
    "        for j in range(LFs.shape[1]):\n",
    "            LFs[i,j] = simpson(integrand(PhiIR_of_logLIRs, log_LIRs, np.log10(l_erg[i,j])), x=log_LIRs)\n",
    "    return 1e-9 / np.log(10) / l * LFs # LF has spatial units of Mpc^{-3}. We need to convert this to kpc^{-3}. Hence the factor of 1e-9\n",
    "\n",
    "\n",
    "def spec_SFG1(energy, params):\n",
    "    Gamma = 2.2\n",
    "    return energy**(-Gamma)"
   ]
  },
  {
   "cell_type": "code",
   "execution_count": 34,
   "metadata": {},
   "outputs": [],
   "source": [
    "def ZL_SFG2(z, l, params):\n",
    "\n",
    "\n",
    "    log_PhiStar = params[0]\n",
    "    Phi_star = 10**log_PhiStar\n",
    "\n",
    "    l_erg = l * E_photon_SFG # erg/s\n",
    "    LFs = np.zeros_like(l)\n",
    "\n",
    "    def Phi_IR(log_LIR): #log_LIR = log_10(L_IR / solar_luminosity) # unitless\n",
    "\n",
    "        # from Table 8 in Gruppioni et al.\n",
    "        # Phi_star = 10**(−4.74) # Mpc^{-3} dex^{-1}\n",
    "        Lstar = 10**(11.02) # Solar luminosity\n",
    "        alpha = 1.00\n",
    "        sigma = 0.35\n",
    "\n",
    "        LIR = 10**log_LIR # solar luminosity\n",
    "\n",
    "        Phi_IR = Phi_star * (LIR / Lstar)**(1 - alpha) * np.exp(-1 / (2 * sigma**2) * (np.log10(1 + LIR / Lstar))**2) # from Gruppioni paper eqn (3)  \t\n",
    "\n",
    "        return Phi_IR\n",
    "\n",
    "    def PDF_log_Lgamma_given_log_LIR(log_LIR, log_Lgamma): #log_LIR = log_10(L_IR / solar_luminosity) # unitless\n",
    "        LIR_solar_luminosity = 10**log_LIR # Solar luminosity\n",
    "        L_IR_erg_second = LIR_solar_luminosity * 3.826e33 # erg/s\n",
    "\n",
    "        a = 1.09\n",
    "        g = 40.8\n",
    "        sigma_SF = 0.202 \n",
    "\n",
    "        mean = g + a * np.log10(L_IR_erg_second / 1e45)\n",
    "        std = sigma_SF\n",
    "\n",
    "        return norm.pdf(log_Lgamma, loc=mean, scale=std)\n",
    "\n",
    "    def integrand(PhiIR_of_logLIRs, log_LIRs, log_Lgamma):\n",
    "        return PhiIR_of_logLIRs * PDF_log_Lgamma_given_log_LIR(log_LIRs, log_Lgamma)\n",
    "\n",
    "    PhiIR_of_logLIRs = Phi_IR(log_LIRs)\n",
    "\n",
    "    for i in range(LFs.shape[0]):\n",
    "        for j in range(LFs.shape[1]):\n",
    "            LFs[i,j] = simpson(integrand(PhiIR_of_logLIRs, log_LIRs, np.log10(l_erg[i,j])), x=log_LIRs)\n",
    "    return 1e-9 / np.log(10) / l * LFs # LF has spatial units of Mpc^{-3}. We need to convert this to kpc^{-3}. Hence the factor of 1e-9\n",
    "\n",
    "\n",
    "def spec_SFG2(energy, params):\n",
    "    Gamma = 2.2\n",
    "    return energy**(-Gamma)"
   ]
  },
  {
   "cell_type": "code",
   "execution_count": 35,
   "metadata": {},
   "outputs": [],
   "source": [
    "def ZL_SFG3(z, l, params):\n",
    "\n",
    "\n",
    "    log_PhiStar = params[0]\n",
    "    Phi_star = 10**log_PhiStar\n",
    "\n",
    "    l_erg = l * E_photon_SFG # erg/s\n",
    "    LFs = np.zeros_like(l)\n",
    "\n",
    "    def Phi_IR(log_LIR): #log_LIR = log_10(L_IR / solar_luminosity) # unitless\n",
    "\n",
    "        # from Table 8 in Gruppioni et al.\n",
    "        # Phi_star = 10**(−3.25) # Mpc^{-3} dex^{-1}\n",
    "        Lstar = 10**(10.57) # Solar luminosity\n",
    "        alpha = 1.2\n",
    "        sigma = 0.4\n",
    "\n",
    "        LIR = 10**log_LIR # solar luminosity\n",
    "\n",
    "        Phi_IR = Phi_star * (LIR / Lstar)**(1 - alpha) * np.exp(-1 / (2 * sigma**2) * (np.log10(1 + LIR / Lstar))**2) # from Gruppioni paper eqn (3)  \t\n",
    "\n",
    "        return Phi_IR\n",
    "\n",
    "    def PDF_log_Lgamma_given_log_LIR(log_LIR, log_Lgamma): #log_LIR = log_10(L_IR / solar_luminosity) # unitless\n",
    "        LIR_solar_luminosity = 10**log_LIR # Solar luminosity\n",
    "        L_IR_erg_second = LIR_solar_luminosity * 3.826e33 # erg/s\n",
    "\n",
    "        a = 1.09\n",
    "        g = 40.8\n",
    "        sigma_SF = 0.202 \n",
    "\n",
    "        mean = g + a * np.log10(L_IR_erg_second / 1e45)\n",
    "        std = sigma_SF\n",
    "\n",
    "        return norm.pdf(log_Lgamma, loc=mean, scale=std)\n",
    "\n",
    "    def integrand(PhiIR_of_logLIRs, log_LIRs, log_Lgamma):\n",
    "        return PhiIR_of_logLIRs * PDF_log_Lgamma_given_log_LIR(log_LIRs, log_Lgamma)\n",
    "\n",
    "    PhiIR_of_logLIRs = Phi_IR(log_LIRs)\n",
    "\n",
    "    for i in range(LFs.shape[0]):\n",
    "        for j in range(LFs.shape[1]):\n",
    "            LFs[i,j] = simpson(integrand(PhiIR_of_logLIRs, log_LIRs, np.log10(l_erg[i,j])), x=log_LIRs)\n",
    "    return 1e-9 / np.log(10) / l * LFs # LF has spatial units of Mpc^{-3}. We need to convert this to kpc^{-3}. Hence the factor of 1e-9\n",
    "\n",
    "\n",
    "def spec_SFG3(energy, params):\n",
    "    Gamma = 2.2\n",
    "    return energy**(-Gamma)"
   ]
  },
  {
   "cell_type": "code",
   "execution_count": 36,
   "metadata": {},
   "outputs": [],
   "source": [
    "def ZL_mAGN(z, l, params):\n",
    "\n",
    "    log_phi1 = params[0]\n",
    "    phi1 = 10**log_phi1\n",
    "\n",
    "    l_erg = l * E_photon_mAGN # erg/s\n",
    "    LFs = np.zeros_like(l)\n",
    "\n",
    "    def Phi_5G(log_L5G, z): #log_L5G = log_10(L_5GHz / (erg/s)) # unitless\n",
    "        #Output is in Mpc^{-3}\n",
    "\n",
    "        L_5G = 10**log_L5G # erg/s\n",
    "        radio_bandwidth = 4.87e9 # measured in Hz # width of radio band centered around blueshifted frequency of 5GHz \n",
    "        diff_L5G = L_5G / radio_bandwidth * 1e-7 # measured in W/Hz # Converted erg to Joule # luminosity per unit frequency\n",
    "\n",
    "        # Values taken from Table 4 of Yuan 2018 paper. Second row.\n",
    "        p1 = 2.085\n",
    "        p2 = -4.602\n",
    "        z_c = 0.893\n",
    "        k1 = 1.744\n",
    "        e1 = ( (1+z_c)**p1 + (1+z_c)**p2 ) / ( ((1+z_c)/(1+z))**p1 + ((1+z_c)/(1+z))**p2 )\n",
    "        e2 = (1+z)**k1\n",
    "        # phi1 = 10**(-3.749) # Mpc^{-3}\n",
    "        L_star = 10**21.592 # W/Hz\n",
    "        beta = 0.139\n",
    "        gamma = 0.878\n",
    "\n",
    "        # From Yuan 2018 paper equation 21\n",
    "        # Note that this is dN/dV dlog(diff_5G). But this is also equal to dN/dV dlog(L_5G) because the radio bandwidth is fixed.\n",
    "        Phi_5G = e1 * phi1 * ( (diff_L5G / (e2 * L_star))**beta + (diff_L5G / (e2 * L_star))**gamma )**-1\n",
    "\n",
    "        return Phi_5G\n",
    "    \n",
    "\n",
    "    def PDF_log_Lgamma_given_log_L5G(log_L5G, log_Lgamma): #log_L5G = log_10(L_5GHz / (erg/s)) # unitless\n",
    "        L_5GHz = 10**log_L5G # erg/s\n",
    "\n",
    "        b = 0.78\n",
    "        d = 40.78\n",
    "        sigma_mAGN = 0.880\n",
    "\n",
    "        mean = d + b * np.log10(L_5GHz / 1e40)\n",
    "        std = sigma_mAGN\n",
    "\n",
    "        return norm.pdf(log_Lgamma, loc=mean, scale=std)\n",
    "    \n",
    "\n",
    "    def integrand(log_L5G, z, log_Lgamma):\n",
    "        return Phi_5G(log_L5G, z) * PDF_log_Lgamma_given_log_L5G(log_L5G, log_Lgamma)\n",
    "    \n",
    "\n",
    "\n",
    "    for i in range(LFs.shape[0]):\n",
    "        for j in range(LFs.shape[1]):\n",
    "            LFs[i,j] = simpson(integrand(log_L5Gs, z[i,j], np.log10(l_erg[i,j])), x=log_L5Gs)\n",
    "\n",
    "\n",
    "    return 1e-9 / np.log(10) / l * LFs # LF has spatial units of Mpc^{-3}. We need to convert this to kpc^{-3}. Hence the factor of 1e-9\n",
    "\n",
    "\n",
    "\n",
    "def spec_mAGN(energy, params):\n",
    "    Gamma = 2.25\n",
    "    return energy**(-Gamma)"
   ]
  },
  {
   "cell_type": "code",
   "execution_count": 37,
   "metadata": {},
   "outputs": [],
   "source": [
    "als_SFG1 = [ZL_SFG1, spec_SFG1]\n",
    "als_SFG2 = [ZL_SFG2, spec_SFG2]\n",
    "als_SFG3 = [ZL_SFG3, spec_SFG3]\n",
    "als_mAGN = [ZL_mAGN, spec_mAGN]"
   ]
  },
  {
   "cell_type": "code",
   "execution_count": 38,
   "metadata": {},
   "outputs": [],
   "source": [
    "# a simple simulator with the total number of photons as the summary statistic\n",
    "def simulator(params):\n",
    "\n",
    "    input_params = params.numpy()\n",
    "\n",
    "    source_info = my_AEGIS.create_sources(input_params, grains=grains, epsilon=1e-2)\n",
    "    photon_info = my_AEGIS.generate_photons_from_sources(input_params, source_info, grains=grains) \n",
    "    obs_info = {'psf_fits_path': '../DGRB/FERMI_files/psf_P8R3_ULTRACLEANVETO_V2_PSF.fits', 'edisp_fits_path': '../DGRB/FERMI_files/edisp_P8R3_ULTRACLEANVETO_V2_PSF.fits', 'event_type': 'PSF3', 'exposure_map': None}\n",
    "    obs_photon_info = my_AEGIS.mock_observe(photon_info, obs_info)\n",
    "    \n",
    "    return source_info, obs_photon_info"
   ]
  },
  {
   "cell_type": "code",
   "execution_count": null,
   "metadata": {},
   "outputs": [
    {
     "name": "stdout",
     "output_type": "stream",
     "text": [
      "Number of multi-photon sources = 362840\n",
      "Number of single-photon sources = 137288\n",
      "Number of photons = 32140\n"
     ]
    }
   ],
   "source": [
    "my_AEGIS.abun_lum_spec = [als_SFG1]\n",
    "my_AEGIS.source_class_list = ['extragalactic_isotropic_faint_single_spectrum']\n",
    "\n",
    "input_params = torch.tensor([-2.08])\n",
    "source_info_SFG1, photon_info_SFG1 = simulator(input_params)\n",
    "print(f\"Number of multi-photon sources = {source_info_SFG1['redshifts'].size}\")\n",
    "print(f\"Number of single-photon sources = {source_info_SFG1['single_p_redshifts'].size}\")\n",
    "print(f\"Number of photons = {photon_info_SFG1['energies'].size}\")"
   ]
  },
  {
   "cell_type": "code",
   "execution_count": null,
   "metadata": {},
   "outputs": [
    {
     "name": "stdout",
     "output_type": "stream",
     "text": [
      "Number of multi-photon sources = 44821\n",
      "Number of single-photon sources = 5115\n",
      "Number of photons = 1457\n"
     ]
    }
   ],
   "source": [
    "my_AEGIS.abun_lum_spec = [als_SFG2]\n",
    "my_AEGIS.source_class_list = ['extragalactic_isotropic_faint_single_spectrum']\n",
    "\n",
    "input_params = torch.tensor([-4.74])\n",
    "source_info_SFG2, photon_info_SFG2 = simulator(input_params)\n",
    "print(f\"Number of multi-photon sources = {source_info_SFG2['redshifts'].size}\")\n",
    "print(f\"Number of single-photon sources = {source_info_SFG2['single_p_redshifts'].size}\")\n",
    "print(f\"Number of photons = {photon_info_SFG2['energies'].size}\")"
   ]
  },
  {
   "cell_type": "code",
   "execution_count": null,
   "metadata": {},
   "outputs": [
    {
     "name": "stdout",
     "output_type": "stream",
     "text": [
      "Number of multi-photon sources = 382469\n",
      "Number of single-photon sources = 69053\n",
      "Number of photons = 17663\n"
     ]
    }
   ],
   "source": [
    "my_AEGIS.abun_lum_spec = [als_SFG3]\n",
    "my_AEGIS.source_class_list = ['extragalactic_isotropic_faint_single_spectrum']\n",
    "\n",
    "input_params = torch.tensor([-3.25])\n",
    "source_info_SFG3, photon_info_SFG3 = simulator(input_params)\n",
    "print(f\"Number of multi-photon sources = {source_info_SFG3['redshifts'].size}\")\n",
    "print(f\"Number of single-photon sources = {source_info_SFG3['single_p_redshifts'].size}\")\n",
    "print(f\"Number of photons = {photon_info_SFG3['energies'].size}\")"
   ]
  },
  {
   "cell_type": "code",
   "execution_count": null,
   "metadata": {},
   "outputs": [
    {
     "name": "stdout",
     "output_type": "stream",
     "text": [
      "Number of multi-photon sources = 3894355\n",
      "Number of single-photon sources = 92712\n",
      "Number of photons = 91895\n"
     ]
    }
   ],
   "source": [
    "my_AEGIS.abun_lum_spec = [als_mAGN]\n",
    "my_AEGIS.source_class_list = ['extragalactic_isotropic_faint_single_spectrum']\n",
    "\n",
    "input_params = torch.tensor([-3.749])\n",
    "source_info_mAGN, photon_info_mAGN = simulator(input_params)\n",
    "print(f\"Number of multi-photon sources = {source_info_mAGN['redshifts'].size}\")\n",
    "print(f\"Number of single-photon sources = {source_info_mAGN['single_p_redshifts'].size}\")\n",
    "print(f\"Number of photons = {photon_info_mAGN['energies'].size}\")"
   ]
  },
  {
   "cell_type": "code",
   "execution_count": 39,
   "metadata": {},
   "outputs": [
    {
     "name": "stdout",
     "output_type": "stream",
     "text": [
      "Number of multi-photon sources = 0\n",
      "Number of single-photon sources = 0\n",
      "Number of photons = 352391\n"
     ]
    }
   ],
   "source": [
    "import sources.FermiBackgrounds as FermiBackgrounds\n",
    "\n",
    "# Add Fermi isotropic background source class\n",
    "data_root = '/home/users/ids29/DGRB'\n",
    "my_FB = FermiBackgrounds.FermiBackgrounds(data_root)\n",
    "def spec_iso_wrap(energy, params):\n",
    "    iso_fit = my_FB.get_isotropic_background_spectrum_func()\n",
    "    return iso_fit(energy)\n",
    "FIB_als = [spec_iso_wrap]\n",
    "my_AEGIS.abun_lum_spec = [FIB_als]\n",
    "my_AEGIS.source_class_list = ['isotropic_diffuse']\n",
    "\n",
    "input_params = torch.tensor([0])\n",
    "source_info_Fermi, photon_info_Fermi = simulator(input_params)\n",
    "print(f\"Number of multi-photon sources = {source_info_Fermi['redshifts'].size}\")\n",
    "print(f\"Number of single-photon sources = {source_info_Fermi['single_p_redshifts'].size}\")\n",
    "print(f\"Number of photons = {photon_info_Fermi['energies'].size}\")"
   ]
  }
 ],
 "metadata": {
  "kernelspec": {
   "display_name": "base",
   "language": "python",
   "name": "python3"
  },
  "language_info": {
   "codemirror_mode": {
    "name": "ipython",
    "version": 3
   },
   "file_extension": ".py",
   "mimetype": "text/x-python",
   "name": "python",
   "nbconvert_exporter": "python",
   "pygments_lexer": "ipython3",
   "version": "3.9.7"
  }
 },
 "nbformat": 4,
 "nbformat_minor": 2
}
