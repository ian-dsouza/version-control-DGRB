{
 "cells": [
  {
   "cell_type": "code",
   "execution_count": 1,
   "id": "0c119509",
   "metadata": {},
   "outputs": [],
   "source": [
    "import sys\n",
    "from pathlib import Path\n",
    "\n",
    "# Current working dir  …/DGRB Scripts/Test - sbi for 1 SFG and 1 mAGN…\n",
    "# parent[0] → …/DGRB Scripts\n",
    "# parent[1] → …/home/users/ids29           ← where “DGRB/” lives\n",
    "package_path = Path.cwd().parents[1] / \"DGRB\"   # /home/users/ids29/DGRB\n",
    "\n",
    "sys.path.insert(0, str(package_path))           # make it import-able\n"
   ]
  },
  {
   "cell_type": "code",
   "execution_count": 14,
   "id": "2026a328",
   "metadata": {},
   "outputs": [],
   "source": [
    "import sources.DMsignal as DMsignal\n",
    "import numpy as np\n",
    "from scipy.integrate import quad, simpson\n",
    "import matplotlib.pyplot as plt"
   ]
  },
  {
   "cell_type": "code",
   "execution_count": null,
   "id": "ce681c28",
   "metadata": {},
   "outputs": [
    {
     "name": "stdout",
     "output_type": "stream",
     "text": [
      "mass_DM_GeV: 200.0 GeV\n"
     ]
    }
   ],
   "source": [
    "# 1) Point to your data directory and choose a channel\n",
    "data_dir = \"../../DGRB/data/dm_spectra/\"         # must contain AtProduction_gammas.dat\n",
    "channel  = \"Tau\"                           # e.g. 'b' (bottom quarks) or 'Tau'\n",
    "\n",
    "\n",
    "# 2) Build the DMsignal object\n",
    "dm = DMsignal.DMsignal(directory=data_dir, channel=channel)\n",
    "\n",
    "# ────────────────────────────────────────────────────────────────────────\n",
    "# 3)  Ask the object for its default model parameters\n",
    "#     (mass, amplitude, background).  These numbers come straight from\n",
    "#     the get_default_model() method you showed.\n",
    "# ────────────────────────────────────────────────────────────────────────\n",
    "model_defaults = dm.get_default_model()        # {'A_DM': …, 'A_BG': …, 'mass_DM_MeV': …}\n",
    "mass_DM_MeV    = model_defaults[\"mass_DM_MeV\"]  # MeV\n",
    "mass_DM_GeV    = mass_DM_MeV / 1e3                  # GeV\n",
    "A_DM           = model_defaults[\"A_DM\"] # unitless\n",
    "A_BG           = model_defaults[\"A_BG\"]\n",
    "\n",
    "\n",
    "\n",
    "\n"
   ]
  },
  {
   "cell_type": "code",
   "execution_count": 4,
   "id": "02d25aed",
   "metadata": {},
   "outputs": [],
   "source": [
    "energy_range = [1000, 100000] #MeV"
   ]
  },
  {
   "cell_type": "markdown",
   "id": "7eb754e0",
   "metadata": {},
   "source": [
    "Abundance function"
   ]
  },
  {
   "cell_type": "code",
   "execution_count": 32,
   "id": "21576ef1",
   "metadata": {},
   "outputs": [],
   "source": [
    "def DM_abundance_fn(r, L, params):\n",
    "    \"\"\"\n",
    "    Abundance function for the DM signal.\n",
    "    \"\"\"\n",
    "    # r is the distance from the source # kpc\n",
    "    # L is the luminosity of the source # photons/second\n",
    "    # return the abundance function\n",
    "    # params conatins 'mass of DM particle in GeV'\n",
    "\n",
    "    mass_DM_GeV = params[2] # UPDAT TO THE CURRENT PARAMS INDEX\n",
    "\n",
    "    \n",
    "    beta = 1.9\n",
    "    A = 1.2e4 # MSolar^{-1} kpc^{-3}\n",
    "    r_s = 21 #kpc\n",
    "    r_tilde = r / r_s # unitless\n",
    "    cross_section = 3e-26 #cm^3 s^{−1}\n",
    "    \n",
    "    def compute_integral_E(E_min: float, E_max: float, n_points: int = 10_001) -> float:\n",
    "        \"\"\"\n",
    "        Compute ∫ dN/dE dE between E_min and E_max [MeV]\n",
    "        by sampling on a uniform grid and applying Simpson's rule.\n",
    "        n_points must be odd for Simpson's rule.\n",
    "        \"\"\"\n",
    "        # make sure we have an odd number of points\n",
    "        if n_points % 2 == 0:\n",
    "            n_points += 1\n",
    "\n",
    "        E = np.linspace(E_min, E_max, n_points)\n",
    "        dNdE = dm.get_dNdE(\n",
    "            desired_E_MeV=E,\n",
    "            channel=channel,\n",
    "            mass_MeV= mass_DM_GeV * 1e3\n",
    "        )\n",
    "        return simpson(dNdE, E)\n",
    "\n",
    "    Emin, Emax = energy_range[0], energy_range[1]\n",
    "    integral_E = compute_integral_E(Emin, Emax)\n",
    "\n",
    "\n",
    "\n",
    "    Phi_pp = A_DM * cross_section / (8 * np.pi * mass_DM_GeV**2) * integral_E  # cm^3 s^{-1} GeV^{-2}\n",
    "\n",
    "    \n",
    "    def integrand_M_tilde(M_tilde):\n",
    "        sigma = 0.74 + 0.011 * np.log(r/50) - 0.003 * M_tilde / 0.87\n",
    "        Delta = np.log(L) - 77.4 + 0.23*np.log(r/50) - np.log((8*np.pi*Phi_pp)/(1e-28)) # unitless\n",
    "        mu = sigma**2 * (1-beta) / 0.87  +  Delta\n",
    "        return np.exp((mu**2 -Delta**2)/(2*sigma**2)) * np.exp(-(M_tilde - mu)**2/(2*sigma**2)) / (np.sqrt(2*np.pi)*sigma)\n",
    "    \n",
    "\n",
    "\n",
    "    def compute_integral_M_tilde_simpson(M_min: float, M_max: float, n_points: int = 10001) -> float:\n",
    "        \"\"\"\n",
    "        Integrate integrand_M_tilde from M_min to M_max using Simpson's rule.\n",
    "        n_points must be odd; if it's even, it's incremented by 1.\n",
    "        \"\"\"\n",
    "        if n_points % 2 == 0:\n",
    "            n_points += 1\n",
    "        M = np.linspace(M_min, M_max, n_points)\n",
    "        y = integrand_M_tilde(M)\n",
    "        return simpson(y, M)\n",
    "\n",
    "\n",
    "    # Example usage:\n",
    "    M_tilde_min = 0.87 * np.log(1/1e5) # M_min = 1 MSolar\n",
    "    integral_M_tilde = compute_integral_M_tilde_simpson(M_tilde_min, 14.0) # The integrand 'integrand_M_tilde' is sufficiently suppressed for all M_tilde > 14.0\n",
    "\n",
    "\n",
    "\n",
    "    \n",
    "    return 10**(5*(1-beta)) * A / (0.87 * L * r_tilde * (1+r_tilde)**2)   * integral_M_tilde\n",
    "\n",
    "\n",
    "def DM_spectrum(energy, params): #'energy' is an array of energies in MeV \n",
    "    return dm.get_dNdE(\n",
    "            desired_E_MeV=energy,\n",
    "            channel=channel,\n",
    "            mass_MeV= mass_DM_GeV * 1e3\n",
    "        )"
   ]
  },
  {
   "cell_type": "code",
   "execution_count": 34,
   "id": "97331aa4",
   "metadata": {},
   "outputs": [
    {
     "data": {
      "image/png": "[encoded data removed]",
      "text/plain": [
       "<Figure size 640x480 with 1 Axes>"
      ]
     },
     "metadata": {},
     "output_type": "display_data"
    }
   ],
   "source": [
    "energies = np.linspace(energy_range[0], energy_range[1], 1000) # MeV\n",
    "plt.loglog(energies/1e3, DM_spectrum(energies, np.array([0, 0, 1])))\n",
    "plt.xlabel(\"Energy (GeV)\")\n",
    "plt.ylabel(\"dN/dE\")\n",
    "plt.show()"
   ]
  },
  {
   "cell_type": "markdown",
   "id": "64f8616a",
   "metadata": {},
   "source": [
    "Spectrum"
   ]
  },
  {
   "cell_type": "code",
   "execution_count": null,
   "id": "ae7b48ee",
   "metadata": {},
   "outputs": [],
   "source": [
    "\n",
    "\n",
    "# ────────────────────────────────────────────────────────────────────────\n",
    "# 4)  Wrapper: E [MeV] → dN/dE [photons / MeV per annihilation]\n",
    "# ────────────────────────────────────────────────────────────────────────\n",
    "def dm_spectrum(E_MeV: np.ndarray | float) -> np.ndarray:\n",
    "    \"\"\"\n",
    "    Interpolated gamma-ray spectrum for the chosen DM channel,\n",
    "    using the default mass encoded in DMsignal.py.\n",
    "    \"\"\"\n",
    "    return dm.get_dNdE(\n",
    "        desired_E_MeV=np.asarray(E_MeV, dtype=float),\n",
    "        channel=channel,\n",
    "        mass_MeV=mass_DM_MeV,          # picked up from get_default_model()\n",
    "    )\n"
   ]
  }
 ],
 "metadata": {
  "kernelspec": {
   "display_name": "sbi_env",
   "language": "python",
   "name": "python3"
  },
  "language_info": {
   "codemirror_mode": {
    "name": "ipython",
    "version": 3
   },
   "file_extension": ".py",
   "mimetype": "text/x-python",
   "name": "python",
   "nbconvert_exporter": "python",
   "pygments_lexer": "ipython3",
   "version": "3.13.2"
  }
 },
 "nbformat": 4,
 "nbformat_minor": 5
}
