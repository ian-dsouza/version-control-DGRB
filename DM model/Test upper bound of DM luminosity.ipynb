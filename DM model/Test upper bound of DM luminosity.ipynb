{
 "cells": [
  {
   "cell_type": "code",
   "execution_count": 49,
   "id": "8dc2c7b1",
   "metadata": {},
   "outputs": [],
   "source": [
    "%reset"
   ]
  },
  {
   "cell_type": "code",
   "execution_count": 50,
   "id": "481e58ce",
   "metadata": {},
   "outputs": [],
   "source": [
    "import sys\n",
    "sys.path.append('/home/users/ids29/DGRB')"
   ]
  },
  {
   "cell_type": "code",
   "execution_count": 51,
   "id": "948f41ea",
   "metadata": {},
   "outputs": [],
   "source": [
    "import aegis\n",
    "import numpy as np\n",
    "import torch\n",
    "import healpy as hp\n",
    "import pickle as pk\n",
    "from astropy import units\n",
    "from astropy import constants as c\n",
    "import matplotlib.pyplot as plt\n",
    "from os import listdir\n",
    "import os\n",
    "from sbi.inference import SNLE, SNPE#, prepare_for_sbi, simulate_for_sbi\n",
    "from sbi import utils as utils\n",
    "from sbi import analysis as analysis\n",
    "# from sbi.inference.base import infer\n",
    "from getdist import plots, MCSamples\n",
    "from joblib import Parallel, delayed, parallel_backend\n",
    "from scipy.integrate import quad, simpson\n",
    "import pickle\n",
    "from scipy.stats import norm\n",
    "import sources.DMsignal as DMsignal\n",
    "import sources.FermiBackgrounds as FermiBackgrounds\n",
    "\n",
    "\n",
    "%matplotlib inline"
   ]
  },
  {
   "cell_type": "code",
   "execution_count": 52,
   "id": "de89003f",
   "metadata": {},
   "outputs": [],
   "source": [
    "grains=1000\n",
    "num_simulations = 1000\n",
    "num_workers = 48"
   ]
  },
  {
   "cell_type": "code",
   "execution_count": 53,
   "id": "0bd9fb65",
   "metadata": {},
   "outputs": [],
   "source": [
    "parameter_range_aegis = [[], []]\n",
    "abundance_luminosity_and_spectrum_list = []\n",
    "source_class_list = []\n",
    "parameter_names = []\n",
    "energy_range = [1000, 100000] #MeV \n",
    "energy_range_gen = [energy_range[0]*0.5, energy_range[1]*1.5]\n",
    "# max_radius = 8.5 + 20*2 #kpc\n",
    "max_radius = 220 #kpc #This is the virial radius of the Milky Way\n",
    "exposure = 2000*10*0.2 #cm^2 yr\n",
    "flux_cut = 1e-9 #photons/cm^2/s\n",
    "angular_cut = np.pi #10*u.deg.to('rad') #degrees\n",
    "angular_cut_gen = np.pi #angular_cut*1.5\n",
    "lat_cut = 0 #2*u.deg.to('rad') #degrees\n",
    "lat_cut_gen = lat_cut*0.5"
   ]
  },
  {
   "cell_type": "code",
   "execution_count": 54,
   "id": "bafe2be3",
   "metadata": {},
   "outputs": [],
   "source": [
    "my_cosmology = 'Planck18'\n",
    "# z_range = [0, 14]\n",
    "# luminosity_range = 10.0**np.array([33, 50]) # Minimum value set by considering source at distnace of closest approach by line of sight at 40 degrees and receiving 0.1 photon at detector side. CHANGE THIS FOR FINAL PROBLEM.\n",
    "\n",
    "lower_bound_luminosity = 1e35 # photons/s\n",
    "upper_bounds_luminosity = np.array([1e35, 1e40, 1e45, 1e50, 1e55, 1e60]) # photons/s\n",
    "luminosity_range_initialize = np.array([lower_bound_luminosity, upper_bounds_luminosity[0]]) # photons/s # This is only to initialize the AEGIS object, it will be updated later\n",
    "\n",
    "# AEGIS object for Dark matter signal\n",
    "my_AEGIS = aegis.aegis(abundance_luminosity_and_spectrum_list, source_class_list, parameter_range_aegis, energy_range, luminosity_range_initialize, max_radius, exposure, angular_cut, lat_cut, flux_cut, energy_range_gen=energy_range_gen, cosmology = my_cosmology, verbose = False)\n",
    "my_AEGIS.angular_cut_gen, my_AEGIS.lat_cut_gen = angular_cut_gen, lat_cut_gen\n"
   ]
  },
  {
   "cell_type": "code",
   "execution_count": 55,
   "id": "ece31312",
   "metadata": {},
   "outputs": [],
   "source": [
    "# 1) Point to your data directory and choose a channel\n",
    "data_dir = \"/home/users/ids29/DGRB/data/dm_spectra/\"         # must contain AtProduction_gammas.dat\n",
    "channel  = \"Tau\"                           # e.g. 'b' (bottom quarks) or 'Tau'\n",
    "\n",
    "\n",
    "# 2) Build the DMsignal object\n",
    "dm = DMsignal.DMsignal(directory=data_dir, channel=channel)"
   ]
  },
  {
   "cell_type": "markdown",
   "id": "26bd1da8",
   "metadata": {},
   "source": [
    "Dark Matter Model"
   ]
  },
  {
   "cell_type": "code",
   "execution_count": 56,
   "id": "3088813e",
   "metadata": {},
   "outputs": [],
   "source": [
    "def DM_abundance(r, L, params): # Outputs the abundance function in the form dN/dV/dL. Note the dV.\n",
    "    \"\"\"\n",
    "    Abundance function for the DM signal.\n",
    "    \"\"\"\n",
    "    # r is the distance from the source # kpc\n",
    "    # L is the luminosity of the source # photons/second\n",
    "    # return the abundance function in the form dN/dV/dL in units of 1 / (kpc^3 photon/second)\n",
    "    # params conatins 'mass of DM particle in GeV'\n",
    "\n",
    "\n",
    "    A_DM = params[0]\n",
    "    mass_DM_GeV = params[1] # UPDATE TO THE CURRENT PARAMS INDEX\n",
    "\n",
    "    \n",
    "    beta = 1.9\n",
    "    A = 1.2e4 # MSolar^{-1} kpc^{-3}\n",
    "    r_s = 21 #kpc\n",
    "    r_tilde = r / r_s # unitless\n",
    "    cross_section = 3e-26 #cm^3 s^{−1}\n",
    "    \n",
    "    def compute_integral_E(E_min: float, E_max: float, n_points: int = 10_001) -> float:\n",
    "        \"\"\"\n",
    "        Compute ∫ dN/dE dE between E_min and E_max [MeV]\n",
    "        by sampling on a uniform grid and applying Simpson's rule.\n",
    "        n_points must be odd for Simpson's rule.\n",
    "        \"\"\"\n",
    "        # make sure we have an odd number of points\n",
    "        if n_points % 2 == 0:\n",
    "            n_points += 1\n",
    "\n",
    "        E = np.linspace(E_min, E_max, n_points)\n",
    "        dNdE = dm.get_dNdE(\n",
    "            desired_E_MeV=E,\n",
    "            channel=channel,\n",
    "            mass_MeV= mass_DM_GeV * 1e3\n",
    "        )\n",
    "        return simpson(dNdE, E)\n",
    "\n",
    "    Emin, Emax = energy_range[0], energy_range[1]\n",
    "    integral_E = compute_integral_E(Emin, Emax)\n",
    "\n",
    "\n",
    "\n",
    "    Phi_pp = A_DM * cross_section / (8 * np.pi * mass_DM_GeV**2) * integral_E  # cm^3 s^{-1} GeV^{-2}\n",
    "\n",
    "    \n",
    "    def integrand_M_tilde(M_tilde):\n",
    "        sigma = 0.74 + 0.011 * np.log(r/50) - 0.003 * M_tilde / 0.87\n",
    "        Delta = np.log(L) - 77.4 + 0.23*np.log(r/50) - np.log((8*np.pi*Phi_pp)/(1e-28)) # unitless\n",
    "        mu = sigma**2 * (1-beta) / 0.87  +  Delta\n",
    "        return np.exp((mu**2 -Delta**2)/(2*sigma**2)) * np.exp(-(M_tilde - mu)**2/(2*sigma**2)) / (np.sqrt(2*np.pi)*sigma)\n",
    "    \n",
    "\n",
    "\n",
    "    def compute_integral_M_tilde_simpson(M_tilde_min: float, M_tilde_max: float, n_points: int = 10001) -> float:\n",
    "        \"\"\"\n",
    "        Integrate integrand_M_tilde from M_min to M_max using Simpson's rule.\n",
    "        n_points must be odd; if it's even, it's incremented by 1.\n",
    "        \"\"\"\n",
    "        if n_points % 2 == 0:\n",
    "            n_points += 1\n",
    "        M_tilde = np.linspace(M_tilde_min, M_tilde_max, n_points)\n",
    "        M_tilde_vec = M_tilde[:, None, None]  # add broadcast dims  # (10001, 1, 1)\n",
    "        y = integrand_M_tilde(M_tilde_vec)\n",
    "        # print(f\"y.shape: {y.shape}\")\n",
    "        return simpson(y, M_tilde, axis=0)\n",
    "\n",
    "\n",
    "    # Example usage:\n",
    "    M_min = 1 # MSolar\n",
    "    M_tilde_min = 0.87 * np.log(M_min/1e5) # M_min = 1 MSolar\n",
    "    integral_M_tilde = compute_integral_M_tilde_simpson(M_tilde_min, 14.0) # The integrand 'integrand_M_tilde' is sufficiently suppressed for all M_tilde > 14.0\n",
    "\n",
    "\n",
    "\n",
    "    \n",
    "    return 10**(5*(1-beta)) * A / (0.87 * L * r_tilde * (1+r_tilde)**2)   * integral_M_tilde # units of 1 / (kpc^3 photon/second)\n",
    "\n",
    "\n",
    "def DM_abundance_dR(x, L, params): # Returns the abundance function in the form dN/dR/dL. Note the dR. # this function needs to be passed to AEGIS\n",
    "    r = np.sqrt(x**2 + 8.5**2 - 2 * 8.5 * x * np.cos(np.deg2rad(40))) # x is the ad-hoc distance from the center of the Milky Way in kpc, and 8.5 is the distance of the Sun from the center of the Milky Way in kpc\n",
    "    return 4*np.pi*r**2 * DM_abundance(r, L, params) # dV = 4*np.pi*r^2 dr, so we need to multiply by 4*np.pi*r^2\n",
    "\n",
    "\n",
    "def DM_spectrum(energy, params): #'energy' is an array of energies in MeV \n",
    "    return dm.get_dNdE(\n",
    "            desired_E_MeV=energy,\n",
    "            channel=channel,\n",
    "            mass_MeV= mass_DM_GeV * 1e3\n",
    "        )"
   ]
  },
  {
   "cell_type": "code",
   "execution_count": 57,
   "id": "78eecf04",
   "metadata": {},
   "outputs": [
    {
     "name": "stderr",
     "output_type": "stream",
     "text": [
      "/tmp/ipykernel_1809478/1829848482.py:16: DeprecationWarning: Conversion of an array with ndim > 0 to a scalar is deprecated, and will error in future. Ensure you extract a single element from your array before performing this operation. (Deprecated NumPy 1.25.)\n",
      "  abundances[i, j] = DM_abundance_dR(x, lum, params_cases[case-1]) # abundance function in the form dN/dR/dL\n"
     ]
    }
   ],
   "source": [
    "# Case 1: [lower_limit_ADM, lower_limit_Mchi]\n",
    "# Case 2: [lower_limit_ADM, upper_limit_Mchi]\n",
    "# Case 3: [upper_limit_ADM, lower_limit_Mchi]\n",
    "# Case 4: [upper_limit_ADM, upper_limit_Mchi]\n",
    "params_cases = [np.array([100, 150]), np.array([100, 350]), np.array([500, 150]), np.array([500, 350])]\n",
    "case = 4 # Chose the case you want to use, 1, 2, 3 or 4\n",
    "\n",
    "num_samples = 100\n",
    "x_limits = np.array([0, max_radius]) # kpc\n",
    "lums = np.geomspace(lower_bound_luminosity, upper_bounds_luminosity[-1], num_samples) # photons/s\n",
    "\n",
    "abundances = np.zeros((len(x_limits), len(lums))) # abundance function in the form dN/dR/dL\n",
    "\n",
    "for i, x in enumerate(x_limits):\n",
    "    for j, lum in enumerate(lums):\n",
    "        abundances[i, j] = DM_abundance_dR(x, lum, params_cases[case-1]) # abundance function in the form dN/dR/dL"
   ]
  },
  {
   "cell_type": "code",
   "execution_count": 59,
   "id": "4959ae61",
   "metadata": {},
   "outputs": [
    {
     "data": {
      "image/png": "[encoded data removed]",
      "text/plain": [
       "<Figure size 640x480 with 1 Axes>"
      ]
     },
     "metadata": {},
     "output_type": "display_data"
    }
   ],
   "source": [
    "plt.loglog(lums, abundances[1,:])\n",
    "plt.show()"
   ]
  },
  {
   "cell_type": "code",
   "execution_count": null,
   "id": "e22f6680",
   "metadata": {},
   "outputs": [],
   "source": []
  }
 ],
 "metadata": {
  "kernelspec": {
   "display_name": "sbi_env",
   "language": "python",
   "name": "python3"
  },
  "language_info": {
   "codemirror_mode": {
    "name": "ipython",
    "version": 3
   },
   "file_extension": ".py",
   "mimetype": "text/x-python",
   "name": "python",
   "nbconvert_exporter": "python",
   "pygments_lexer": "ipython3",
   "version": "3.13.2"
  }
 },
 "nbformat": 4,
 "nbformat_minor": 5
}
