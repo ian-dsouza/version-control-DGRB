{
 "cells": [
  {
   "cell_type": "code",
   "execution_count": 1,
   "id": "25726408",
   "metadata": {},
   "outputs": [],
   "source": [
    "%reset"
   ]
  },
  {
   "cell_type": "code",
   "execution_count": 2,
   "id": "6a95dcf9",
   "metadata": {},
   "outputs": [],
   "source": [
    "import pickle\n",
    "import os\n",
    "import torch\n",
    "import warnings\n",
    "import numpy as np"
   ]
  },
  {
   "cell_type": "code",
   "execution_count": 3,
   "id": "7138f3a3",
   "metadata": {},
   "outputs": [],
   "source": [
    "# Number of files\n",
    "num_files = 11"
   ]
  },
  {
   "cell_type": "code",
   "execution_count": 4,
   "id": "2e34ae56",
   "metadata": {},
   "outputs": [],
   "source": [
    "warnings.filterwarnings(\"ignore\", category=FutureWarning)\n",
    "\n",
    "# Prepare list to hold all dictionaries\n",
    "data_list = []\n",
    "\n",
    "for i in range(num_files):\n",
    "    # Data files\n",
    "    filename_data = f\"max_photon_data{i}.pkl\"\n",
    "    if not os.path.exists(filename_data):\n",
    "        raise FileNotFoundError(f\"Expected file not found: {filename_data}\")\n",
    "    with open(filename_data, \"rb\") as f:\n",
    "        data = pickle.load(f)  # Unpickle the dictionary\n",
    "\n",
    "    \n",
    "\n",
    "    data_list.append(data)"
   ]
  },
  {
   "cell_type": "code",
   "execution_count": 5,
   "id": "cd50c904",
   "metadata": {},
   "outputs": [
    {
     "name": "stdout",
     "output_type": "stream",
     "text": [
      "len(data_list): 11\n"
     ]
    }
   ],
   "source": [
    "print(f\"len(data_list): {len(data_list)}\")"
   ]
  },
  {
   "cell_type": "code",
   "execution_count": 6,
   "id": "77531d74",
   "metadata": {},
   "outputs": [
    {
     "name": "stdout",
     "output_type": "stream",
     "text": [
      "Loaded 11 files and saved combined data to 'combined_max_photon_data.pkl'.\n"
     ]
    }
   ],
   "source": [
    "# Save data\n",
    "output_file_data = \"combined_max_photon_data.pkl\"\n",
    "with open(output_file_data, \"wb\") as f:\n",
    "    pickle.dump(data_list, f)  # Serialize the list of dicts \n",
    "\n",
    "print(f\"Loaded {len(data_list)} files and saved combined data to '{output_file_data}'.\")"
   ]
  }
 ],
 "metadata": {
  "kernelspec": {
   "display_name": "Python 3",
   "language": "python",
   "name": "python3"
  },
  "language_info": {
   "codemirror_mode": {
    "name": "ipython",
    "version": 3
   },
   "file_extension": ".py",
   "mimetype": "text/x-python",
   "name": "python",
   "nbconvert_exporter": "python",
   "pygments_lexer": "ipython3",
   "version": "3.13.2"
  }
 },
 "nbformat": 4,
 "nbformat_minor": 5
}
