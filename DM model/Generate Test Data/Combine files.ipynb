{
 "cells": [
  {
   "cell_type": "code",
   "execution_count": 75,
   "id": "25726408",
   "metadata": {},
   "outputs": [],
   "source": [
    "%reset"
   ]
  },
  {
   "cell_type": "code",
   "execution_count": 1,
   "id": "6a95dcf9",
   "metadata": {},
   "outputs": [],
   "source": [
    "import pickle\n",
    "import os\n",
    "import torch\n",
    "import warnings\n",
    "import numpy as np"
   ]
  },
  {
   "cell_type": "code",
   "execution_count": 2,
   "id": "2e34ae56",
   "metadata": {},
   "outputs": [],
   "source": [
    "warnings.filterwarnings(\"ignore\", category=FutureWarning)\n",
    "\n",
    "# Prepare list to hold all dictionaries\n",
    "# data_list = []\n",
    "# thetas_list = []\n",
    "\n",
    "\n",
    "# Data files\n",
    "# For background signal\n",
    "filename_data_BG = f\"test_data_BG.pkl\"\n",
    "if not os.path.exists(filename_data_BG):\n",
    "    raise FileNotFoundError(f\"Expected file not found: {filename_data_BG}\")\n",
    "with open(filename_data_BG, \"rb\") as f:\n",
    "    data_BG = pickle.load(f)  # Unpickle the dictionary\n",
    "# For DM signal\n",
    "filename_data_DM = f\"test_data_DM.pkl\"\n",
    "if not os.path.exists(filename_data_DM):\n",
    "    raise FileNotFoundError(f\"Expected file not found: {filename_data_DM}\")\n",
    "with open(filename_data_DM, \"rb\") as f:\n",
    "    data_DM = pickle.load(f)  # Unpickle the dictionary\n",
    "\n",
    "combined_angles = np.concatenate((data_BG['angles'], data_DM['angles']), axis=0) # vetcical stack\n",
    "combined_energies  = np.concatenate((data_BG['energies'], data_DM['energies']), axis=0) # vertical stack\n",
    "data_dictionary = {\n",
    "'angles': combined_angles,\n",
    "'energies': combined_energies\n",
    "}\n",
    "\n",
    "# data_list.append(data_1_sim)\n",
    "\n",
    "\n",
    "\n",
    "# Theta files\n",
    "# For background signal\n",
    "filename_thetas_BG = f\"test_thetas_BG.pt\"\n",
    "if not os.path.exists(filename_thetas_BG):\n",
    "    raise FileNotFoundError(f\"Missing file: {filename_thetas_BG}\")\n",
    "theta_BG = torch.load(filename_thetas_BG) \n",
    "# Ensure it’s the expected shape\n",
    "if theta_BG.ndim != 1 or theta_BG.numel() != 1:\n",
    "    raise ValueError(f\"Unexpected shape in {filename_thetas_BG}: {theta_BG.shape}\")\n",
    "# For DM signal\n",
    "filename_thetas_DM = f\"test_thetas_DM.pt\"\n",
    "if not os.path.exists(filename_thetas_DM):\n",
    "    raise FileNotFoundError(f\"Missing file: {filename_thetas_DM}\")\n",
    "theta_DM = torch.load(filename_thetas_DM) \n",
    "# Ensure it’s the expected shape\n",
    "if theta_DM.ndim != 1 or theta_DM.numel() != 2:\n",
    "    raise ValueError(f\"Unexpected shape in {filename_thetas_DM}: {theta_DM.shape}\")\n",
    "\n",
    "thetas_tensor= torch.cat((theta_BG, theta_DM), dim=0)\n",
    "\n",
    "# thetas_list.append(thetas_1_sim)\n",
    "\n",
    "# Stack into a single (260, 2) tensor\n",
    "# thetas_tensor = torch.stack(thetas_list, dim=0)"
   ]
  },
  {
   "cell_type": "code",
   "execution_count": 3,
   "id": "cd50c904",
   "metadata": {},
   "outputs": [
    {
     "name": "stdout",
     "output_type": "stream",
     "text": [
      "thetas_tensor.shape: torch.Size([3])\n"
     ]
    }
   ],
   "source": [
    "# print(f\"len(data_list): {len(data_list)}\")\n",
    "print(f\"thetas_tensor.shape: {thetas_tensor.shape}\")"
   ]
  },
  {
   "cell_type": "code",
   "execution_count": 4,
   "id": "77531d74",
   "metadata": {},
   "outputs": [
    {
     "name": "stdout",
     "output_type": "stream",
     "text": [
      "Loaded data file and saved combined data to 'combined_test_data.pkl'.\n",
      "Saved combined thetas tensor of shape torch.Size([3]) to 'combined_test_thetas.pt'.\n"
     ]
    }
   ],
   "source": [
    "# Save data\n",
    "output_file_data = \"combined_test_data.pkl\"\n",
    "with open(output_file_data, \"wb\") as f:\n",
    "    pickle.dump(data_dictionary, f)  # Serialize the list of dicts \n",
    "\n",
    "print(f\"Loaded data file and saved combined data to '{output_file_data}'.\")\n",
    "\n",
    "# Save thetas\n",
    "output_file_thetas = \"combined_test_thetas.pt\"\n",
    "torch.save(thetas_tensor, output_file_thetas)\n",
    "\n",
    "print(f\"Saved combined thetas tensor of shape {thetas_tensor.shape} to '{output_file_thetas}'.\")"
   ]
  }
 ],
 "metadata": {
  "kernelspec": {
   "display_name": "sbi_env",
   "language": "python",
   "name": "python3"
  },
  "language_info": {
   "codemirror_mode": {
    "name": "ipython",
    "version": 3
   },
   "file_extension": ".py",
   "mimetype": "text/x-python",
   "name": "python",
   "nbconvert_exporter": "python",
   "pygments_lexer": "ipython3",
   "version": "3.13.2"
  }
 },
 "nbformat": 4,
 "nbformat_minor": 5
}
