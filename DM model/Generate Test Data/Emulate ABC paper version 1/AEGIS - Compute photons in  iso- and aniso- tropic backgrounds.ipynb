{
 "cells": [
  {
   "cell_type": "markdown",
   "id": "b6207d3d",
   "metadata": {},
   "source": [
    "This file generates a faux isotropic background that contains the same number of photons in both the true isotropic and anisotropic backgrounds"
   ]
  },
  {
   "cell_type": "code",
   "execution_count": 35,
   "id": "72397ac2",
   "metadata": {},
   "outputs": [],
   "source": [
    "%reset"
   ]
  },
  {
   "cell_type": "code",
   "execution_count": 36,
   "id": "42a63c2c",
   "metadata": {},
   "outputs": [],
   "source": [
    "import sys\n",
    "sys.path.append('/home/users/ids29/DGRB')"
   ]
  },
  {
   "cell_type": "code",
   "execution_count": 37,
   "id": "5e50f008",
   "metadata": {},
   "outputs": [],
   "source": [
    "import aegis\n",
    "import numpy as np\n",
    "import torch\n",
    "import healpy as hp\n",
    "import pickle as pk\n",
    "from astropy import units\n",
    "from astropy import constants as c\n",
    "import matplotlib.pyplot as plt\n",
    "from os import listdir\n",
    "import os\n",
    "from sbi.inference import SNLE, SNPE#, prepare_for_sbi, simulate_for_sbi\n",
    "from sbi import utils as utils\n",
    "from sbi import analysis as analysis\n",
    "# from sbi.inference.base import infer\n",
    "from getdist import plots, MCSamples\n",
    "from joblib import Parallel, delayed, parallel_backend\n",
    "from scipy.integrate import quad, simpson\n",
    "import pickle\n",
    "from scipy.stats import norm\n",
    "import sources.DMsignal as DMsignal\n",
    "import sources.FermiBackgrounds as FermiBackgrounds\n",
    "from astropy import units as u\n",
    "\n",
    "\n",
    "%matplotlib inline"
   ]
  },
  {
   "cell_type": "code",
   "execution_count": 38,
   "id": "f667559a",
   "metadata": {},
   "outputs": [],
   "source": [
    "grains=10_000\n",
    "num_workers = 48"
   ]
  },
  {
   "cell_type": "code",
   "execution_count": 39,
   "id": "fd992993",
   "metadata": {},
   "outputs": [],
   "source": [
    "energy_range = [1_000, 100_000] #MeV \n",
    "max_radius = 220 #kpc #This is the virial radius of the Milky Way\n",
    "exposure = 2_000*10*0.2 #cm^2 yr\n",
    "flux_cut = 1e-9 #photons/cm^2/s\n",
    "angular_cut_degrees = 180 #degrees # 180 degress is full sky\n",
    "lat_cut_degrees = 0 #degrees # 0 degrees is full sky\n",
    "luminosity_range = np.array([1e13, 1e53]) # Minimum value set by considering source at distnace of closest approach by line of sight at 40 degrees and receiving 0.1 photon at detector side. CHANGE THIS FOR FINAL PROBLEM.\n",
    "                                            # Maximum value set by that value of luminosity that suffieciently suppreses the luminoisity function at the higher end of the luminosity range.\n",
    "\n",
    "\n",
    "parameter_range_aegis = [[], []]\n",
    "abundance_luminosity_and_spectrum_list = []\n",
    "source_class_list = []\n",
    "parameter_names = []\n",
    "energy_range_gen = [energy_range[0]*0.5, energy_range[1]*1.5]\n",
    "angular_cut = angular_cut_degrees*u.deg.to('rad') # radians\n",
    "angular_cut_gen =  min(angular_cut*1.5, np.pi) # radians\n",
    "lat_cut = lat_cut_degrees*u.deg.to('rad') # radians\n",
    "lat_cut_gen = lat_cut*0.5 # radians"
   ]
  },
  {
   "cell_type": "code",
   "execution_count": 40,
   "id": "fa83bac2",
   "metadata": {},
   "outputs": [],
   "source": [
    "def build_aegis_object():\n",
    "    engine = aegis.aegis(abundance_luminosity_and_spectrum_list, source_class_list, parameter_range_aegis, energy_range, luminosity_range, max_radius, exposure, angular_cut , lat_cut, flux_cut, energy_range_gen=energy_range_gen, verbose = False)\n",
    "    engine.angular_cut_gen, engine.lat_cut_gen = angular_cut_gen, lat_cut_gen\n",
    "    return engine\n"
   ]
  },
  {
   "cell_type": "code",
   "execution_count": 41,
   "id": "8a9301bd",
   "metadata": {},
   "outputs": [],
   "source": [
    "# 1) Point to your data directory and choose a channel\n",
    "data_dir = \"/home/users/ids29/DGRB/data/dm_spectra/\"         # must contain AtProduction_gammas.dat\n",
    "channel  = \"Tau\"                           # e.g. 'b' (bottom quarks) or 'Tau'\n",
    "\n",
    "\n",
    "# 2) Build the DMsignal object\n",
    "dm = DMsignal.DMsignal(directory=data_dir, channel=channel)"
   ]
  },
  {
   "cell_type": "markdown",
   "id": "c806b6bd",
   "metadata": {},
   "source": [
    "Isotropic Background signal"
   ]
  },
  {
   "cell_type": "code",
   "execution_count": null,
   "id": "9650730b",
   "metadata": {},
   "outputs": [],
   "source": [
    "# Note: Terminology:\n",
    "# flux is photon/cm^2/s\n",
    "# differential flux is photon/cm^2/s/MeV\n",
    "\n",
    "# Add Fermi background source class\n",
    "data_root = '/home/users/ids29/DGRB'\n",
    "fb = FermiBackgrounds.FermiBackgrounds(data_root)\n",
    "\n",
    "def spectrum_iso_BG(energy, params): # returns spectrum dN/dA/dt/dE/d(solid angle)  for each value of energy specified in the input array 'energy' \n",
    "    #such that the area under curve equals the flux (photons/cm^2/s) over the detector's energy range\n",
    "\n",
    "    dFdEdSr_E_interpfunc = fb.get_isotropic_background_spectrum_func() # returns an interpolation function -> dF/dE/d(solid_angle) versus E\n",
    "                                \n",
    "    return dFdEdSr_E_interpfunc(energy) \n",
    "\n",
    "# AEGIS functions for Fermi isotropic background\n",
    "als_iso_BG = [spectrum_iso_BG]"
   ]
  },
  {
   "cell_type": "markdown",
   "id": "5e25cb23",
   "metadata": {},
   "source": [
    "Anisotropic background signal"
   ]
  },
  {
   "cell_type": "code",
   "execution_count": 43,
   "id": "28a537ed",
   "metadata": {},
   "outputs": [],
   "source": [
    "def make_H_aniso_BG(fb, N_side, roi_mask=None):\n",
    "    \"\"\"\n",
    "    Build H(params) for AEGIS 'healpix_map' using the anisotropic background.\n",
    "\n",
    "    Returns H(params) -> map_vals, map_E, map_i, N_side, where:\n",
    "      - map_vals: 2D array shape (N_E, N_pix_included),\n",
    "                  UNITS: photons / cm^2 / s / sr / MeV   \n",
    "      - map_E:    1D array energies [MeV]\n",
    "      - map_i:    1D array of included HEALPix pixel indices (len = N_pix_included)\n",
    "      - N_side:   int\n",
    "\n",
    "    Notes\n",
    "    -----\n",
    "    * Do NOT multiply by the pixel solid angle; AEGIS applies Ω_pix = 4π / full_map_N_pix.\n",
    "    * If roi_mask is provided (boolean of length 12*N_side^2), only those pixels are included.\n",
    "    \"\"\"\n",
    "\n",
    "    # Load anisotropic background from FermiBackgrounds.py\n",
    "    aniso_bg = fb.get_nonistropic_background(N_side=N_side) # returns a dictionary \n",
    "    E_grid = aniso_bg[\"energies_MeV\"]                  # (N_E,) # units: MeV\n",
    "    map_per_sr = aniso_bg[\"galactic_bg\"]                  # (N_E, N_pix)  # units: photon / cm^2 / s / sr / MeV\n",
    "    N_pix = map_per_sr.shape[1]\n",
    "\n",
    "    # Sanity checks\n",
    "    expected = 12 * N_side**2\n",
    "    if N_pix != expected:\n",
    "        raise ValueError(f\"Anisotropic map has {N_pix} pixels, expected {expected} pixels for N_side={N_side}.\")\n",
    "\n",
    "    # Restrict to ROI if provided\n",
    "    if roi_mask is None: # full sky\n",
    "        map_i = np.arange(N_pix, dtype=int)\n",
    "        map_vals = map_per_sr\n",
    "    else:\n",
    "        roi_mask = np.asarray(roi_mask, dtype=bool)\n",
    "        if roi_mask.size != N_pix:\n",
    "            raise ValueError(f\"roi_mask length ({roi_mask.size}) is not equal to N_pix ({N_pix})\")\n",
    "        map_i = np.arange(N_pix, dtype=int)[roi_mask]  # returns indices of roi_mask which have True entries\n",
    "        map_vals = map_per_sr[:, map_i]\n",
    "\n",
    "    \n",
    "    return map_vals.copy(), E_grid, map_i, N_side"
   ]
  },
  {
   "cell_type": "code",
   "execution_count": 44,
   "id": "98ec19cf",
   "metadata": {},
   "outputs": [],
   "source": [
    "# Note: Terminology:\n",
    "# flux is photon/cm^2/s\n",
    "# differential flux is photon/cm^2/s/MeV\n",
    "\n",
    "# Add Fermi background source class\n",
    "data_root = '/home/users/ids29/DGRB'\n",
    "fb = FermiBackgrounds.FermiBackgrounds(data_root)\n",
    "\n",
    "def H_aniso(params):\n",
    "    # We don't care about 'params'\n",
    "    N_side = 64\n",
    "    map_vals, E_grid, map_i, N_side = make_H_aniso_BG(fb, N_side=N_side, roi_mask=None)\n",
    "    return map_vals, E_grid, map_i, N_side\n",
    "\n",
    "# AEGIS functions for Fermi anisotropic background\n",
    "als_aniso_BG = [H_aniso]"
   ]
  },
  {
   "cell_type": "code",
   "execution_count": 45,
   "id": "52fb2dea",
   "metadata": {},
   "outputs": [],
   "source": [
    "# a simple simulator with the total number of photons as the summary statistic\n",
    "def simulator(my_AEGIS, params):\n",
    "\n",
    "    input_params = params.numpy()\n",
    "\n",
    "    source_info = my_AEGIS.create_sources(input_params, grains=grains, epsilon=1e-3)\n",
    "    photon_info = my_AEGIS.generate_photons_from_sources(input_params, source_info, grains=grains) \n",
    "    obs_info = {'psf_fits_path': '/home/users/ids29/DGRB/FERMI_files/psf_P8R3_ULTRACLEANVETO_V2_PSF.fits', 'edisp_fits_path': '/home/users/ids29/DGRB/FERMI_files/edisp_P8R3_ULTRACLEANVETO_V2_PSF.fits', 'event_type': 'PSF3', 'exposure_map': None}\n",
    "    obs_photon_info = my_AEGIS.mock_observe(photon_info, obs_info)\n",
    "    \n",
    "    return obs_photon_info"
   ]
  },
  {
   "cell_type": "markdown",
   "id": "e464006a",
   "metadata": {},
   "source": [
    "Generate Data"
   ]
  },
  {
   "cell_type": "code",
   "execution_count": 46,
   "id": "7b1a761a",
   "metadata": {},
   "outputs": [
    {
     "name": "stdout",
     "output_type": "stream",
     "text": [
      "Healpix map 0 has 1376256 pixels\n"
     ]
    }
   ],
   "source": [
    "# Instatantiate the AEGIS object for Background\n",
    "obj_AEGIS = build_aegis_object()\n",
    "\n",
    "# Configure the AEGIS object for Isotropic Background\n",
    "obj_AEGIS.abun_lum_spec = [als_iso_BG]\n",
    "obj_AEGIS.source_class_list = ['isotropic_diffuse']\n",
    "\n",
    "# Run the simulator for Isotropic Background data\n",
    "photon_data_iso_BG = simulator(obj_AEGIS, torch.tensor([-1])) # Dummy params value\n",
    "\n",
    "# Configure the AEGIS object for Anisotropic Background\n",
    "obj_AEGIS.abun_lum_spec =  [als_aniso_BG]\n",
    "obj_AEGIS.source_class_list = ['healpix_map']\n",
    "\n",
    "# Run the simulator for Background data\n",
    "photon_data_aniso_BG = simulator(obj_AEGIS, torch.tensor([-1])) # Dummy params value\n",
    "\n",
    "# Save the photon information and theta parameters to files.\n",
    "with open(f'data_iso_BG.pkl', 'wb') as f:\n",
    "    pickle.dump(photon_data_iso_BG, f)\n",
    "with open(f'data_aniso_BG.pkl', 'wb') as f:\n",
    "    pickle.dump(photon_data_aniso_BG, f)"
   ]
  },
  {
   "cell_type": "code",
   "execution_count": 47,
   "id": "277f82c3",
   "metadata": {},
   "outputs": [
    {
     "name": "stdout",
     "output_type": "stream",
     "text": [
      "Total number of photons in the Isotropic background = 358196\n",
      "Total number of photons in the Anisotropic background = 6849595\n"
     ]
    }
   ],
   "source": [
    "print(f\"Total number of photons in the Isotropic background = {photon_data_iso_BG['energies'].size}\")\n",
    "print(f\"Total number of photons in the Anisotropic background = {photon_data_aniso_BG['energies'].size}\")"
   ]
  }
 ],
 "metadata": {
  "kernelspec": {
   "display_name": "sbi_env",
   "language": "python",
   "name": "python3"
  },
  "language_info": {
   "codemirror_mode": {
    "name": "ipython",
    "version": 3
   },
   "file_extension": ".py",
   "mimetype": "text/x-python",
   "name": "python",
   "nbconvert_exporter": "python",
   "pygments_lexer": "ipython3",
   "version": "3.13.2"
  }
 },
 "nbformat": 4,
 "nbformat_minor": 5
}
