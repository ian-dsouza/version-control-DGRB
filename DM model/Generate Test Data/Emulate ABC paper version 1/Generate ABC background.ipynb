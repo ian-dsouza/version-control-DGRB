{
 "cells": [
  {
   "cell_type": "markdown",
   "id": "b6207d3d",
   "metadata": {},
   "source": [
    "This file generates a faux isotropic background that contains the same number of photons in both the true isotropic and anisotropic backgrounds"
   ]
  },
  {
   "cell_type": "code",
   "execution_count": 52,
   "id": "72397ac2",
   "metadata": {},
   "outputs": [],
   "source": [
    "%reset"
   ]
  },
  {
   "cell_type": "code",
   "execution_count": 53,
   "id": "42a63c2c",
   "metadata": {},
   "outputs": [],
   "source": [
    "import sys\n",
    "sys.path.append('/home/users/ids29/DGRB')"
   ]
  },
  {
   "cell_type": "code",
   "execution_count": 54,
   "id": "5e50f008",
   "metadata": {},
   "outputs": [],
   "source": [
    "import aegis\n",
    "import numpy as np\n",
    "import torch\n",
    "import healpy as hp\n",
    "import pickle as pk\n",
    "from astropy import units\n",
    "from astropy import constants as c\n",
    "import matplotlib.pyplot as plt\n",
    "from os import listdir\n",
    "import os\n",
    "from sbi.inference import SNLE, SNPE#, prepare_for_sbi, simulate_for_sbi\n",
    "from sbi import utils as utils\n",
    "from sbi import analysis as analysis\n",
    "# from sbi.inference.base import infer\n",
    "from getdist import plots, MCSamples\n",
    "from joblib import Parallel, delayed, parallel_backend\n",
    "from scipy.integrate import quad, simpson\n",
    "import pickle\n",
    "from scipy.stats import norm\n",
    "import sources.DMsignal as DMsignal\n",
    "import sources.FermiBackgrounds as FermiBackgrounds\n",
    "from astropy import units as u\n",
    "\n",
    "\n",
    "%matplotlib inline"
   ]
  },
  {
   "cell_type": "code",
   "execution_count": 55,
   "id": "f667559a",
   "metadata": {},
   "outputs": [],
   "source": [
    "grains=10_000\n",
    "num_workers = 48"
   ]
  },
  {
   "cell_type": "code",
   "execution_count": 56,
   "id": "fd992993",
   "metadata": {},
   "outputs": [],
   "source": [
    "energy_range = [1_000, 100_000] #MeV \n",
    "max_radius = 220 #kpc #This is the virial radius of the Milky Way\n",
    "exposure = 2_000*10*0.2 #cm^2 yr\n",
    "flux_cut = 1e-9 #photons/cm^2/s\n",
    "angular_cut_degrees = 180 #degrees # 180 degress is full sky\n",
    "lat_cut_degrees = 0 #degrees # 0 degrees is full sky\n",
    "luminosity_range = np.array([1e13, 1e53]) # Minimum value set by considering source at distnace of closest approach by line of sight at 40 degrees and receiving 0.1 photon at detector side. CHANGE THIS FOR FINAL PROBLEM.\n",
    "                                            # Maximum value set by that value of luminosity that suffieciently suppreses the luminoisity function at the higher end of the luminosity range.\n",
    "\n",
    "\n",
    "parameter_range_aegis = [[], []]\n",
    "abundance_luminosity_and_spectrum_list = []\n",
    "source_class_list = []\n",
    "parameter_names = []\n",
    "energy_range_gen = [energy_range[0]*0.5, energy_range[1]*1.5]\n",
    "angular_cut = angular_cut_degrees*u.deg.to('rad') # radians\n",
    "angular_cut_gen =  min(angular_cut*1.5, np.pi) # radians\n",
    "lat_cut = lat_cut_degrees*u.deg.to('rad') # radians\n",
    "lat_cut_gen = lat_cut*0.5 # radians"
   ]
  },
  {
   "cell_type": "code",
   "execution_count": 57,
   "id": "fa83bac2",
   "metadata": {},
   "outputs": [],
   "source": [
    "def build_aegis_object():\n",
    "    engine = aegis.aegis(abundance_luminosity_and_spectrum_list, source_class_list, parameter_range_aegis, energy_range, luminosity_range, max_radius, exposure, angular_cut , lat_cut, flux_cut, energy_range_gen=energy_range_gen, verbose = False)\n",
    "    engine.angular_cut_gen, engine.lat_cut_gen = angular_cut_gen, lat_cut_gen\n",
    "    return engine\n"
   ]
  },
  {
   "cell_type": "code",
   "execution_count": 58,
   "id": "8a9301bd",
   "metadata": {},
   "outputs": [],
   "source": [
    "# 1) Point to your data directory and choose a channel\n",
    "data_dir = \"/home/users/ids29/DGRB/data/dm_spectra/\"         # must contain AtProduction_gammas.dat\n",
    "channel  = \"Tau\"                           # e.g. 'b' (bottom quarks) or 'Tau'\n",
    "\n",
    "\n",
    "# 2) Build the DMsignal object\n",
    "dm = DMsignal.DMsignal(directory=data_dir, channel=channel)"
   ]
  },
  {
   "cell_type": "markdown",
   "id": "c806b6bd",
   "metadata": {},
   "source": [
    "Background signal"
   ]
  },
  {
   "cell_type": "code",
   "execution_count": null,
   "id": "9650730b",
   "metadata": {},
   "outputs": [],
   "source": [
    "# Note: Terminology:\n",
    "# flux is photon/cm^2/s\n",
    "# differential flux is photon/cm^2/s/MeV\n",
    "\n",
    "# Add Fermi isotropic background source class\n",
    "data_root = '/home/users/ids29/DGRB'\n",
    "fb = FermiBackgrounds.FermiBackgrounds(data_root)\n",
    "\n",
    "def spec_BG(energy, params): # returns spectrum dF/dE for each value of energy specified in the input array 'energy' \n",
    "    #such that the area under curve equals the flux (photons/cm^2/s) over the detector's energy range\n",
    "    A_BG = params[0]\n",
    "    dFdEdSr_E_interpfunc = fb.get_isotropic_background_spectrum_func() # returns an interpolation function -> dF/dE/d(solid_angle) versus E\n",
    "    \n",
    "    num_photons_iso_bg = ... # GENERATE THE FULL ISOTROPIC BACKGROUND USING AEGIS, AND COUNT THE TOTAL NUMBER OF PHOTONS # for full sky in detector's energy range\n",
    "    num_photons_aniso_bg = ... # GENERATE THE FULL ANISOTROPIC BACKGROUND USING AEGIS, AND COUNT THE TOTAL NUMBER OF PHOTONS # for full sky in detector's energy range\n",
    "    correction_normalization = (num_photons_iso_bg + num_photons_aniso_bg) / num_photons_iso_bg # this factor adjusts the normalization such that the number of photons in this\n",
    "                                # faux isotropic background is equal to the sum of number of photons in the Fermi isotropic background, and the number of photons in the\n",
    "                                # Fermi non-isotropic background, everthing measured in the region of interest defined by the angular cut and latitudinal cut.\n",
    "                                \n",
    "    return A_BG * 4*np.pi * dFdEdSr_E_interpfunc(energy) * correction_normalization # 4*pi converts the term dF/dE/d(solid angle) to dF/dE since dF/dE/d(solid angle) is constant\n",
    "                                                                                    # in every direction\n",
    "\n",
    "# AEGIS functions for Fermi isotropic background\n",
    "als_FIB = [spec_BG]"
   ]
  },
  {
   "cell_type": "code",
   "execution_count": 60,
   "id": "52fb2dea",
   "metadata": {},
   "outputs": [],
   "source": [
    "# a simple simulator with the total number of photons as the summary statistic\n",
    "def simulator(my_AEGIS, params):\n",
    "\n",
    "    input_params = params.numpy()\n",
    "\n",
    "    source_info = my_AEGIS.create_sources(input_params, grains=grains, epsilon=1e-3)\n",
    "    photon_info = my_AEGIS.generate_photons_from_sources(input_params, source_info, grains=grains) \n",
    "    obs_info = {'psf_fits_path': '/home/users/ids29/DGRB/FERMI_files/psf_P8R3_ULTRACLEANVETO_V2_PSF.fits', 'edisp_fits_path': '/home/users/ids29/DGRB/FERMI_files/edisp_P8R3_ULTRACLEANVETO_V2_PSF.fits', 'event_type': 'PSF3', 'exposure_map': None}\n",
    "    obs_photon_info = my_AEGIS.mock_observe(photon_info, obs_info)\n",
    "    \n",
    "    return obs_photon_info"
   ]
  },
  {
   "cell_type": "markdown",
   "id": "176c7f29",
   "metadata": {},
   "source": [
    "Load Test parameters"
   ]
  },
  {
   "cell_type": "code",
   "execution_count": 61,
   "id": "4b50ca1a",
   "metadata": {},
   "outputs": [
    {
     "name": "stdout",
     "output_type": "stream",
     "text": [
      "A_DM_test = 200.0; mass_DM_GeV_test = 200.0; A_BG_test = 1.0\n"
     ]
    }
   ],
   "source": [
    "# ────────────────────────────────────────────────────────────────────────\n",
    "# 3)  Ask the object for its default model parameters\n",
    "#     (mass, amplitude, background).  These numbers come straight from\n",
    "#     the get_default_model() method you showed.\n",
    "# ────────────────────────────────────────────────────────────────────────\n",
    "model_defaults = dm.get_default_model()        # {'A_DM': …, 'A_BG': …, 'mass_DM_MeV': …}\n",
    "mass_DM_MeV_test    = model_defaults[\"mass_DM_MeV\"]  # MeV\n",
    "mass_DM_GeV_test    = mass_DM_MeV_test / 1e3                  # GeV\n",
    "A_DM_test           = model_defaults[\"A_DM\"] # unitless\n",
    "A_BG_test           = model_defaults[\"A_BG\"]\n",
    "\n",
    "print(f\"A_DM_test = {A_DM_test}; mass_DM_GeV_test = {mass_DM_GeV_test}; A_BG_test = {A_BG_test}\")"
   ]
  },
  {
   "cell_type": "markdown",
   "id": "e464006a",
   "metadata": {},
   "source": [
    "Generate Test Data"
   ]
  },
  {
   "cell_type": "code",
   "execution_count": 62,
   "id": "7b1a761a",
   "metadata": {},
   "outputs": [],
   "source": [
    "# params_DM_test = torch.tensor([A_DM_test, mass_DM_GeV_test])\n",
    "params_BG_test = torch.tensor([A_BG_test])\n",
    "\n",
    "# Instatantiate the AEGIS object for DM and Background\n",
    "obj_AEGIS = build_aegis_object()\n",
    "\n",
    "# # Configure the AEGIS object for DM\n",
    "# obj_AEGIS.abun_lum_spec = [als_DM]\n",
    "# obj_AEGIS.source_class_list = ['isotropic_faint_single_spectrum']\n",
    "\n",
    "# # Run the simulator for DM data\n",
    "# photon_info_DM_test = simulator(obj_AEGIS, params_DM_test)\n",
    "\n",
    "# Configure the AEGIS object for Background\n",
    "obj_AEGIS.abun_lum_spec =  [als_FIB]\n",
    "obj_AEGIS.source_class_list = ['isotropic_diffuse']\n",
    "\n",
    "# Run the simulator for Background data\n",
    "photon_info_BG_test = simulator(obj_AEGIS, params_BG_test)\n",
    "\n",
    "# Save the photon information and theta parameters to files.\n",
    "# with open(f'test_data_DM.pkl', 'wb') as f:\n",
    "#     pickle.dump(photon_info_DM_test, f)\n",
    "with open(f'test_data_BG.pkl', 'wb') as f:\n",
    "    pickle.dump(photon_info_BG_test, f)\n",
    "\n",
    "# torch.save(params_DM_test, f'test_thetas_DM.pt')\n",
    "torch.save(params_BG_test, f'test_thetas_BG.pt')"
   ]
  }
 ],
 "metadata": {
  "kernelspec": {
   "display_name": "sbi_env",
   "language": "python",
   "name": "python3"
  },
  "language_info": {
   "codemirror_mode": {
    "name": "ipython",
    "version": 3
   },
   "file_extension": ".py",
   "mimetype": "text/x-python",
   "name": "python",
   "nbconvert_exporter": "python",
   "pygments_lexer": "ipython3",
   "version": "3.13.2"
  }
 },
 "nbformat": 4,
 "nbformat_minor": 5
}
