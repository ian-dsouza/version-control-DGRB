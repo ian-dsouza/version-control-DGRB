{
 "cells": [
  {
   "cell_type": "code",
   "execution_count": null,
   "id": "0449a918",
   "metadata": {},
   "outputs": [],
   "source": [
    "%reset"
   ]
  },
  {
   "cell_type": "code",
   "execution_count": null,
   "id": "36705218",
   "metadata": {},
   "outputs": [],
   "source": [
    "import aegis\n",
    "import numpy as np\n",
    "import torch\n",
    "import healpy as hp\n",
    "import pickle as pk\n",
    "from astropy import units\n",
    "from astropy import constants as c\n",
    "import matplotlib.pyplot as plt\n",
    "from os import listdir\n",
    "import os\n",
    "from sbi.inference import SNLE, SNPE#, prepare_for_sbi, simulate_for_sbi\n",
    "from sbi import utils as utils\n",
    "from sbi import analysis as analysis\n",
    "# from sbi.inference.base import infer\n",
    "from getdist import plots, MCSamples\n",
    "from joblib import Parallel, delayed, parallel_backend\n",
    "from scipy.integrate import quad, simpson\n",
    "import pickle\n",
    "from scipy.stats import norm\n",
    "import sources.DMsignal as DMsignal\n",
    "import sources.FermiBackgrounds as FermiBackgrounds\n",
    "from astropy import units as u\n",
    "\n",
    "\n",
    "%matplotlib inline"
   ]
  },
  {
   "cell_type": "code",
   "execution_count": null,
   "id": "ac106dac",
   "metadata": {},
   "outputs": [],
   "source": [
    "grains=10_000\n",
    "num_workers = 48"
   ]
  },
  {
   "cell_type": "code",
   "execution_count": null,
   "id": "38a217ff",
   "metadata": {},
   "outputs": [],
   "source": [
    "energy_range = [1_000, 100_000] #MeV \n",
    "max_radius = 220 #kpc #This is the virial radius of the Milky Way\n",
    "exposure = 2_000*10*0.2 #cm^2 yr\n",
    "flux_cut = 1e-9 #photons/cm^2/s\n",
    "angular_cut_degrees = 180 #degrees # 180 degress is full sky\n",
    "lat_cut_degrees = 0 #degrees # 0 degrees is full sky\n",
    "luminosity_range = np.array([1e13, 1e53]) # Minimum value set by considering source at distnace of closest approach by line of sight at 40 degrees and receiving 0.1 photon at detector side. CHANGE THIS FOR FINAL PROBLEM.\n",
    "                                            # Maximum value set by that value of luminosity that suffieciently suppreses the luminoisity function at the higher end of the luminosity range.\n",
    "\n",
    "\n",
    "parameter_range_aegis = [[], []]\n",
    "abundance_luminosity_and_spectrum_list = []\n",
    "source_class_list = []\n",
    "parameter_names = []\n",
    "energy_range_gen = [energy_range[0]*0.5, energy_range[1]*1.5]\n",
    "angular_cut = angular_cut_degrees*u.deg.to('rad') # radians\n",
    "angular_cut_gen =  min(angular_cut*1.5, np.pi) # radians\n",
    "lat_cut = lat_cut_degrees*u.deg.to('rad') # radians\n",
    "lat_cut_gen = lat_cut*0.5 # radians"
   ]
  },
  {
   "cell_type": "code",
   "execution_count": null,
   "id": "598b1ecd",
   "metadata": {},
   "outputs": [],
   "source": [
    "def build_aegis_object():\n",
    "    engine = aegis.aegis(abundance_luminosity_and_spectrum_list, source_class_list, parameter_range_aegis, energy_range, luminosity_range, max_radius, exposure, angular_cut , lat_cut, flux_cut, energy_range_gen=energy_range_gen, verbose = False)\n",
    "    engine.angular_cut_gen, engine.lat_cut_gen = angular_cut_gen, lat_cut_gen\n",
    "    return engine\n"
   ]
  },
  {
   "cell_type": "code",
   "execution_count": null,
   "id": "46d1a275",
   "metadata": {},
   "outputs": [],
   "source": [
    "# Note: Terminology:\n",
    "# flux is photon/cm^2/s\n",
    "# differential flux is photon/cm^2/s/MeV\n",
    "\n",
    "# Add Fermi background source class\n",
    "data_root = '/home/users/ids29/DGRB'\n",
    "fb = FermiBackgrounds.FermiBackgrounds(data_root)\n",
    "\n",
    "def spectrum_iso_BG(energy, params): # returns spectrum dN/dA/dt/dE/d(solid angle)  for each value of energy specified in the input array 'energy' \n",
    "    #such that the area under curve equals the flux (photons/cm^2/s) over the detector's energy range\n",
    "\n",
    "    dFdEdSr_E_interpfunc = fb.get_isotropic_background_spectrum_func() # returns an interpolation function -> dF/dE/d(solid_angle) versus E\n",
    "                                \n",
    "    return dFdEdSr_E_interpfunc(energy) \n",
    "\n",
    "# AEGIS functions for Fermi isotropic background\n",
    "als_iso_BG = [spectrum_iso_BG]"
   ]
  },
  {
   "cell_type": "code",
   "execution_count": null,
   "id": "7b3b2625",
   "metadata": {},
   "outputs": [],
   "source": [
    "# a simple simulator with the total number of photons as the summary statistic\n",
    "def simulator(my_AEGIS, params): # No mock_observe applied to photon data\n",
    "\n",
    "    input_params = params.numpy()\n",
    "\n",
    "    source_info = my_AEGIS.create_sources(input_params, grains=grains, epsilon=1e-3)\n",
    "    photon_info = my_AEGIS.generate_photons_from_sources(input_params, source_info, grains=grains) \n",
    "    return photon_info"
   ]
  },
  {
   "cell_type": "code",
   "execution_count": null,
   "id": "ae99aa8b",
   "metadata": {},
   "outputs": [],
   "source": [
    "# Instatantiate the AEGIS object for Background\n",
    "obj_AEGIS = build_aegis_object()\n",
    "\n",
    "# # Configure the AEGIS object for Isotropic Background\n",
    "# obj_AEGIS.abun_lum_spec = [als_iso_BG]\n",
    "# obj_AEGIS.source_class_list = ['isotropic_diffuse']\n",
    "\n",
    "# # Run the simulator for Isotropic Background data\n",
    "# photon_data_iso_BG = simulator(obj_AEGIS, torch.tensor([-1])) # Dummy params value"
   ]
  },
  {
   "cell_type": "code",
   "execution_count": null,
   "id": "85e2bfd1",
   "metadata": {},
   "outputs": [],
   "source": [
    "energy_vals = np.geomspace(self.Emin_gen, self.Emax_gen, grains)\n",
    "spectrum = self.abun_lum_spec[si][0](energy_vals, input_params)\n",
    "solid_angle = 2*np.pi*(1-np.cos(self.angular_cut_gen))\n",
    "exposure_correction = units.kpc.to('cm')**2\n",
    "mean_photons = np.rint(solid_angle*np.sum(spectrum[1:]*(energy_vals[1:] - energy_vals[:-1]))*self.exposure*exposure_correction).astype('int')\n",
    "num_photons = np.random.poisson(mean_photons)\n",
    "if num_photons == 0:\n",
    "    Es = np.array([])\n",
    "else:\n",
    "    Es = energy_vals[self.draw_from_pdf(energy_vals, spectrum/np.sum(spectrum), num_photons)]"
   ]
  }
 ],
 "metadata": {
  "language_info": {
   "name": "python"
  }
 },
 "nbformat": 4,
 "nbformat_minor": 5
}
