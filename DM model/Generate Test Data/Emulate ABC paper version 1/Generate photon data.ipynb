{
 "cells": [
  {
   "cell_type": "code",
   "execution_count": 60,
   "id": "8dc2c7b1",
   "metadata": {},
   "outputs": [],
   "source": [
    "%reset"
   ]
  },
  {
   "cell_type": "code",
   "execution_count": 61,
   "id": "481e58ce",
   "metadata": {},
   "outputs": [],
   "source": [
    "import sys\n",
    "sys.path.append('/home/users/ids29/DGRB')"
   ]
  },
  {
   "cell_type": "code",
   "execution_count": 62,
   "id": "948f41ea",
   "metadata": {},
   "outputs": [],
   "source": [
    "import aegis\n",
    "import numpy as np\n",
    "import torch\n",
    "import healpy as hp\n",
    "import pickle as pk\n",
    "from astropy import units\n",
    "from astropy import constants as c\n",
    "import matplotlib.pyplot as plt\n",
    "from os import listdir\n",
    "import os\n",
    "from sbi.inference import SNLE, SNPE#, prepare_for_sbi, simulate_for_sbi\n",
    "from sbi import utils as utils\n",
    "from sbi import analysis as analysis\n",
    "# from sbi.inference.base import infer\n",
    "from getdist import plots, MCSamples\n",
    "from joblib import Parallel, delayed, parallel_backend\n",
    "from scipy.integrate import quad, simpson\n",
    "import pickle\n",
    "from scipy.stats import norm\n",
    "import sources.DMsignal as DMsignal\n",
    "import sources.FermiBackgrounds as FermiBackgrounds\n",
    "from astropy import units as u\n",
    "\n",
    "\n",
    "%matplotlib inline"
   ]
  },
  {
   "cell_type": "code",
   "execution_count": 63,
   "id": "de89003f",
   "metadata": {},
   "outputs": [],
   "source": [
    "grains=1000\n",
    "num_workers = 48"
   ]
  },
  {
   "cell_type": "code",
   "execution_count": 64,
   "id": "0bd9fb65",
   "metadata": {},
   "outputs": [],
   "source": [
    "energy_range = [1_000, 100_000] #MeV \n",
    "max_radius = 220 #kpc #This is the virial radius of the Milky Way\n",
    "exposure = 2_000*10*0.2 #cm^2 yr\n",
    "flux_cut = 1e-9 #photons/cm^2/s\n",
    "angular_cut_degrees = 180 #degrees # 180 degress is full sky\n",
    "lat_cut_degrees = 0 #degrees # 0 degrees is full sky\n",
    "luminosity_range = np.array([1e13, 1e53]) # Minimum value set by considering source at distnace of closest approach by line of sight at 40 degrees and receiving 0.1 photon at detector side. CHANGE THIS FOR FINAL PROBLEM.\n",
    "                                            # Maximum value set by that value of luminosity that suffieciently suppreses the luminoisity function at the higher end of the luminosity range.\n",
    "\n",
    "\n",
    "parameter_range_aegis = [[], []]\n",
    "abundance_luminosity_and_spectrum_list = []\n",
    "source_class_list = []\n",
    "parameter_names = []\n",
    "energy_range_gen = [energy_range[0]*0.5, energy_range[1]*1.5]\n",
    "angular_cut = angular_cut_degrees*u.deg.to('rad') # radians\n",
    "angular_cut_gen =  min(angular_cut*1.5, np.pi) # radians\n",
    "lat_cut = lat_cut_degrees*u.deg.to('rad') # radians\n",
    "lat_cut_gen = lat_cut*0.5 # radians"
   ]
  },
  {
   "cell_type": "code",
   "execution_count": null,
   "id": "bafe2be3",
   "metadata": {},
   "outputs": [],
   "source": [
    "def build_aegis_object():\n",
    "    engine = aegis.aegis(abundance_luminosity_and_spectrum_list, source_class_list, parameter_range_aegis, energy_range, luminosity_range, max_radius, exposure, angular_cut , lat_cut, flux_cut, energy_range_gen=energy_range_gen, verbose = False)\n",
    "    engine.angular_cut_gen, engine.lat_cut_gen = angular_cut_gen, lat_cut_gen\n",
    "    return engine\n"
   ]
  },
  {
   "cell_type": "code",
   "execution_count": 66,
   "id": "ece31312",
   "metadata": {},
   "outputs": [],
   "source": [
    "# 1) Point to your data directory and choose a channel\n",
    "data_dir = \"/home/users/ids29/DGRB/data/dm_spectra/\"         # must contain AtProduction_gammas.dat\n",
    "channel  = \"Tau\"                           # e.g. 'b' (bottom quarks) or 'Tau'\n",
    "\n",
    "\n",
    "# 2) Build the DMsignal object\n",
    "dm = DMsignal.DMsignal(directory=data_dir, channel=channel)"
   ]
  },
  {
   "cell_type": "markdown",
   "id": "26bd1da8",
   "metadata": {},
   "source": [
    "Dark Matter Model"
   ]
  },
  {
   "cell_type": "code",
   "execution_count": 67,
   "id": "3088813e",
   "metadata": {},
   "outputs": [],
   "source": [
    "def DM_abundance(r, L, params): # Outputs the abundance function in the form dN/dV/dL. Note the dV.\n",
    "    \"\"\"\n",
    "    Abundance function for the DM signal.\n",
    "    \"\"\"\n",
    "    # r is the distance from the source # kpc\n",
    "    # L is the luminosity of the source # photons/second\n",
    "    # return the abundance function in the form dN/dV/dL in units of 1 / (kpc^3 photon/second)\n",
    "    # params conatins 'mass of DM particle in GeV'\n",
    "\n",
    "\n",
    "\n",
    "\n",
    "    A_DM = params[0]\n",
    "    mass_DM_GeV = params[1] # UPDATE TO THE CURRENT PARAMS INDEX\n",
    "\n",
    "    LFs = np.zeros_like(L)\n",
    "\n",
    "    \n",
    "    beta = 1.9\n",
    "    A = 1.2e4 # MSolar^{-1} kpc^{-3}\n",
    "    r_s = 21 #kpc\n",
    "    r_tilde = r / r_s # unitless # same shape as 'r'\n",
    "    cross_section = 3e-26 #cm^3 s^{−1}\n",
    "    \n",
    "    def compute_integral_E(E_min: float, E_max: float, n_points: int = 10_001) -> float:\n",
    "        \"\"\"\n",
    "        Compute ∫ dN/dE dE between E_min and E_max [MeV]\n",
    "        by sampling on a uniform grid and applying Simpson's rule.\n",
    "        n_points must be odd for Simpson's rule.\n",
    "        \"\"\"\n",
    "        # make sure we have an odd number of points\n",
    "        if n_points % 2 == 0:\n",
    "            n_points += 1\n",
    "\n",
    "        E = np.linspace(E_min, E_max, n_points)\n",
    "        dNdE = dm.get_dNdE(\n",
    "            desired_E_MeV=E,\n",
    "            channel=channel,\n",
    "            mass_MeV= mass_DM_GeV * 1e3\n",
    "        )\n",
    "        return simpson(dNdE, x=E)\n",
    "\n",
    "    Emin, Emax = energy_range_gen[0], energy_range_gen[1] # MeV\n",
    "    integral_E = compute_integral_E(Emin, Emax)\n",
    "\n",
    "\n",
    "\n",
    "    Phi_pp = A_DM * cross_section / (8 * np.pi * mass_DM_GeV**2) * integral_E  # cm^3 s^{-1} GeV^{-2}\n",
    "\n",
    "    \n",
    "\n",
    "    def integrand_M_tilde(M_tilde):\n",
    "        # print(f\"mu = {mu}; sigma = {sigma}\")\n",
    "        return np.exp(-(M_tilde - mu)**2/(2*sigma**2)) \n",
    "    \n",
    "\n",
    "\n",
    "\n",
    "    def compute_integral_M_tilde_simpson(M_tilde_min: float, M_tilde_max: float, n_points: int = 10001) -> float:\n",
    "        \"\"\"\n",
    "        Integrate integrand_M_tilde from M_min to M_max using Simpson's rule.\n",
    "        n_points must be odd; if it's even, it's incremented by 1.\n",
    "        \"\"\"\n",
    "        if n_points % 2 == 0:\n",
    "            n_points += 1\n",
    "        M_tildes = np.linspace(M_tilde_min, M_tilde_max, n_points)\n",
    "        y = integrand_M_tilde(M_tildes)\n",
    "        return simpson(y, x=M_tildes)\n",
    "\n",
    "\n",
    "    # Example usage:\n",
    "    M_min = 1 # MSolar\n",
    "    M_tilde_min = 0.87 * np.log(M_min/1e5) # M_min = 1 MSolar\n",
    "    # print(f\"M_tilde_min = {M_tilde_min}\")\n",
    "\n",
    "    for i in range(LFs.shape[0]):\n",
    "        for j in range(LFs.shape[1]):\n",
    "\n",
    "            M_subhalo = 1e5 # solar masses\n",
    "            sigma = 0.74 + 0.011 * np.log(r[i,j]/50) - 0.003 * np.log(M_subhalo/1e5)\n",
    "            Delta = np.log(L[i,j]) - 77.4 + 0.23*np.log(r[i,j]/50) - np.log((8*np.pi*Phi_pp)/(1e-28)) # unitless\n",
    "            mu = sigma**2 * (1-beta) / 0.87  +  Delta\n",
    "\n",
    "            mass_dependent_terms = np.exp((mu**2 - Delta**2)/(2*sigma**2)) / (np.sqrt(2*np.pi)*sigma) # Doesn't depend on M_tilde\n",
    "\n",
    "            integral_M_tilde = compute_integral_M_tilde_simpson(M_tilde_min, 14.0) # The integrand 'integrand_M_tilde' is sufficiently suppressed for all M_tilde > 14.0\n",
    "            \n",
    "            LFs[i,j] = 10**(5*(1-beta)) * A / (0.87 * L[i,j] * r_tilde[i,j] * (1+r_tilde[i,j])**2)  * mass_dependent_terms *  integral_M_tilde # units of 1 / (kpc^3 photon/second)\n",
    "            \n",
    "    return LFs\n",
    "\n",
    "\n",
    "def DM_abundance_wrapper(x, L, params): # this function needs to be passed to AEGIS\n",
    "     \n",
    "    r = np.sqrt(x**2 + 8.5**2 - 2 * 8.5 * x * np.cos(np.deg2rad(40))) # x is the ad-hoc distance from the center of the Milky Way in kpc, and 8.5 is the distance of the Sun from the center of the Milky Way in kpc\n",
    "\n",
    "    # Returns the abundance function in the form dN/dR/dL. Note the dR.\n",
    "    # return 4*np.pi*r**2 * DM_abundance(r, L, params) # dV = 4*np.pi*r^2 dr, so we need to multiply by 4*np.pi*r^2\n",
    "\n",
    "    # Returns the abundance function in the form dN/dV/dL. Note the dV.\n",
    "    return DM_abundance(r, L, params)\n",
    "\n",
    "def DM_spectrum(energy, params): #'energy' is an array of energies in MeV \n",
    "    mass_DM_GeV = params[1] # UPDATE TO THE CURRENT PARAMS INDEX\n",
    "    return dm.get_dNdE(\n",
    "            desired_E_MeV=energy,\n",
    "            channel=channel,\n",
    "            mass_MeV= mass_DM_GeV * 1e3\n",
    "        )\n",
    "\n",
    "# AEGIS functions for Dark matter signal\n",
    "als_DM = [DM_abundance_wrapper, DM_spectrum]"
   ]
  },
  {
   "cell_type": "markdown",
   "id": "90850f9a",
   "metadata": {},
   "source": [
    "Background signal"
   ]
  },
  {
   "cell_type": "code",
   "execution_count": 68,
   "id": "5b10767f",
   "metadata": {},
   "outputs": [],
   "source": [
    "# Add Fermi isotropic background source class\n",
    "data_root = '/home/users/ids29/DGRB'\n",
    "my_FB = FermiBackgrounds.FermiBackgrounds(data_root)\n",
    "def spec_iso_wrap(energy, params):\n",
    "    A_BG = params[0]\n",
    "    iso_fit = my_FB.get_isotropic_background_spectrum_func()\n",
    "    correction_normalization = 397_174 / 351_854 # this factor adjusts the normalization such that the number of photons in this faux isotropic background is equal to the sum of number of photons in the Fermi isotropic background,\n",
    "                               # and the number of photons in the Fermi non-isotropic background, everthing measured in the region of interest defined by the angular cut and latitudinal cut.\n",
    "    return A_BG * iso_fit(energy) * correction_normalization\n",
    "\n",
    "# AEGIS functions for Fermi isotropic background\n",
    "als_FIB = [spec_iso_wrap]"
   ]
  },
  {
   "cell_type": "code",
   "execution_count": 69,
   "id": "2a19413d",
   "metadata": {},
   "outputs": [],
   "source": [
    "# a simple simulator with the total number of photons as the summary statistic\n",
    "def simulator(my_AEGIS, params):\n",
    "\n",
    "    input_params = params.numpy()\n",
    "\n",
    "    source_info = my_AEGIS.create_sources(input_params, grains=grains, epsilon=1e-2)\n",
    "    photon_info = my_AEGIS.generate_photons_from_sources(input_params, source_info, grains=grains) \n",
    "    obs_info = {'psf_fits_path': '/home/users/ids29/DGRB/FERMI_files/psf_P8R3_ULTRACLEANVETO_V2_PSF.fits', 'edisp_fits_path': '/home/users/ids29/DGRB/FERMI_files/edisp_P8R3_ULTRACLEANVETO_V2_PSF.fits', 'event_type': 'PSF3', 'exposure_map': None}\n",
    "    obs_photon_info = my_AEGIS.mock_observe(photon_info, obs_info)\n",
    "    \n",
    "    return obs_photon_info"
   ]
  },
  {
   "cell_type": "markdown",
   "id": "177751ea",
   "metadata": {},
   "source": [
    "Run simulations in parallel"
   ]
  },
  {
   "cell_type": "markdown",
   "id": "ca4ffb93",
   "metadata": {},
   "source": [
    "Load Test parameters"
   ]
  },
  {
   "cell_type": "code",
   "execution_count": 70,
   "id": "b5a40e68",
   "metadata": {},
   "outputs": [
    {
     "name": "stdout",
     "output_type": "stream",
     "text": [
      "A_DM_test = 200.0; mass_DM_GeV_test = 200.0; A_BG_test = 1.0\n"
     ]
    }
   ],
   "source": [
    "# ────────────────────────────────────────────────────────────────────────\n",
    "# 3)  Ask the object for its default model parameters\n",
    "#     (mass, amplitude, background).  These numbers come straight from\n",
    "#     the get_default_model() method you showed.\n",
    "# ────────────────────────────────────────────────────────────────────────\n",
    "model_defaults = dm.get_default_model()        # {'A_DM': …, 'A_BG': …, 'mass_DM_MeV': …}\n",
    "mass_DM_MeV_test    = model_defaults[\"mass_DM_MeV\"]  # MeV\n",
    "mass_DM_GeV_test    = mass_DM_MeV_test / 1e3                  # GeV\n",
    "A_DM_test           = model_defaults[\"A_DM\"] # unitless\n",
    "A_BG_test           = model_defaults[\"A_BG\"]\n",
    "\n",
    "print(f\"A_DM_test = {A_DM_test}; mass_DM_GeV_test = {mass_DM_GeV_test}; A_BG_test = {A_BG_test}\")"
   ]
  },
  {
   "cell_type": "markdown",
   "id": "4084817a",
   "metadata": {},
   "source": [
    "Generate Test Data"
   ]
  },
  {
   "cell_type": "markdown",
   "id": "e904bef2",
   "metadata": {},
   "source": [
    "Both DM and Background singals w/ nominal values of parameters"
   ]
  },
  {
   "cell_type": "code",
   "execution_count": 71,
   "id": "d0bd1165",
   "metadata": {},
   "outputs": [],
   "source": [
    "params_DM_test = torch.tensor([A_DM_test, mass_DM_GeV_test])\n",
    "params_BG_test = torch.tensor([A_BG_test])\n",
    "\n",
    "# Instatantiate the AEGIS object for DM and Background\n",
    "obj_AEGIS = build_aegis_object()\n",
    "\n",
    "# Configure the AEGIS object for DM\n",
    "obj_AEGIS.abun_lum_spec = [als_DM]\n",
    "obj_AEGIS.source_class_list = ['isotropic_faint_single_spectrum']\n",
    "\n",
    "# Run the simulator for DM data\n",
    "photon_info_DM_test = simulator(obj_AEGIS, params_DM_test)\n",
    "\n",
    "# Configure the AEGIS object for Background\n",
    "obj_AEGIS.abun_lum_spec =  [als_FIB]\n",
    "obj_AEGIS.source_class_list = ['isotropic_diffuse']\n",
    "\n",
    "# Run the simulator for Background data\n",
    "photon_info_BG_test = simulator(obj_AEGIS, params_BG_test)\n",
    "\n",
    "# Save the photon information and theta parameters to files.\n",
    "with open(f'test_data_DM.pkl', 'wb') as f:\n",
    "    pickle.dump(photon_info_DM_test, f)\n",
    "with open(f'test_data_BG.pkl', 'wb') as f:\n",
    "    pickle.dump(photon_info_BG_test, f)\n",
    "\n",
    "torch.save(params_DM_test, f'test_thetas_DM.pt')\n",
    "torch.save(params_BG_test, f'test_thetas_BG.pt')"
   ]
  },
  {
   "cell_type": "markdown",
   "id": "1cabdd99",
   "metadata": {},
   "source": [
    "Both DM and Background signals w/ max A_DM, max A_BG, and 10 values of M_DM - to decide the max counts-in-a-pixel in each energy bin for the 2D histogram"
   ]
  },
  {
   "cell_type": "code",
   "execution_count": 72,
   "id": "e3673bf8",
   "metadata": {},
   "outputs": [],
   "source": [
    "# def manual_simulate_for_sbi(A_BG, A_DM, M_DM, num_workers=11):\n",
    "#     \"\"\"\n",
    "#     Simulates the model in parallel using joblib.\n",
    "#     Each simulation call samples a parameter from the proposal and passes the index to the simulator.\n",
    "#     \"\"\"\n",
    "#     def run_simulation(i, A_BG, A_DM, M_val):\n",
    "#         print(f\"i={i} M_DM={M_val} A_BG={A_BG} A_DM={A_DM}\")\n",
    "\n",
    "#         params_DM = torch.tensor([A_DM, M_val], dtype=torch.float64)\n",
    "#         params_BG = torch.tensor([A_BG], dtype=torch.float64)\n",
    "\n",
    "#         # Instatantiate the AEGIS object for DM and Background\n",
    "#         obj_AEGIS = build_aegis_object()\n",
    "\n",
    "#         # Configure the AEGIS object for DM\n",
    "#         obj_AEGIS.abun_lum_spec = [als_DM]\n",
    "#         obj_AEGIS.source_class_list = ['isotropic_faint_single_spectrum']\n",
    "\n",
    "#         # Run the simulator for DM data\n",
    "#         photon_info_DM = simulator(obj_AEGIS, params_DM)\n",
    "\n",
    "#         # Configure the AEGIS object for Background\n",
    "#         obj_AEGIS.abun_lum_spec =  [als_FIB] \n",
    "#         obj_AEGIS.source_class_list = ['isotropic_diffuse']\n",
    "\n",
    "#         # Run the simulator for Background data\n",
    "#         photon_info_BG = simulator(obj_AEGIS, params_BG)\n",
    "\n",
    "\n",
    "#         # Combine DM and Background photon info\n",
    "#         combined_angles = np.concatenate((photon_info_BG['angles'], photon_info_DM['angles']), axis=0) # vetcical stack\n",
    "#         combined_energies  = np.concatenate((photon_info_BG['energies'], photon_info_DM['energies']), axis=0) # vertical stack\n",
    "#         data_dictionary = {\n",
    "#         'angles': combined_angles,\n",
    "#         'energies': combined_energies\n",
    "#         }\n",
    "\n",
    "#         # Save the photon information and theta parameters to files.\n",
    "#         with open(f'/home/users/ids29/DGRB Scripts/DM model/Generate Test Data/Max photon data/max_photon_data{i}.pkl', 'wb') as f:\n",
    "#             pickle.dump(data_dictionary, f)\n",
    "            \n",
    "\n",
    "#     with parallel_backend('threading', n_jobs=int(min(num_workers, M_DM.size))):\n",
    "#         Parallel(timeout=None)(delayed(run_simulation)(i, A_BG, A_DM, m) for i, m in enumerate(M_DM))"
   ]
  },
  {
   "cell_type": "code",
   "execution_count": 73,
   "id": "7c97483c",
   "metadata": {},
   "outputs": [],
   "source": [
    "# # Define the prior using sbi.utils.BoxUniform\n",
    "# # A_DM_training_range = [100, 500]\n",
    "# # A_BG_training_range = [0.8, 1.1]\n",
    "# # M_chi_training_range = [150, 350] # mass of DM particle in GeV\n",
    "\n",
    "# A_BG = 1.1\n",
    "# A_DM = 500.0\n",
    "# M_DM = np.linspace(150.0, 350.0, 11) # mass of DM particle in GeV\n",
    "\n",
    "# manual_simulate_for_sbi(A_BG, A_DM, M_DM, num_workers=11)"
   ]
  },
  {
   "cell_type": "markdown",
   "id": "3707166b",
   "metadata": {},
   "source": [
    "Only Background signal"
   ]
  },
  {
   "cell_type": "code",
   "execution_count": 74,
   "id": "3bef88e5",
   "metadata": {},
   "outputs": [],
   "source": [
    "# # Instatantiate the AEGIS object\n",
    "# obj_AEGIS = build_aegis_object()\n",
    "\n",
    "# # Configure the AEGIS object for Background\n",
    "# obj_AEGIS.abun_lum_spec =  [als_FIB] \n",
    "# obj_AEGIS.source_class_list = ['isotropic_diffuse']\n",
    "\n",
    "# # Run the simulator for Background data\n",
    "# params_BG = torch.tensor([A_BG_test])\n",
    "# photon_info = simulator(obj_AEGIS, params_BG)"
   ]
  },
  {
   "cell_type": "markdown",
   "id": "62bbaf9b",
   "metadata": {},
   "source": [
    "Only DM signal"
   ]
  },
  {
   "cell_type": "code",
   "execution_count": 75,
   "id": "1fa81566",
   "metadata": {},
   "outputs": [],
   "source": [
    "# # Instatantiate the AEGIS object\n",
    "# obj_AEGIS = build_aegis_object()\n",
    "\n",
    "# # Configure the AEGIS object for DM subhalos\n",
    "# obj_AEGIS.abun_lum_spec =  [als_DM]\n",
    "# obj_AEGIS.source_class_list = ['isotropic_faint_single_spectrum']\n",
    "\n",
    "# # Run the simulator for Background data\n",
    "# params_DM = torch.tensor([A_DM_test, mass_DM_GeV_test])\n",
    "# photon_info = simulator(obj_AEGIS, params_DM)"
   ]
  },
  {
   "cell_type": "markdown",
   "id": "f90116cb",
   "metadata": {},
   "source": [
    "Combine DM and Background data"
   ]
  },
  {
   "cell_type": "code",
   "execution_count": 76,
   "id": "8f14e8ad",
   "metadata": {},
   "outputs": [],
   "source": [
    "# print(f\"photon_info_DM_test['energies'].shape = {photon_info_DM_test['energies'].shape}\")\n",
    "# print(f\"photon_info_DM_test['angles'].shape = {photon_info_DM_test['angles'].shape}\")\n",
    "# print(f\"photon_info_BG_test['energies'].shape = {photon_info_BG_test['energies'].shape}\")\n",
    "# print(f\"photon_info_BG_test['angles'].shape = {photon_info_BG_test['angles'].shape}\")"
   ]
  },
  {
   "cell_type": "code",
   "execution_count": 77,
   "id": "7c55458b",
   "metadata": {},
   "outputs": [],
   "source": [
    "# # Combine dictionaries of DM and Background photon information\n",
    "# photon_info = {\n",
    "#     'energies': np.concatenate(\n",
    "#         (photon_info_DM_test['energies'],\n",
    "#          photon_info_BG_test['energies'])\n",
    "#     ),  # axis=0 by default\n",
    "#     'angles': np.concatenate(\n",
    "#         (photon_info_DM_test['angles'],\n",
    "#          photon_info_BG_test['angles']),\n",
    "#         axis=0\n",
    "#     )\n",
    "# }\n",
    "\n",
    "# print(f\"photon_info_combined['energies'].shape = {photon_info['energies'].shape}\")\n",
    "# print(f\"photon_info_combined['angles'].shape = {photon_info['angles'].shape}\")"
   ]
  },
  {
   "cell_type": "markdown",
   "id": "f0fe5dc9",
   "metadata": {},
   "source": [
    "Generate Sky map"
   ]
  },
  {
   "cell_type": "code",
   "execution_count": 78,
   "id": "a329ecb3",
   "metadata": {},
   "outputs": [],
   "source": [
    "# center_mask = 0 # 60 #deg\n",
    "# lat_mask = 0 # 30 #deg\n",
    "# # N_Ebins = 10\n",
    "# # Ebinspace = 'linear'\n",
    "# # N_countbins = 10\n",
    "# # countbinspace = 'linear'\n",
    "# # mincount, maxcount = 0, 60\n",
    "\n",
    "# N_side = 64\n",
    "# N_pix = 12*N_side**2\n",
    "# pix_i = np.linspace(0, N_pix-1, N_pix, dtype = 'int')\n",
    "# roi_pix_i = np.where(np.logical_and(hp.rotator.angdist(np.array([np.pi/2, 0]), hp.pix2ang(N_side, pix_i)) >= center_mask*u.deg.to('rad'), np.abs(np.pi/2 - hp.pix2ang(N_side, pix_i)[0]) >= lat_mask*u.deg.to('rad')))[0]\n",
    "\n",
    "# # Generate a heatmap of the photons\n",
    "# heatmap = np.histogram(hp.ang2pix(N_side, photon_info['angles'][:,0], photon_info['angles'][:,1]), bins = 12*N_side**2, range = [0, 12*N_side**2])\n",
    "# masked_map = np.where(np.logical_and(hp.rotator.angdist(np.array([np.pi/2, 0]), hp.pix2ang(N_side, pix_i)) >= center_mask*u.deg.to('rad'), np.abs(np.pi/2 - hp.pix2ang(N_side, pix_i)[0]) >= lat_mask*u.deg.to('rad')), heatmap[0], hp.UNSEEN)\n",
    "# hp.mollview(masked_map, title = 'Photons')\n",
    "# plt.show()\n",
    "\n",
    "# # Compute number of photons in region of interest\n",
    "# photon_pixels = hp.ang2pix(N_side, photon_info['angles'][:, 0], photon_info['angles'][:, 1])\n",
    "# roi_mask = np.isin(photon_pixels, roi_pix_i)\n",
    "# energies_in_roi = photon_info['energies'][roi_mask]\n",
    "# print(f\"Number of photons in region of interest = {energies_in_roi.size}\")"
   ]
  }
 ],
 "metadata": {
  "kernelspec": {
   "display_name": "sbi_env",
   "language": "python",
   "name": "python3"
  },
  "language_info": {
   "codemirror_mode": {
    "name": "ipython",
    "version": 3
   },
   "file_extension": ".py",
   "mimetype": "text/x-python",
   "name": "python",
   "nbconvert_exporter": "python",
   "pygments_lexer": "ipython3",
   "version": "3.13.2"
  }
 },
 "nbformat": 4,
 "nbformat_minor": 5
}
