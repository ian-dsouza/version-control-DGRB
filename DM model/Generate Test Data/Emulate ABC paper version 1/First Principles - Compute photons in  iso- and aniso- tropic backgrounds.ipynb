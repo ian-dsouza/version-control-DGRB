{
 "cells": [
  {
   "cell_type": "code",
   "execution_count": 10,
   "id": "4ab872ce",
   "metadata": {},
   "outputs": [],
   "source": [
    "%reset"
   ]
  },
  {
   "cell_type": "code",
   "execution_count": 11,
   "id": "0afe2b8c",
   "metadata": {},
   "outputs": [],
   "source": [
    "import sys\n",
    "sys.path.append('/home/users/ids29/DGRB')"
   ]
  },
  {
   "cell_type": "code",
   "execution_count": 12,
   "id": "9e57c18d",
   "metadata": {},
   "outputs": [],
   "source": [
    "import aegis\n",
    "import numpy as np\n",
    "import torch\n",
    "import healpy as hp\n",
    "import pickle as pk\n",
    "from astropy import units\n",
    "from astropy import constants as c\n",
    "import matplotlib.pyplot as plt\n",
    "from os import listdir\n",
    "import os\n",
    "from sbi.inference import SNLE, SNPE#, prepare_for_sbi, simulate_for_sbi\n",
    "from sbi import utils as utils\n",
    "from sbi import analysis as analysis\n",
    "# from sbi.inference.base import infer\n",
    "from getdist import plots, MCSamples\n",
    "from joblib import Parallel, delayed, parallel_backend\n",
    "from scipy.integrate import quad, simpson\n",
    "from scipy.interpolate import interp1d\n",
    "import pickle\n",
    "from scipy.stats import norm\n",
    "import sources.DMsignal as DMsignal\n",
    "import sources.FermiBackgrounds as FermiBackgrounds\n",
    "from astropy import units as u\n",
    "\n",
    "\n",
    "%matplotlib inline"
   ]
  },
  {
   "cell_type": "code",
   "execution_count": 13,
   "id": "53fbcf6c",
   "metadata": {},
   "outputs": [],
   "source": [
    "grains=1000\n",
    "num_workers = 48"
   ]
  },
  {
   "cell_type": "code",
   "execution_count": 14,
   "id": "f6c85483",
   "metadata": {},
   "outputs": [],
   "source": [
    "energy_range = [1_000, 100_000] #MeV \n",
    "max_radius = 220 #kpc #This is the virial radius of the Milky Way\n",
    "exposure = 2_000*10*0.2 #cm^2 yr\n",
    "flux_cut = 1e-9 #photons/cm^2/s\n",
    "angular_cut_degrees = 180 #degrees # 180 degress is full sky\n",
    "lat_cut_degrees = 0 #degrees # 0 degrees is full sky\n",
    "luminosity_range = np.array([1e13, 1e53]) # Minimum value set by considering source at distnace of closest approach by line of sight at 40 degrees and receiving 0.1 photon at detector side. CHANGE THIS FOR FINAL PROBLEM.\n",
    "                                            # Maximum value set by that value of luminosity that suffieciently suppreses the luminoisity function at the higher end of the luminosity range.\n",
    "\n",
    "\n",
    "parameter_range_aegis = [[], []]\n",
    "abundance_luminosity_and_spectrum_list = []\n",
    "source_class_list = []\n",
    "parameter_names = []\n",
    "energy_range_gen = [energy_range[0]*0.5, energy_range[1]*1.5]\n",
    "angular_cut = angular_cut_degrees*u.deg.to('rad') # radians\n",
    "angular_cut_gen =  min(angular_cut*1.5, np.pi) # radians\n",
    "lat_cut = lat_cut_degrees*u.deg.to('rad') # radians\n",
    "lat_cut_gen = lat_cut*0.5 # radians"
   ]
  },
  {
   "cell_type": "code",
   "execution_count": 15,
   "id": "2a08d754",
   "metadata": {},
   "outputs": [],
   "source": [
    "def build_aegis_object():\n",
    "    engine = aegis.aegis(abundance_luminosity_and_spectrum_list, source_class_list, parameter_range_aegis, energy_range, luminosity_range, max_radius, exposure, angular_cut , lat_cut, flux_cut, energy_range_gen=energy_range_gen, verbose = False)\n",
    "    engine.angular_cut_gen, engine.lat_cut_gen = angular_cut_gen, lat_cut_gen\n",
    "    return engine\n"
   ]
  },
  {
   "cell_type": "markdown",
   "id": "7dc6f873",
   "metadata": {},
   "source": [
    "Isotropic background"
   ]
  },
  {
   "cell_type": "code",
   "execution_count": 16,
   "id": "112e28bc",
   "metadata": {},
   "outputs": [
    {
     "name": "stdout",
     "output_type": "stream",
     "text": [
      "dF_sr = 5.003264446734353e-07\n",
      "Total number of photons in the isotropic background for the full sky in the energy range [1.0, 100.0] GeV = 793646.8200706702\n"
     ]
    }
   ],
   "source": [
    "# Note: Terminology:\n",
    "# flux is photon/cm^2/s\n",
    "# differential flux is photon/cm^2/s/MeV\n",
    "\n",
    "data_root = '/home/users/ids29/DGRB'\n",
    "fb = FermiBackgrounds.FermiBackgrounds(data_root)\n",
    "\n",
    "dF_sr = fb.get_mean_isotropic_flux(energy_range[0], energy_range[1]) # scalar # flux per solid angle. units: photon/cm^2/s/sr , across all pixels\n",
    "print(f\"dF_sr = {dF_sr}\")\n",
    "\n",
    "#  Find total number of photons in isotropic background for the full sky in the energy range given by 'energy_range'\n",
    "total_flux = dF_sr * 4*np.pi  # scalar # flux. units: photon/cm^2/s\n",
    "\n",
    "exposure_cm2_yr = exposure * (u.cm**2 * u.yr) #cm^2 yr\n",
    "exposure_cm2_s = exposure_cm2_yr.to(u.cm**2 * u.s)\n",
    "total_photons_iso_bg = total_flux * exposure_cm2_s.value\n",
    "print(f\"Total number of photons in the isotropic background for the full sky in the energy range [{energy_range[0]/1e3}, {energy_range[1]/1e3}] GeV = {total_photons_iso_bg}\")"
   ]
  },
  {
   "cell_type": "code",
   "execution_count": 17,
   "id": "2f9baaff",
   "metadata": {},
   "outputs": [],
   "source": [
    "# # Add Fermi isotropic background source class\n",
    "# data_root = '/home/users/ids29/DGRB'\n",
    "# fb = FermiBackgrounds.FermiBackgrounds(data_root)\n",
    "\n",
    "# def dF_dE(energy): # energy is in MeV\n",
    "#     iso_bg = iso_fb.get_isotropic_background_spectrum_func() # An interpolation object, that takes as input the energy in MeV,\n",
    "#                                                              # and outputs differenital flux in (photons cm⁻² s⁻¹ MeV⁻¹ sr⁻¹)\n",
    "#     return iso_bg(energy) * 4*np.pi # photon/s/cm^2/MeV\n",
    "\n",
    "# # AEGIS functions for Fermi isotropic background\n",
    "# als_FIB = [dF_dE]"
   ]
  },
  {
   "cell_type": "markdown",
   "id": "881971bd",
   "metadata": {},
   "source": [
    "Anisotropic Background"
   ]
  },
  {
   "cell_type": "code",
   "execution_count": 18,
   "id": "ed9afeaa",
   "metadata": {},
   "outputs": [
    {
     "name": "stdout",
     "output_type": "stream",
     "text": [
      "E_MeV.shape = (28,); dF_dE_sr.shape = (28, 49152)\n",
      "dF_dE_sr_simps.shape = (10001, 49152)\n",
      "dF_sr.shape = (49152,)\n",
      "F.shape = (49152,)\n",
      "Total number of photons in the anisotropic background for the full sky in the energy range [1.0, 100.0] GeV = 6463318.728490736\n"
     ]
    }
   ],
   "source": [
    "# Note: Terminology:\n",
    "# flux is photon/cm^2/s\n",
    "# differential flux is photon/cm^2/s/MeV\n",
    "\n",
    "N_side = 64\n",
    "data_root = '/home/users/ids29/DGRB'\n",
    "fb = FermiBackgrounds.FermiBackgrounds(data_root)\n",
    "aniso_bg_dict = fb.get_nonistropic_background(N_side=N_side)\n",
    "\n",
    "E_MeV = aniso_bg_dict[\"energies_MeV\"]       # shape (N_E,)\n",
    "dF_dE_sr = aniso_bg_dict[\"galactic_bg\"]      # shape (N_E, N_pix) # differential flux per solid angle in units: photons/cm^2/s/sr/MeV\n",
    "\n",
    "print(f\"E_MeV.shape = {E_MeV.shape}; dF_dE_sr.shape = {dF_dE_sr.shape}\")\n",
    "\n",
    "# Create interpolation function of dF_dE_sr versus E_MeV. Inteprolation is along energy axis\n",
    "func_interp = interp1d(E_MeV, dF_dE_sr, kind=\"linear\", axis=0, bounds_error=True)\n",
    "\n",
    "# INtegrate dF_dE_sr wrt E_MeV using Simpson's rule: integration along the energy axis\n",
    "num_points = 10_001\n",
    "E_simps = np.geomspace(energy_range[0], energy_range[1], num_points)\n",
    "dF_dE_sr_simps = func_interp(E_simps)  # shape = (num_points, N_pix)\n",
    "print(f\"dF_dE_sr_simps.shape = {dF_dE_sr_simps.shape}\")\n",
    "dF_sr = simpson(dF_dE_sr_simps, x=E_simps, axis=0)  # shape(N_pix,)  # flux per solid angle in units: photon/cm^2/s/sr\n",
    "print(f\"dF_sr.shape = {dF_sr.shape}\")\n",
    "\n",
    "# Find total number of photons in anisotropic background for the full sky in the eenrgy range given by 'energy_range'\n",
    "N_pix = dF_sr.size # total number of pixels\n",
    "Omega_pix  = 4*np.pi / N_pix # solid angle for 1 pixel\n",
    "F = dF_sr * Omega_pix # shape (N_pix,) # flux in units: photon/cm^2/s\n",
    "print(f\"F.shape = {F.shape}\")\n",
    "total_flux = F.sum() # scalar \n",
    "\n",
    "exposure_cm2_yr = exposure * (u.cm**2 * u.yr) #cm^2 yr\n",
    "exposure_cm2_s = exposure_cm2_yr.to(u.cm**2 * u.s)\n",
    "total_photons_aniso_bg = total_flux * exposure_cm2_s.value\n",
    "print(f\"Total number of photons in the anisotropic background for the full sky in the energy range [{energy_range[0]/1e3}, {energy_range[1]/1e3}] GeV = {total_photons_aniso_bg}\")"
   ]
  },
  {
   "cell_type": "markdown",
   "id": "7f9677d9",
   "metadata": {},
   "source": [
    "Compute average number of photons-in-a-pixel, considering both isotropic & anisotropic backgrounds, for the full sky"
   ]
  },
  {
   "cell_type": "code",
   "execution_count": 19,
   "id": "36954c3a",
   "metadata": {},
   "outputs": [
    {
     "name": "stdout",
     "output_type": "stream",
     "text": [
      "Average number of photons-in-a-pixel (N_side = 64), considering both isotropic & anisotropic backgrounds, for the full sky = 147.64334205243748\n"
     ]
    }
   ],
   "source": [
    "total_photons = total_photons_iso_bg + total_photons_aniso_bg\n",
    "N_side = 64\n",
    "N_pix = 12*N_side**2\n",
    "avg_photons_in_a_pixel = total_photons / N_pix\n",
    "print(f\"Average number of photons-in-a-pixel (N_side = {N_side}), considering both isotropic & anisotropic backgrounds, for the full sky = {avg_photons_in_a_pixel}\")"
   ]
  }
 ],
 "metadata": {
  "kernelspec": {
   "display_name": "sbi_env",
   "language": "python",
   "name": "python3"
  },
  "language_info": {
   "codemirror_mode": {
    "name": "ipython",
    "version": 3
   },
   "file_extension": ".py",
   "mimetype": "text/x-python",
   "name": "python",
   "nbconvert_exporter": "python",
   "pygments_lexer": "ipython3",
   "version": "3.13.2"
  }
 },
 "nbformat": 4,
 "nbformat_minor": 5
}
