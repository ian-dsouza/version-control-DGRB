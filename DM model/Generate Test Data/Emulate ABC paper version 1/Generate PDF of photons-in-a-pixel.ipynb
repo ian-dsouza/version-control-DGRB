{
 "cells": [
  {
   "cell_type": "code",
   "execution_count": 1,
   "id": "b3e84821",
   "metadata": {},
   "outputs": [],
   "source": [
    "%reset"
   ]
  },
  {
   "cell_type": "code",
   "execution_count": 2,
   "id": "83c18ad5",
   "metadata": {},
   "outputs": [],
   "source": [
    "import sys\n",
    "sys.path.append('/home/users/ids29/DGRB')"
   ]
  },
  {
   "cell_type": "code",
   "execution_count": 3,
   "id": "06cc8f92",
   "metadata": {},
   "outputs": [],
   "source": [
    "import aegis\n",
    "import numpy as np\n",
    "import healpy as hp\n",
    "import torch\n",
    "import pickle as pk\n",
    "from astropy import units as u\n",
    "from astropy import constants as c\n",
    "import matplotlib.pyplot as plt\n",
    "from matplotlib import rcParams\n",
    "rcParams[\"text.usetex\"] = False          # use MathText\n",
    "rcParams[\"mathtext.fontset\"] = \"cm\"      # Computer Modern math\n",
    "rcParams[\"font.family\"] = \"serif\"\n",
    "from os import listdir\n",
    "import os\n",
    "from sbi.inference import SNPE #, prepare_for_sbi #, simulate_for_sbi\n",
    "from sbi import utils as utils\n",
    "from sbi import analysis as analysis\n",
    "# from sbi.inference.base import infer\n",
    "from getdist import plots, MCSamples\n",
    "import pickle\n",
    "from scipy.stats import norm, skew, kurtosis, spearmanr\n",
    "from scipy.integrate import quad, simpson\n",
    "from joblib import Parallel, delayed\n",
    "from torch.optim import AdamW\n",
    "from sbi.neural_nets import posterior_nn\n",
    "import warnings\n",
    "from sbi.inference.posteriors import DirectPosterior\n",
    "from torch.utils.data import DataLoader, TensorDataset, random_split\n",
    "import copy\n",
    "from torch.nn.utils import clip_grad_norm_\n",
    "\n",
    "# torch.set_printoptions(precision=10, sci_mode=True)\n",
    "\n",
    "%matplotlib inline"
   ]
  },
  {
   "cell_type": "code",
   "execution_count": 4,
   "id": "e6e8622c",
   "metadata": {},
   "outputs": [],
   "source": [
    "# Load test data set\n",
    "# theta_test = torch.load('/home/users/ids29/DGRB Scripts/DM model/Generate Test Data/combined_test_thetas.pt') # thetas used for test dataset\n",
    "# # DM signal\n",
    "# with open('/home/users/ids29/DGRB Scripts/DM model/Generate Test Data/test_data_DM.pkl', 'rb') as f:\n",
    "#     raw_test_DM = pickle.load(f) \n",
    "# Background signal\n",
    "with open('/home/users/ids29/DGRB Scripts/DM model/Generate Test Data/Emulate ABC paper version 1/test_data_BG.pkl', 'rb') as f:\n",
    "    data = pickle.load(f) \n",
    "# # Overall signal\n",
    "# with open('/home/users/ids29/DGRB Scripts/DM model/Generate Test Data/combined_test_data.pkl', 'rb') as f:\n",
    "#     raw_test_overall = pickle.load(f) \n",
    "\n",
    "\n",
    "\n",
    "\n",
    "# print(f\"theta_test = {theta_test}\")"
   ]
  },
  {
   "cell_type": "code",
   "execution_count": 5,
   "id": "0f108c7a",
   "metadata": {},
   "outputs": [
    {
     "name": "stdout",
     "output_type": "stream",
     "text": [
      "Number of photons in test data = 7205742\n"
     ]
    }
   ],
   "source": [
    "print(f\"Number of photons in test data = {data['energies'].size}\")"
   ]
  },
  {
   "cell_type": "code",
   "execution_count": 6,
   "id": "cbb25aaf",
   "metadata": {},
   "outputs": [],
   "source": [
    "energy_range = [1_000, 100_000] #MeV \n",
    "max_radius = 220 #kpc #This is the virial radius of the Milky Way\n",
    "exposure = 2_000*10*0.2 #cm^2 yr\n",
    "flux_cut = 1e-9 #photons/cm^2/s\n",
    "angular_cut_degrees = 180 #degrees # 180 degress is full sky\n",
    "lat_cut_degrees = 0 #degrees # 0 degrees is full sky\n",
    "luminosity_range = np.array([1e13, 1e53]) # Minimum value set by considering source at distnace of closest approach by line of sight at 40 degrees and receiving 0.1 photon at detector side. CHANGE THIS FOR FINAL PROBLEM.\n",
    "                                            # Maximum value set by that value of luminosity that suffieciently suppreses the luminoisity function at the higher end of the luminosity range.\n",
    "\n",
    "\n",
    "parameter_range_aegis = [[], []]\n",
    "abundance_luminosity_and_spectrum_list = []\n",
    "source_class_list = []\n",
    "parameter_names = []\n",
    "energy_range_gen = [energy_range[0]*0.5, energy_range[1]*1.5]\n",
    "angular_cut = angular_cut_degrees*u.deg.to('rad') # radians\n",
    "angular_cut_gen =  min(angular_cut*1.5, np.pi) # radians\n",
    "lat_cut = lat_cut_degrees*u.deg.to('rad') # radians\n",
    "lat_cut_gen = lat_cut*0.5 # radians"
   ]
  },
  {
   "cell_type": "code",
   "execution_count": 7,
   "id": "47638f04",
   "metadata": {},
   "outputs": [],
   "source": [
    "my_AEGIS = aegis.aegis(abundance_luminosity_and_spectrum_list, source_class_list, parameter_range_aegis, energy_range, luminosity_range, max_radius, exposure, angular_cut , lat_cut, flux_cut, energy_range_gen=energy_range_gen, verbose = False)\n",
    "my_AEGIS.angular_cut_gen, my_AEGIS.lat_cut_gen = angular_cut_gen, lat_cut_gen"
   ]
  },
  {
   "cell_type": "code",
   "execution_count": 8,
   "id": "b45e8bd3",
   "metadata": {},
   "outputs": [
    {
     "name": "stdout",
     "output_type": "stream",
     "text": [
      "Are pix_i and roi_pix_i the same array? True\n",
      "roi_map.shape = (49152,)\n",
      "202.0\n"
     ]
    }
   ],
   "source": [
    "center_mask = 0 #deg\n",
    "lat_mask = 0 #deg \n",
    "N_Ebins = 1\n",
    "# Ebinspace = 'log'#'linear'\n",
    "# N_countbins = 20\n",
    "# countbinspace = 'linear' #'arange' #'custom' #'linear' #using 'arange' countbinspace; if mincount=0 and maxcount=8, then counts_bin_array=[0,1,2,4,6,8] #\n",
    "# mincount_2D_hist, maxcount_2D_hist = 0, 70 # CHANGE FOR DIFFERENT DATASETS. # For 10 energy bins.  # For energy-dependent 2D histogram . Consider the data set with the maximum number of photons to decide the value of 'maxcount'.\n",
    "# mincount_1D_counts_hist, maxcount_1D_counts_hist = 0, 55 # CHANGE FOR DIFFERENT DATASETS. # For counts only 1D histogram . Consider the data set with the maximum number of photons to decide the value of 'maxcount'.\n",
    "\n",
    "N_side = 64\n",
    "N_pix = 12*N_side**2\n",
    "pix_i = np.linspace(0, N_pix-1, N_pix, dtype = 'int')\n",
    "roi_pix_i = np.where(np.logical_and(hp.rotator.angdist(np.array([np.pi/2, 0]), hp.pix2ang(N_side, pix_i)) >= center_mask*u.deg.to('rad'), np.abs(np.pi/2 - hp.pix2ang(N_side, pix_i)[0]) >= lat_mask*u.deg.to('rad')))[0]\n",
    "\n",
    "print(f\"Are pix_i and roi_pix_i the same array? {np.array_equal(pix_i, roi_pix_i)}\")\n",
    "\n",
    "# Get energy dependent 2D histogram - regular\n",
    "\n",
    "roi_map_2D, E_bin_edges = my_AEGIS.get_roi_map_summary(photon_info = data, N_side = N_side, N_Ebins = N_Ebins, Ebinspace = 'log', roi_pix_i = roi_pix_i)\n",
    "roi_map = roi_map_2D.ravel() # creates a 1D array of shape (roi_pix_i.size,) # Note that roi_map_2D.shape = (roi_pix_i.size, 1)\n",
    "print(f\"roi_map.shape = {roi_map.shape}\")\n",
    "\n",
    "print(roi_map.max())\n",
    "\n",
    "\n"
   ]
  },
  {
   "cell_type": "markdown",
   "id": "8feea0af",
   "metadata": {},
   "source": [
    "Generate PDF of photons-in-a-pixel"
   ]
  },
  {
   "cell_type": "code",
   "execution_count": 9,
   "id": "dd846201",
   "metadata": {},
   "outputs": [
    {
     "data": {
      "image/png": "[encoded data removed]",
      "text/plain": [
       "<Figure size 640x480 with 1 Axes>"
      ]
     },
     "metadata": {},
     "output_type": "display_data"
    }
   ],
   "source": [
    "# roi_map contains the values of photons-in-a-pixel (C)\n",
    "bin_edges = np.geomspace(roi_map.min(), roi_map.max(), 40)\n",
    "pdf, edges = np.histogram(roi_map, bins=bin_edges, density=True)\n",
    "\n",
    "plt.figure()\n",
    "plt.loglog(edges[:-1], pdf, color='green')\n",
    "plt.xlabel('C (photons per pixel)')\n",
    "plt.ylabel('Probability density')\n",
    "plt.title('PDF of C (log–log)')\n",
    "plt.xlim(1, 300)\n",
    "plt.show()"
   ]
  },
  {
   "cell_type": "code",
   "execution_count": null,
   "id": "4472ea2d",
   "metadata": {},
   "outputs": [],
   "source": []
  }
 ],
 "metadata": {
  "kernelspec": {
   "display_name": "sbi_env",
   "language": "python",
   "name": "python3"
  },
  "language_info": {
   "codemirror_mode": {
    "name": "ipython",
    "version": 3
   },
   "file_extension": ".py",
   "mimetype": "text/x-python",
   "name": "python",
   "nbconvert_exporter": "python",
   "pygments_lexer": "ipython3",
   "version": "3.13.2"
  }
 },
 "nbformat": 4,
 "nbformat_minor": 5
}
