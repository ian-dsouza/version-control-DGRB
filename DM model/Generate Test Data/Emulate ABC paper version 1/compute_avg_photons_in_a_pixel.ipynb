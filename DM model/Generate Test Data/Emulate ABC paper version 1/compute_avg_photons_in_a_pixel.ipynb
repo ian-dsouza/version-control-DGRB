{
 "cells": [
  {
   "cell_type": "code",
   "execution_count": 2,
   "id": "a757e2f2",
   "metadata": {},
   "outputs": [],
   "source": [
    "%reset"
   ]
  },
  {
   "cell_type": "code",
   "execution_count": 3,
   "id": "ed243be2",
   "metadata": {},
   "outputs": [],
   "source": [
    "import sys\n",
    "sys.path.append('/home/users/ids29/DGRB')\n",
    "import sources.FermiBackgrounds as FermiBackgrounds\n",
    "import numpy as np\n",
    "from scipy.integrate import quad\n",
    "from astropy import units as u"
   ]
  },
  {
   "cell_type": "code",
   "execution_count": 4,
   "id": "4c49c967",
   "metadata": {},
   "outputs": [],
   "source": [
    "# Add Fermi isotropic background source class\n",
    "data_root = '/home/users/ids29/DGRB'\n",
    "my_FB = FermiBackgrounds.FermiBackgrounds(data_root)\n",
    "\n",
    "def dF_dE(energy): # energy is in MeV\n",
    "    iso_fit = my_FB.get_isotropic_background_spectrum_func()\n",
    "    #correction_normalization = 397_174 / 351_854 # this factor adjusts the normalization such that the number of photons in this faux isotropic background is equal to the sum of number of photons in the Fermi isotropic background,\n",
    "                               # and the number of photons in the Fermi non-isotropic background, everthing measured in the region of interest defined by the angular cut and latitudinal cut.\n",
    "    # return iso_fit(energy) * correction_normalization *4*np.pi\n",
    "    return iso_fit(energy) * 4*np.pi # photon/s/cm^2/MeV"
   ]
  },
  {
   "cell_type": "code",
   "execution_count": 5,
   "id": "b14ad5f8",
   "metadata": {},
   "outputs": [
    {
     "name": "stdout",
     "output_type": "stream",
     "text": [
      "flux = 6.285394279850339e-06; error = 6.080633171423566e-09\n",
      "num_photons = 793407.8341032203\n",
      "Average photons-in-a-pixel = 16.14192370815471\n"
     ]
    }
   ],
   "source": [
    "energy_range = [1_000, 100_000] #MeV\n",
    "exposure = 2_000*10*0.2 * u.cm**2 * u.yr #cm^2 yr\n",
    "exposure_cm2s = exposure.to(u.cm**2 * u.s)\n",
    "flux, error = quad(dF_dE, energy_range[0], energy_range[1]) # flux is in photon/s/cm^2\n",
    "print(f\"flux = {flux}; error = {error}\")\n",
    "num_photons = flux * exposure_cm2s.value\n",
    "print(f\"num_photons = {num_photons}\")\n",
    "N_side = 64\n",
    "N_pix = 12*N_side**2\n",
    "avg_C = num_photons / N_pix\n",
    "print(f\"Average photons-in-a-pixel = {avg_C}\")"
   ]
  }
 ],
 "metadata": {
  "kernelspec": {
   "display_name": "sbi_env",
   "language": "python",
   "name": "python3"
  },
  "language_info": {
   "codemirror_mode": {
    "name": "ipython",
    "version": 3
   },
   "file_extension": ".py",
   "mimetype": "text/x-python",
   "name": "python",
   "nbconvert_exporter": "python",
   "pygments_lexer": "ipython3",
   "version": "3.13.2"
  }
 },
 "nbformat": 4,
 "nbformat_minor": 5
}
