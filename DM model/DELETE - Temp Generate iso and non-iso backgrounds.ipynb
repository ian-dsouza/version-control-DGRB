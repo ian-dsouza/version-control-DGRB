{
 "cells": [
  {
   "cell_type": "code",
   "execution_count": 1,
   "id": "8dc2c7b1",
   "metadata": {},
   "outputs": [],
   "source": [
    "%reset"
   ]
  },
  {
   "cell_type": "code",
   "execution_count": 3,
   "id": "481e58ce",
   "metadata": {},
   "outputs": [],
   "source": [
    "import sys\n",
    "sys.path.append('/home/users/ids29/DGRB')"
   ]
  },
  {
   "cell_type": "code",
   "execution_count": 4,
   "id": "948f41ea",
   "metadata": {},
   "outputs": [],
   "source": [
    "import aegis\n",
    "import numpy as np\n",
    "import torch\n",
    "import healpy as hp\n",
    "import pickle as pk\n",
    "from astropy import units\n",
    "from astropy import constants as c\n",
    "import matplotlib.pyplot as plt\n",
    "from os import listdir\n",
    "import os\n",
    "from sbi.inference import SNLE, SNPE#, prepare_for_sbi, simulate_for_sbi\n",
    "from sbi import utils as utils\n",
    "from sbi import analysis as analysis\n",
    "# from sbi.inference.base import infer\n",
    "from getdist import plots, MCSamples\n",
    "from joblib import Parallel, delayed\n",
    "from scipy.integrate import quad, simpson\n",
    "import pickle\n",
    "from scipy.stats import norm\n",
    "import sources.DMsignal as DMsignal\n",
    "import sources.FermiBackgrounds as FermiBackgrounds\n",
    "\n",
    "\n",
    "%matplotlib inline"
   ]
  },
  {
   "cell_type": "code",
   "execution_count": 4,
   "id": "de89003f",
   "metadata": {},
   "outputs": [],
   "source": [
    "grains=1000\n",
    "num_simulations = 1000\n",
    "num_workers = 48"
   ]
  },
  {
   "cell_type": "code",
   "execution_count": null,
   "id": "0bd9fb65",
   "metadata": {},
   "outputs": [],
   "source": [
    "parameter_range_aegis = [[], []]\n",
    "abundance_luminosity_and_spectrum_list = []\n",
    "source_class_list = []\n",
    "parameter_names = []\n",
    "energy_range = [1000, 100000] #MeV \n",
    "energy_range_gen = [energy_range[0]*0.5, energy_range[1]*1.5]\n",
    "# max_radius = 8.5 + 20*2 #kpc\n",
    "max_radius = 220 #kpc #This is the virial radius of the Milky Way\n",
    "exposure = 2000*10*0.2 #cm^2 yr\n",
    "flux_cut = 1e-9 #photons/cm^2/s\n",
    "angular_cut = 180*units.deg.to('rad') #degrees #np.pi \n",
    "angular_cut_gen =  min(angular_cut*1.5, np.pi) # np.pi\n",
    "lat_cut = 30 #2*u.deg.to('rad') #degrees\n",
    "lat_cut_gen = lat_cut*0.5"
   ]
  },
  {
   "cell_type": "code",
   "execution_count": 6,
   "id": "bafe2be3",
   "metadata": {},
   "outputs": [],
   "source": [
    "my_cosmology = 'Planck18'\n",
    "# z_range = [0, 14]\n",
    "luminosity_range = 10.0**np.array([33, 50]) # Minimum value set by considering source at distnace of closest approach by line of sight at 40 degrees and receiving 0.1 photon at detector side. CHANGE THIS FOR FINAL PROBLEM.\n",
    "my_AEGIS = aegis.aegis(abundance_luminosity_and_spectrum_list, source_class_list, parameter_range_aegis, energy_range, luminosity_range, max_radius, exposure, angular_cut, lat_cut, flux_cut, energy_range_gen=energy_range_gen, cosmology = my_cosmology, verbose = False)\n",
    "my_AEGIS.angular_cut_gen, my_AEGIS.lat_cut_gen = angular_cut_gen, lat_cut_gen"
   ]
  },
  {
   "cell_type": "code",
   "execution_count": 7,
   "id": "8ceb95e8",
   "metadata": {},
   "outputs": [],
   "source": [
    "# a simple simulator with the total number of photons as the summary statistic\n",
    "def simulator(params):\n",
    "\n",
    "    input_params = params.numpy()\n",
    "    print(f\"Input parameters: {input_params}\")\n",
    "\n",
    "    source_info = my_AEGIS.create_sources(input_params, grains=grains, epsilon=1e-2)\n",
    "    photon_info = my_AEGIS.generate_photons_from_sources(input_params, source_info, grains=grains) \n",
    "    obs_info = {'psf_fits_path': '/home/users/ids29/DGRB/FERMI_files/psf_P8R3_ULTRACLEANVETO_V2_PSF.fits', 'edisp_fits_path': '/home/users/ids29/DGRB/FERMI_files/edisp_P8R3_ULTRACLEANVETO_V2_PSF.fits', 'event_type': 'PSF3', 'exposure_map': None}\n",
    "    obs_photon_info = my_AEGIS.mock_observe(photon_info, obs_info)\n",
    "    \n",
    "    return obs_photon_info"
   ]
  },
  {
   "cell_type": "markdown",
   "id": "90850f9a",
   "metadata": {},
   "source": [
    "Isotropic Background signal"
   ]
  },
  {
   "cell_type": "code",
   "execution_count": 8,
   "id": "5b10767f",
   "metadata": {},
   "outputs": [],
   "source": [
    "# # Add Fermi isotropic background source class\n",
    "# data_root = '/home/users/ids29/DGRB'\n",
    "# my_FB = FermiBackgrounds.FermiBackgrounds(data_root)\n",
    "# def spec_iso_wrap(energy, params):\n",
    "#     A_BG = params[0]\n",
    "#     iso_fit = my_FB.get_isotropic_background_spectrum_func()\n",
    "#     return A_BG * iso_fit(energy)"
   ]
  },
  {
   "cell_type": "code",
   "execution_count": 9,
   "id": "c0072b87",
   "metadata": {},
   "outputs": [],
   "source": [
    "# als_FIB = [spec_iso_wrap]\n",
    "# my_AEGIS.abun_lum_spec = [als_FIB] # Change when you want to include Poisson model.\n",
    "# my_AEGIS.source_class_list = ['isotropic_diffuse']"
   ]
  },
  {
   "cell_type": "code",
   "execution_count": 10,
   "id": "68d101a3",
   "metadata": {},
   "outputs": [],
   "source": [
    "# test_params = torch.tensor([1])\n",
    "# test_photon_info = simulator(test_params)\n",
    "# print(f\"Number of photons = {test_photon_info['energies'].size}\")\n",
    "# # Input parameters: [1]\n",
    "# # Number of photons = 351854"
   ]
  },
  {
   "cell_type": "markdown",
   "id": "85a9d7f6",
   "metadata": {},
   "source": [
    "Non-isotropic Background signal"
   ]
  },
  {
   "cell_type": "code",
   "execution_count": 11,
   "id": "bcc4ea00",
   "metadata": {},
   "outputs": [],
   "source": [
    "data_root = '/home/users/ids29/DGRB'\n",
    "my_FB      = FermiBackgrounds.FermiBackgrounds(data_root)\n",
    "\n",
    "def spec_non_iso_wrap(params):\n",
    "    \"\"\"\n",
    "    Returns (vals, E_edges, pix_idx, nside) in the format AEGIS expects\n",
    "    for a 'healpix_map' source.  The `params` argument is ignored – it is\n",
    "    only present because AEGIS will pass the global parameter vector in.\n",
    "    \"\"\"\n",
    "    nside        = 64                     # keep it power-of-2 (same as AEGIS default)\n",
    "    ang_cut      = my_AEGIS.angular_cut_gen   # reuse whatever ROI you set earlier\n",
    "    Emin, Emax   = energy_range_gen[0], energy_range_gen[1]\n",
    "    N_Ebins      = 10                     # or any number of energy slices you like\n",
    "\n",
    "    vals, E_edges, pix_idx = my_FB.get_partial_nonistropic_background(\n",
    "                                angular_cut = ang_cut,\n",
    "                                Emin        = Emin,\n",
    "                                Emax        = Emax,\n",
    "                                N_Ebins     = N_Ebins,\n",
    "                                N_side      = nside)\n",
    "    return vals, E_edges, pix_idx, nside"
   ]
  },
  {
   "cell_type": "code",
   "execution_count": 12,
   "id": "9580eb85",
   "metadata": {},
   "outputs": [],
   "source": [
    "als_non_iso_background = [spec_non_iso_wrap]\n",
    "my_AEGIS.abun_lum_spec = [als_non_iso_background] # Change when you want to include Poisson model.\n",
    "my_AEGIS.source_class_list = ['healpix_map']"
   ]
  },
  {
   "cell_type": "code",
   "execution_count": null,
   "id": "042f26d1",
   "metadata": {},
   "outputs": [
    {
     "name": "stdout",
     "output_type": "stream",
     "text": [
      "Input parameters: [1]\n",
      "Healpix map 0 has 540672 pixels\n",
      "Number of photons = 217035\n"
     ]
    }
   ],
   "source": [
    "test_params = torch.tensor([1])  # No parameters needed for healpix_map\n",
    "test_photon_info = simulator(test_params)\n",
    "print(f\"Number of photons = {test_photon_info['energies'].size}\")\n",
    "# Input parameters: [1]\n",
    "# Healpix map 0 has 540672 pixels\n",
    "# Number of photons = 217035"
   ]
  }
 ],
 "metadata": {
  "kernelspec": {
   "display_name": "sbi_env",
   "language": "python",
   "name": "python3"
  },
  "language_info": {
   "codemirror_mode": {
    "name": "ipython",
    "version": 3
   },
   "file_extension": ".py",
   "mimetype": "text/x-python",
   "name": "python",
   "nbconvert_exporter": "python",
   "pygments_lexer": "ipython3",
   "version": "3.13.2"
  }
 },
 "nbformat": 4,
 "nbformat_minor": 5
}
