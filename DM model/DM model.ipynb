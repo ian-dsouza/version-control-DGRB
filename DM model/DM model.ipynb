{
 "cells": [
  {
   "cell_type": "code",
   "execution_count": 9,
   "id": "8dc2c7b1",
   "metadata": {},
   "outputs": [],
   "source": [
    "%reset"
   ]
  },
  {
   "cell_type": "code",
   "execution_count": 10,
   "id": "481e58ce",
   "metadata": {},
   "outputs": [],
   "source": [
    "import sys\n",
    "sys.path.append('/home/users/ids29/DGRB')"
   ]
  },
  {
   "cell_type": "code",
   "execution_count": 11,
   "id": "948f41ea",
   "metadata": {},
   "outputs": [],
   "source": [
    "import aegis\n",
    "import numpy as np\n",
    "import torch\n",
    "import healpy as hp\n",
    "import pickle as pk\n",
    "from astropy import units\n",
    "from astropy import constants as c\n",
    "import matplotlib.pyplot as plt\n",
    "from os import listdir\n",
    "import os\n",
    "from sbi.inference import SNLE, SNPE#, prepare_for_sbi, simulate_for_sbi\n",
    "from sbi import utils as utils\n",
    "from sbi import analysis as analysis\n",
    "# from sbi.inference.base import infer\n",
    "from getdist import plots, MCSamples\n",
    "from joblib import Parallel, delayed\n",
    "from scipy.integrate import quad, simpson\n",
    "import pickle\n",
    "from scipy.stats import norm\n",
    "import sources.DMsignal as DMsignal\n",
    "\n",
    "%matplotlib inline"
   ]
  },
  {
   "cell_type": "code",
   "execution_count": 12,
   "id": "de89003f",
   "metadata": {},
   "outputs": [],
   "source": [
    "grains=1000\n",
    "num_simulations = 1000\n",
    "num_workers = 48"
   ]
  },
  {
   "cell_type": "code",
   "execution_count": 13,
   "id": "0bd9fb65",
   "metadata": {},
   "outputs": [],
   "source": [
    "parameter_range_aegis = [[], []]\n",
    "abundance_luminosity_and_spectrum_list = []\n",
    "source_class_list = []\n",
    "parameter_names = []\n",
    "energy_range = [1000, 100000] #MeV \n",
    "energy_range_gen = [energy_range[0]*0.5, energy_range[1]*18]\n",
    "max_radius = 8.5 + 20*2 #kpc\n",
    "exposure = 2000*10*0.2 #cm^2 yr\n",
    "flux_cut = 1e-9 #photons/cm^2/s\n",
    "angular_cut = np.pi #10*u.deg.to('rad') #degrees\n",
    "angular_cut_gen = np.pi #angular_cut*1.5\n",
    "lat_cut = 0 #2*u.deg.to('rad') #degrees\n",
    "lat_cut_gen = lat_cut*0.5"
   ]
  },
  {
   "cell_type": "code",
   "execution_count": 14,
   "id": "bafe2be3",
   "metadata": {},
   "outputs": [],
   "source": [
    "my_cosmology = 'Planck18'\n",
    "z_range = [0, 14]\n",
    "luminosity_range = 10.0**np.array([37, 50]) # Minimum value set by considering Andromeda distance using Fermi as benchmark and receiving 0.1 photon at detector side\n",
    "my_AEGIS = aegis.aegis(abundance_luminosity_and_spectrum_list, source_class_list, parameter_range_aegis, energy_range, luminosity_range, max_radius, exposure, angular_cut, lat_cut, flux_cut, energy_range_gen=energy_range_gen, cosmology = my_cosmology, z_range = z_range, verbose = False)\n",
    "my_AEGIS.angular_cut_gen, my_AEGIS.lat_cut_gen = angular_cut_gen, lat_cut_gen"
   ]
  },
  {
   "cell_type": "code",
   "execution_count": 15,
   "id": "3088813e",
   "metadata": {},
   "outputs": [],
   "source": [
    "def DM_abundance(r, L, params): # Outputs the abundance function in the form dN/dV/dL. Note the dV.\n",
    "    \"\"\"\n",
    "    Abundance function for the DM signal.\n",
    "    \"\"\"\n",
    "    # r is the distance from the source # kpc\n",
    "    # L is the luminosity of the source # photons/second\n",
    "    # return the abundance function in the form dN/dV/dL\n",
    "    # params conatins 'mass of DM particle in GeV'\n",
    "\n",
    "\n",
    "    A_DM = params[0]\n",
    "    mass_DM_GeV = params[2] # UPDAT TO THE CURRENT PARAMS INDEX\n",
    "\n",
    "    \n",
    "    beta = 1.9\n",
    "    A = 1.2e4 # MSolar^{-1} kpc^{-3}\n",
    "    r_s = 21 #kpc\n",
    "    r_tilde = r / r_s # unitless\n",
    "    cross_section = 3e-26 #cm^3 s^{−1}\n",
    "    \n",
    "    def compute_integral_E(E_min: float, E_max: float, n_points: int = 10_001) -> float:\n",
    "        \"\"\"\n",
    "        Compute ∫ dN/dE dE between E_min and E_max [MeV]\n",
    "        by sampling on a uniform grid and applying Simpson's rule.\n",
    "        n_points must be odd for Simpson's rule.\n",
    "        \"\"\"\n",
    "        # make sure we have an odd number of points\n",
    "        if n_points % 2 == 0:\n",
    "            n_points += 1\n",
    "\n",
    "        E = np.linspace(E_min, E_max, n_points)\n",
    "        dNdE = dm.get_dNdE(\n",
    "            desired_E_MeV=E,\n",
    "            channel=channel,\n",
    "            mass_MeV= mass_DM_GeV * 1e3\n",
    "        )\n",
    "        return simpson(dNdE, E)\n",
    "\n",
    "    Emin, Emax = energy_range[0], energy_range[1]\n",
    "    integral_E = compute_integral_E(Emin, Emax)\n",
    "\n",
    "\n",
    "\n",
    "    Phi_pp = A_DM * cross_section / (8 * np.pi * mass_DM_GeV**2) * integral_E  # cm^3 s^{-1} GeV^{-2}\n",
    "\n",
    "    \n",
    "    def integrand_M_tilde(M_tilde):\n",
    "        sigma = 0.74 + 0.011 * np.log(r/50) - 0.003 * M_tilde / 0.87\n",
    "        Delta = np.log(L) - 77.4 + 0.23*np.log(r/50) - np.log((8*np.pi*Phi_pp)/(1e-28)) # unitless\n",
    "        mu = sigma**2 * (1-beta) / 0.87  +  Delta\n",
    "        return np.exp((mu**2 -Delta**2)/(2*sigma**2)) * np.exp(-(M_tilde - mu)**2/(2*sigma**2)) / (np.sqrt(2*np.pi)*sigma)\n",
    "    \n",
    "\n",
    "\n",
    "    def compute_integral_M_tilde_simpson(M_min: float, M_max: float, n_points: int = 10001) -> float:\n",
    "        \"\"\"\n",
    "        Integrate integrand_M_tilde from M_min to M_max using Simpson's rule.\n",
    "        n_points must be odd; if it's even, it's incremented by 1.\n",
    "        \"\"\"\n",
    "        if n_points % 2 == 0:\n",
    "            n_points += 1\n",
    "        M = np.linspace(M_min, M_max, n_points)\n",
    "        y = integrand_M_tilde(M)\n",
    "        return simpson(y, M)\n",
    "\n",
    "\n",
    "    # Example usage:\n",
    "    M_tilde_min = 0.87 * np.log(1/1e5) # M_min = 1 MSolar\n",
    "    integral_M_tilde = compute_integral_M_tilde_simpson(M_tilde_min, 14.0) # The integrand 'integrand_M_tilde' is sufficiently suppressed for all M_tilde > 14.0\n",
    "\n",
    "\n",
    "\n",
    "    \n",
    "    return 10**(5*(1-beta)) * A / (0.87 * L * r_tilde * (1+r_tilde)**2)   * integral_M_tilde\n",
    "\n",
    "\n",
    "def DM_abundance_dR(r, L, params): # Returns the abundance function in the form dN/dR/dL. Note the dR. # this function needs to be passed to AEGIS\n",
    "    return 4*np.pi*r**2 * DM_abundance(r, L, params) # dV = 4*np.pi*r^2 dr, so we need to multiply by 4*np.pi*r^2\n",
    "\n",
    "\n",
    "def DM_spectrum(energy, params): #'energy' is an array of energies in MeV \n",
    "    return dm.get_dNdE(\n",
    "            desired_E_MeV=energy,\n",
    "            channel=channel,\n",
    "            mass_MeV= mass_DM_GeV * 1e3\n",
    "        )"
   ]
  },
  {
   "cell_type": "code",
   "execution_count": 16,
   "id": "c0072b87",
   "metadata": {},
   "outputs": [],
   "source": [
    "# als_Poisson = [spec_poisson] # belongs to 'isotropic_diffuse' class\n",
    "als_DM = [DM_abundance_dR, DM_spectrum]\n",
    "my_AEGIS.abun_lum_spec = [als_DM] # Change when you want to include Poisson model.\n",
    "my_AEGIS.source_class_list = ['isotropic_faint_single_spectrum']"
   ]
  },
  {
   "cell_type": "code",
   "execution_count": 17,
   "id": "2a19413d",
   "metadata": {},
   "outputs": [],
   "source": [
    "# a simple simulator with the total number of photons as the summary statistic\n",
    "def simulator(params):\n",
    "\n",
    "    input_params = params.numpy()\n",
    "\n",
    "    source_info = my_AEGIS.create_sources(input_params, grains=grains, epsilon=1e-2)\n",
    "    photon_info = my_AEGIS.generate_photons_from_sources(input_params, source_info, grains=grains) \n",
    "    obs_info = {'psf_fits_path': '/home/ids29/DGRB/FERMI_files/psf_P8R3_ULTRACLEANVETO_V2_PSF.fits', 'edisp_fits_path': '/home/ids29/DGRB/FERMI_files/edisp_P8R3_ULTRACLEANVETO_V2_PSF.fits', 'event_type': 'PSF3', 'exposure_map': None}\n",
    "    obs_photon_info = my_AEGIS.mock_observe(photon_info, obs_info)\n",
    "    \n",
    "    return obs_photon_info"
   ]
  },
  {
   "cell_type": "code",
   "execution_count": 18,
   "id": "b5a40e68",
   "metadata": {},
   "outputs": [
    {
     "name": "stdout",
     "output_type": "stream",
     "text": [
      "A_DM_test = 200.0; mass_DM_GeV_test = 200.0; A_BG_test = 1.0\n"
     ]
    }
   ],
   "source": [
    "# 1) Point to your data directory and choose a channel\n",
    "data_dir = \"/home/users/ids29/DGRB/data/dm_spectra/\"         # must contain AtProduction_gammas.dat\n",
    "channel  = \"Tau\"                           # e.g. 'b' (bottom quarks) or 'Tau'\n",
    "\n",
    "\n",
    "# 2) Build the DMsignal object\n",
    "dm = DMsignal.DMsignal(directory=data_dir, channel=channel)\n",
    "\n",
    "# ────────────────────────────────────────────────────────────────────────\n",
    "# 3)  Ask the object for its default model parameters\n",
    "#     (mass, amplitude, background).  These numbers come straight from\n",
    "#     the get_default_model() method you showed.\n",
    "# ────────────────────────────────────────────────────────────────────────\n",
    "model_defaults = dm.get_default_model()        # {'A_DM': …, 'A_BG': …, 'mass_DM_MeV': …}\n",
    "mass_DM_MeV_test    = model_defaults[\"mass_DM_MeV\"]  # MeV\n",
    "mass_DM_GeV_test    = mass_DM_MeV_test / 1e3                  # GeV\n",
    "A_DM_test           = model_defaults[\"A_DM\"] # unitless\n",
    "A_BG_test           = model_defaults[\"A_BG\"]\n",
    "\n",
    "print(f\"A_DM_test = {A_DM_test}; mass_DM_GeV_test = {mass_DM_GeV_test}; A_BG_test = {A_BG_test}\")\n",
    "\n",
    "\n",
    "\n",
    "\n"
   ]
  },
  {
   "cell_type": "code",
   "execution_count": 19,
   "id": "68d101a3",
   "metadata": {},
   "outputs": [
    {
     "name": "stderr",
     "output_type": "stream",
     "text": [
      "/tmp/ipykernel_583328/2559847122.py:48: RuntimeWarning: divide by zero encountered in log\n",
      "  sigma = 0.74 + 0.011 * np.log(r/50) - 0.003 * M_tilde / 0.87\n"
     ]
    },
    {
     "ename": "ValueError",
     "evalue": "operands could not be broadcast together with shapes (999,999) (10001,) ",
     "output_type": "error",
     "traceback": [
      "\u001b[31m---------------------------------------------------------------------------\u001b[39m",
      "\u001b[31mValueError\u001b[39m                                Traceback (most recent call last)",
      "\u001b[36mCell\u001b[39m\u001b[36m \u001b[39m\u001b[32mIn[19]\u001b[39m\u001b[32m, line 2\u001b[39m\n\u001b[32m      1\u001b[39m test_params = torch.tensor([A_DM_test, \u001b[32m0\u001b[39m, mass_DM_GeV_test])\n\u001b[32m----> \u001b[39m\u001b[32m2\u001b[39m test_photon_info = simulator(test_params)\n",
      "\u001b[36mCell\u001b[39m\u001b[36m \u001b[39m\u001b[32mIn[17]\u001b[39m\u001b[32m, line 6\u001b[39m, in \u001b[36msimulator\u001b[39m\u001b[34m(params)\u001b[39m\n\u001b[32m      2\u001b[39m \u001b[38;5;28;01mdef\u001b[39;00m\u001b[38;5;250m \u001b[39m\u001b[34msimulator\u001b[39m(params):\n\u001b[32m      4\u001b[39m     input_params = params.numpy()\n\u001b[32m----> \u001b[39m\u001b[32m6\u001b[39m     source_info = my_AEGIS.create_sources(input_params, grains=grains, epsilon=\u001b[32m1e-2\u001b[39m)\n\u001b[32m      7\u001b[39m     photon_info = my_AEGIS.generate_photons_from_sources(input_params, source_info, grains=grains) \n\u001b[32m      8\u001b[39m     obs_info = {\u001b[33m'\u001b[39m\u001b[33mpsf_fits_path\u001b[39m\u001b[33m'\u001b[39m: \u001b[33m'\u001b[39m\u001b[33m/home/ids29/DGRB/FERMI_files/psf_P8R3_ULTRACLEANVETO_V2_PSF.fits\u001b[39m\u001b[33m'\u001b[39m, \u001b[33m'\u001b[39m\u001b[33medisp_fits_path\u001b[39m\u001b[33m'\u001b[39m: \u001b[33m'\u001b[39m\u001b[33m/home/ids29/DGRB/FERMI_files/edisp_P8R3_ULTRACLEANVETO_V2_PSF.fits\u001b[39m\u001b[33m'\u001b[39m, \u001b[33m'\u001b[39m\u001b[33mevent_type\u001b[39m\u001b[33m'\u001b[39m: \u001b[33m'\u001b[39m\u001b[33mPSF3\u001b[39m\u001b[33m'\u001b[39m, \u001b[33m'\u001b[39m\u001b[33mexposure_map\u001b[39m\u001b[33m'\u001b[39m: \u001b[38;5;28;01mNone\u001b[39;00m}\n",
      "\u001b[36mFile \u001b[39m\u001b[32m~/DGRB/aegis.py:258\u001b[39m, in \u001b[36maegis.create_sources\u001b[39m\u001b[34m(self, input_params, grains, epsilon)\u001b[39m\n\u001b[32m    256\u001b[39m \u001b[38;5;28;01melse\u001b[39;00m:\n\u001b[32m    257\u001b[39m     RL = \u001b[38;5;28mself\u001b[39m.abun_lum_spec[si][\u001b[32m0\u001b[39m]\n\u001b[32m--> \u001b[39m\u001b[32m258\u001b[39m     radii, luminosities, single_p_radii = \u001b[38;5;28mself\u001b[39m.draw_luminosities_and_radii(input_params, RL, grains=grains, epsilon=epsilon)\n\u001b[32m    259\u001b[39m     \u001b[38;5;66;03m# Redshifts are not supported by this source class\u001b[39;00m\n\u001b[32m    260\u001b[39m     redshifts = np.zeros(np.size(luminosities))\n",
      "\u001b[36mFile \u001b[39m\u001b[32m~/DGRB/aegis.py:554\u001b[39m, in \u001b[36maegis.draw_luminosities_and_radii\u001b[39m\u001b[34m(self, input_params, RL, R_array_func, L_array_func, grains, epsilon)\u001b[39m\n\u001b[32m    552\u001b[39m r = R_array_func(\u001b[32m0\u001b[39m + \u001b[32m1\u001b[39m, \u001b[38;5;28mself\u001b[39m.Rmax + \u001b[32m1\u001b[39m, grains) - \u001b[32m1\u001b[39m\n\u001b[32m    553\u001b[39m lums = L_array_func(\u001b[38;5;28mself\u001b[39m.Lmin + \u001b[32m1\u001b[39m, \u001b[38;5;28mself\u001b[39m.Lmax + \u001b[32m1\u001b[39m, grains) - \u001b[32m1\u001b[39m\n\u001b[32m--> \u001b[39m\u001b[32m554\u001b[39m RL_PDF = RL(np.tile(r[:-\u001b[32m1\u001b[39m],(grains-\u001b[32m1\u001b[39m,\u001b[32m1\u001b[39m)).T, np.tile(lums[:-\u001b[32m1\u001b[39m],(grains-\u001b[32m1\u001b[39m,\u001b[32m1\u001b[39m)), input_params)\n\u001b[32m    555\u001b[39m dVdL = np.tile(\u001b[32m4\u001b[39m/\u001b[32m3\u001b[39m*np.pi * (r[\u001b[32m1\u001b[39m:]**\u001b[32m3\u001b[39m-r[:-\u001b[32m1\u001b[39m]**\u001b[32m3\u001b[39m), (grains-\u001b[32m1\u001b[39m,\u001b[32m1\u001b[39m)).T * np.tile((lums[\u001b[32m1\u001b[39m:]-lums[:-\u001b[32m1\u001b[39m]), (grains-\u001b[32m1\u001b[39m,\u001b[32m1\u001b[39m))\n\u001b[32m    556\u001b[39m RL_integral = RL_PDF * dVdL\n",
      "\u001b[36mCell\u001b[39m\u001b[36m \u001b[39m\u001b[32mIn[15]\u001b[39m\u001b[32m, line 78\u001b[39m, in \u001b[36mDM_abundance_dR\u001b[39m\u001b[34m(r, L, params)\u001b[39m\n\u001b[32m     77\u001b[39m \u001b[38;5;28;01mdef\u001b[39;00m\u001b[38;5;250m \u001b[39m\u001b[34mDM_abundance_dR\u001b[39m(r, L, params): \u001b[38;5;66;03m# Returns the abundance function in the form dN/dR/dL. Note the dR. # this function needs to be passed to AEGIS\u001b[39;00m\n\u001b[32m---> \u001b[39m\u001b[32m78\u001b[39m     \u001b[38;5;28;01mreturn\u001b[39;00m \u001b[32m4\u001b[39m*np.pi*r**\u001b[32m2\u001b[39m * DM_abundance(r, L, params)\n",
      "\u001b[36mCell\u001b[39m\u001b[36m \u001b[39m\u001b[32mIn[15]\u001b[39m\u001b[32m, line 69\u001b[39m, in \u001b[36mDM_abundance\u001b[39m\u001b[34m(r, L, params)\u001b[39m\n\u001b[32m     67\u001b[39m \u001b[38;5;66;03m# Example usage:\u001b[39;00m\n\u001b[32m     68\u001b[39m M_tilde_min = \u001b[32m0.87\u001b[39m * np.log(\u001b[32m1\u001b[39m/\u001b[32m1e5\u001b[39m) \u001b[38;5;66;03m# M_min = 1 MSolar\u001b[39;00m\n\u001b[32m---> \u001b[39m\u001b[32m69\u001b[39m integral_M_tilde = compute_integral_M_tilde_simpson(M_tilde_min, \u001b[32m14.0\u001b[39m) \u001b[38;5;66;03m# The integrand 'integrand_M_tilde' is sufficiently suppressed for all M_tilde > 14.0\u001b[39;00m\n\u001b[32m     74\u001b[39m \u001b[38;5;28;01mreturn\u001b[39;00m \u001b[32m10\u001b[39m**(\u001b[32m5\u001b[39m*(\u001b[32m1\u001b[39m-beta)) * A / (\u001b[32m0.87\u001b[39m * L * r_tilde * (\u001b[32m1\u001b[39m+r_tilde)**\u001b[32m2\u001b[39m)   * integral_M_tilde\n",
      "\u001b[36mCell\u001b[39m\u001b[36m \u001b[39m\u001b[32mIn[15]\u001b[39m\u001b[32m, line 63\u001b[39m, in \u001b[36mDM_abundance.<locals>.compute_integral_M_tilde_simpson\u001b[39m\u001b[34m(M_min, M_max, n_points)\u001b[39m\n\u001b[32m     61\u001b[39m     n_points += \u001b[32m1\u001b[39m\n\u001b[32m     62\u001b[39m M = np.linspace(M_min, M_max, n_points)\n\u001b[32m---> \u001b[39m\u001b[32m63\u001b[39m y = integrand_M_tilde(M)\n\u001b[32m     64\u001b[39m \u001b[38;5;28;01mreturn\u001b[39;00m simpson(y, M)\n",
      "\u001b[36mCell\u001b[39m\u001b[36m \u001b[39m\u001b[32mIn[15]\u001b[39m\u001b[32m, line 48\u001b[39m, in \u001b[36mDM_abundance.<locals>.integrand_M_tilde\u001b[39m\u001b[34m(M_tilde)\u001b[39m\n\u001b[32m     47\u001b[39m \u001b[38;5;28;01mdef\u001b[39;00m\u001b[38;5;250m \u001b[39m\u001b[34mintegrand_M_tilde\u001b[39m(M_tilde):\n\u001b[32m---> \u001b[39m\u001b[32m48\u001b[39m     sigma = \u001b[32m0.74\u001b[39m + \u001b[32m0.011\u001b[39m * np.log(r/\u001b[32m50\u001b[39m) - \u001b[32m0.003\u001b[39m * M_tilde / \u001b[32m0.87\u001b[39m\n\u001b[32m     49\u001b[39m     Delta = np.log(L) - \u001b[32m77.4\u001b[39m + \u001b[32m0.23\u001b[39m*np.log(r/\u001b[32m50\u001b[39m) - np.log((\u001b[32m8\u001b[39m*np.pi*Phi_pp)/(\u001b[32m1e-28\u001b[39m)) \u001b[38;5;66;03m# unitless\u001b[39;00m\n\u001b[32m     50\u001b[39m     mu = sigma**\u001b[32m2\u001b[39m * (\u001b[32m1\u001b[39m-beta) / \u001b[32m0.87\u001b[39m  +  Delta\n",
      "\u001b[31mValueError\u001b[39m: operands could not be broadcast together with shapes (999,999) (10001,) "
     ]
    }
   ],
   "source": [
    "test_params = torch.tensor([A_DM_test, 0, mass_DM_GeV_test])\n",
    "test_photon_info = simulator(test_params)"
   ]
  },
  {
   "cell_type": "code",
   "execution_count": null,
   "id": "374f0160",
   "metadata": {},
   "outputs": [],
   "source": []
  }
 ],
 "metadata": {
  "kernelspec": {
   "display_name": "sbi_env",
   "language": "python",
   "name": "python3"
  },
  "language_info": {
   "codemirror_mode": {
    "name": "ipython",
    "version": 3
   },
   "file_extension": ".py",
   "mimetype": "text/x-python",
   "name": "python",
   "nbconvert_exporter": "python",
   "pygments_lexer": "ipython3",
   "version": "3.13.2"
  }
 },
 "nbformat": 4,
 "nbformat_minor": 5
}
